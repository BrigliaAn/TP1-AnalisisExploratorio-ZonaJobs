{
 "cells": [
  {
   "cell_type": "code",
   "execution_count": 1,
   "metadata": {},
   "outputs": [],
   "source": [
    "import pandas as pd\n",
    "import numpy as np\n",
    "import matplotlib.pyplot as plt\n",
    "\n",
    "%matplotlib inline"
   ]
  },
  {
   "cell_type": "markdown",
   "metadata": {},
   "source": [
    "# Navent Dataset\n",
    "### Analisis de las postulaciones del dataset de Navent"
   ]
  },
  {
   "cell_type": "code",
   "execution_count": null,
   "metadata": {},
   "outputs": [],
   "source": [
    "#cargo archivo csv de la educacion de los postulantes\n",
    "p_educacion = pd.read_csv('../data/fiuba_1_postulantes_educacion.csv')\n",
    "p_educacion.head()"
   ]
  },
  {
   "cell_type": "code",
   "execution_count": 2,
   "metadata": {},
   "outputs": [
    {
     "data": {
      "text/html": [
       "<div>\n",
       "<style scoped>\n",
       "    .dataframe tbody tr th:only-of-type {\n",
       "        vertical-align: middle;\n",
       "    }\n",
       "\n",
       "    .dataframe tbody tr th {\n",
       "        vertical-align: top;\n",
       "    }\n",
       "\n",
       "    .dataframe thead th {\n",
       "        text-align: right;\n",
       "    }\n",
       "</style>\n",
       "<table border=\"1\" class=\"dataframe\">\n",
       "  <thead>\n",
       "    <tr style=\"text-align: right;\">\n",
       "      <th></th>\n",
       "      <th>idpostulante</th>\n",
       "      <th>fechanacimiento</th>\n",
       "      <th>sexo</th>\n",
       "    </tr>\n",
       "  </thead>\n",
       "  <tbody>\n",
       "    <tr>\n",
       "      <th>0</th>\n",
       "      <td>NM5M</td>\n",
       "      <td>1970-12-03</td>\n",
       "      <td>FEM</td>\n",
       "    </tr>\n",
       "    <tr>\n",
       "      <th>1</th>\n",
       "      <td>5awk</td>\n",
       "      <td>1962-12-04</td>\n",
       "      <td>FEM</td>\n",
       "    </tr>\n",
       "    <tr>\n",
       "      <th>2</th>\n",
       "      <td>ZaO5</td>\n",
       "      <td>1978-08-10</td>\n",
       "      <td>FEM</td>\n",
       "    </tr>\n",
       "    <tr>\n",
       "      <th>3</th>\n",
       "      <td>NdJl</td>\n",
       "      <td>1969-05-09</td>\n",
       "      <td>MASC</td>\n",
       "    </tr>\n",
       "    <tr>\n",
       "      <th>4</th>\n",
       "      <td>eo2p</td>\n",
       "      <td>1981-02-16</td>\n",
       "      <td>MASC</td>\n",
       "    </tr>\n",
       "  </tbody>\n",
       "</table>\n",
       "</div>"
      ],
      "text/plain": [
       "  idpostulante fechanacimiento  sexo\n",
       "0         NM5M      1970-12-03   FEM\n",
       "1         5awk      1962-12-04   FEM\n",
       "2         ZaO5      1978-08-10   FEM\n",
       "3         NdJl      1969-05-09  MASC\n",
       "4         eo2p      1981-02-16  MASC"
      ]
     },
     "execution_count": 2,
     "metadata": {},
     "output_type": "execute_result"
    }
   ],
   "source": [
    "#cargo archivo csv del genero y edad de los postulantes\n",
    "p_genero_edad = pd.read_csv('../data/fiuba_2_postulantes_genero_y_edad.csv')\n",
    "p_genero_edad.head()"
   ]
  },
  {
   "cell_type": "code",
   "execution_count": null,
   "metadata": {},
   "outputs": [],
   "source": [
    "#cargo archivo csv de las vistas\n",
    "visitas = pd.read_csv('../data/fiuba_3_vistas.csv')\n",
    "visitas.head()"
   ]
  },
  {
   "cell_type": "code",
   "execution_count": 3,
   "metadata": {},
   "outputs": [
    {
     "data": {
      "text/html": [
       "<div>\n",
       "<style scoped>\n",
       "    .dataframe tbody tr th:only-of-type {\n",
       "        vertical-align: middle;\n",
       "    }\n",
       "\n",
       "    .dataframe tbody tr th {\n",
       "        vertical-align: top;\n",
       "    }\n",
       "\n",
       "    .dataframe thead th {\n",
       "        text-align: right;\n",
       "    }\n",
       "</style>\n",
       "<table border=\"1\" class=\"dataframe\">\n",
       "  <thead>\n",
       "    <tr style=\"text-align: right;\">\n",
       "      <th></th>\n",
       "      <th>idaviso</th>\n",
       "      <th>idpostulante</th>\n",
       "      <th>fechapostulacion</th>\n",
       "    </tr>\n",
       "  </thead>\n",
       "  <tbody>\n",
       "    <tr>\n",
       "      <th>0</th>\n",
       "      <td>1112257047</td>\n",
       "      <td>NM5M</td>\n",
       "      <td>2018-01-15 16:22:34</td>\n",
       "    </tr>\n",
       "    <tr>\n",
       "      <th>1</th>\n",
       "      <td>1111920714</td>\n",
       "      <td>NM5M</td>\n",
       "      <td>2018-02-06 09:04:50</td>\n",
       "    </tr>\n",
       "    <tr>\n",
       "      <th>2</th>\n",
       "      <td>1112346945</td>\n",
       "      <td>NM5M</td>\n",
       "      <td>2018-02-22 09:04:47</td>\n",
       "    </tr>\n",
       "    <tr>\n",
       "      <th>3</th>\n",
       "      <td>1112345547</td>\n",
       "      <td>NM5M</td>\n",
       "      <td>2018-02-22 09:04:59</td>\n",
       "    </tr>\n",
       "    <tr>\n",
       "      <th>4</th>\n",
       "      <td>1112237522</td>\n",
       "      <td>5awk</td>\n",
       "      <td>2018-01-25 18:55:03</td>\n",
       "    </tr>\n",
       "  </tbody>\n",
       "</table>\n",
       "</div>"
      ],
      "text/plain": [
       "      idaviso idpostulante     fechapostulacion\n",
       "0  1112257047         NM5M  2018-01-15 16:22:34\n",
       "1  1111920714         NM5M  2018-02-06 09:04:50\n",
       "2  1112346945         NM5M  2018-02-22 09:04:47\n",
       "3  1112345547         NM5M  2018-02-22 09:04:59\n",
       "4  1112237522         5awk  2018-01-25 18:55:03"
      ]
     },
     "execution_count": 3,
     "metadata": {},
     "output_type": "execute_result"
    }
   ],
   "source": [
    "#cargo csv de postulaciones\n",
    "postulaciones = pd.read_csv('../data/fiuba_4_postulaciones.csv')\n",
    "postulaciones.head()"
   ]
  },
  {
   "cell_type": "code",
   "execution_count": null,
   "metadata": {},
   "outputs": [],
   "source": [
    "#cargo csv de avisos\n",
    "avisos_online = pd.read_csv('../data/fiuba_5_avisos_online.csv')\n",
    "avisos_online.head()"
   ]
  },
  {
   "cell_type": "code",
   "execution_count": 4,
   "metadata": {},
   "outputs": [
    {
     "data": {
      "text/html": [
       "<div>\n",
       "<style scoped>\n",
       "    .dataframe tbody tr th:only-of-type {\n",
       "        vertical-align: middle;\n",
       "    }\n",
       "\n",
       "    .dataframe tbody tr th {\n",
       "        vertical-align: top;\n",
       "    }\n",
       "\n",
       "    .dataframe thead th {\n",
       "        text-align: right;\n",
       "    }\n",
       "</style>\n",
       "<table border=\"1\" class=\"dataframe\">\n",
       "  <thead>\n",
       "    <tr style=\"text-align: right;\">\n",
       "      <th></th>\n",
       "      <th>idaviso</th>\n",
       "      <th>idpais</th>\n",
       "      <th>titulo</th>\n",
       "      <th>descripcion</th>\n",
       "      <th>nombre_zona</th>\n",
       "      <th>ciudad</th>\n",
       "      <th>mapacalle</th>\n",
       "      <th>tipo_de_trabajo</th>\n",
       "      <th>nivel_laboral</th>\n",
       "      <th>nombre_area</th>\n",
       "      <th>denominacion_empresa</th>\n",
       "    </tr>\n",
       "  </thead>\n",
       "  <tbody>\n",
       "    <tr>\n",
       "      <th>0</th>\n",
       "      <td>8725750</td>\n",
       "      <td>1</td>\n",
       "      <td>VENDEDOR/A PROVINCIA DE SANTA FE</td>\n",
       "      <td>&lt;p&gt;&lt;strong&gt;&lt;strong&gt;Empresa:&lt;/strong&gt;&lt;/strong&gt; ...</td>\n",
       "      <td>Gran Buenos Aires</td>\n",
       "      <td>NaN</td>\n",
       "      <td>NaN</td>\n",
       "      <td>Full-time</td>\n",
       "      <td>Senior / Semi-Senior</td>\n",
       "      <td>Comercial</td>\n",
       "      <td>VENTOR</td>\n",
       "    </tr>\n",
       "    <tr>\n",
       "      <th>1</th>\n",
       "      <td>17903700</td>\n",
       "      <td>1</td>\n",
       "      <td>Enfermeras</td>\n",
       "      <td>&lt;p&gt;Solicitamos para importante cadena de farma...</td>\n",
       "      <td>Gran Buenos Aires</td>\n",
       "      <td>NaN</td>\n",
       "      <td>NaN</td>\n",
       "      <td>Full-time</td>\n",
       "      <td>Senior / Semi-Senior</td>\n",
       "      <td>Salud</td>\n",
       "      <td>Farmacias Central Oeste</td>\n",
       "    </tr>\n",
       "    <tr>\n",
       "      <th>2</th>\n",
       "      <td>1000150677</td>\n",
       "      <td>1</td>\n",
       "      <td>Chofer de taxi</td>\n",
       "      <td>&lt;p&gt;TE GUSTA MANEJAR? QUERES GANAR PLATA HACIEN...</td>\n",
       "      <td>Capital Federal</td>\n",
       "      <td>NaN</td>\n",
       "      <td>Empedrado 2336</td>\n",
       "      <td>Full-time</td>\n",
       "      <td>Senior / Semi-Senior</td>\n",
       "      <td>Transporte</td>\n",
       "      <td>FAMITAX SRL</td>\n",
       "    </tr>\n",
       "    <tr>\n",
       "      <th>3</th>\n",
       "      <td>1000610287</td>\n",
       "      <td>1</td>\n",
       "      <td>CHOFER DE CAMIONETA BAHIA BLANCA - PUNTA ALTA</td>\n",
       "      <td>&lt;p&gt;&lt;strong&gt;Somos una empresa multinacional que...</td>\n",
       "      <td>Gran Buenos Aires</td>\n",
       "      <td>NaN</td>\n",
       "      <td>NaN</td>\n",
       "      <td>Full-time</td>\n",
       "      <td>Senior / Semi-Senior</td>\n",
       "      <td>Transporte</td>\n",
       "      <td>Wurth Argentina S.A</td>\n",
       "    </tr>\n",
       "    <tr>\n",
       "      <th>4</th>\n",
       "      <td>1000872556</td>\n",
       "      <td>1</td>\n",
       "      <td>Operarios de Planta - Rubro Electrodomésticos</td>\n",
       "      <td>&lt;p&gt;&lt;strong&gt;OPERARIOS DE PLANTA&lt;/strong&gt;&lt;/p&gt;&lt;p&gt;...</td>\n",
       "      <td>Gran Buenos Aires</td>\n",
       "      <td>NaN</td>\n",
       "      <td>NaN</td>\n",
       "      <td>Full-time</td>\n",
       "      <td>Senior / Semi-Senior</td>\n",
       "      <td>Producción</td>\n",
       "      <td>ELECTRO OUTLET SRL</td>\n",
       "    </tr>\n",
       "  </tbody>\n",
       "</table>\n",
       "</div>"
      ],
      "text/plain": [
       "      idaviso  idpais                                         titulo  \\\n",
       "0     8725750       1               VENDEDOR/A PROVINCIA DE SANTA FE   \n",
       "1    17903700       1                                     Enfermeras   \n",
       "2  1000150677       1                                 Chofer de taxi   \n",
       "3  1000610287       1  CHOFER DE CAMIONETA BAHIA BLANCA - PUNTA ALTA   \n",
       "4  1000872556       1  Operarios de Planta - Rubro Electrodomésticos   \n",
       "\n",
       "                                         descripcion        nombre_zona  \\\n",
       "0  <p><strong><strong>Empresa:</strong></strong> ...  Gran Buenos Aires   \n",
       "1  <p>Solicitamos para importante cadena de farma...  Gran Buenos Aires   \n",
       "2  <p>TE GUSTA MANEJAR? QUERES GANAR PLATA HACIEN...    Capital Federal   \n",
       "3  <p><strong>Somos una empresa multinacional que...  Gran Buenos Aires   \n",
       "4  <p><strong>OPERARIOS DE PLANTA</strong></p><p>...  Gran Buenos Aires   \n",
       "\n",
       "  ciudad       mapacalle tipo_de_trabajo         nivel_laboral nombre_area  \\\n",
       "0    NaN             NaN       Full-time  Senior / Semi-Senior   Comercial   \n",
       "1    NaN             NaN       Full-time  Senior / Semi-Senior       Salud   \n",
       "2    NaN  Empedrado 2336       Full-time  Senior / Semi-Senior  Transporte   \n",
       "3    NaN             NaN       Full-time  Senior / Semi-Senior  Transporte   \n",
       "4    NaN             NaN       Full-time  Senior / Semi-Senior  Producción   \n",
       "\n",
       "      denominacion_empresa  \n",
       "0                   VENTOR  \n",
       "1  Farmacias Central Oeste  \n",
       "2              FAMITAX SRL  \n",
       "3      Wurth Argentina S.A  \n",
       "4       ELECTRO OUTLET SRL  "
      ]
     },
     "execution_count": 4,
     "metadata": {},
     "output_type": "execute_result"
    }
   ],
   "source": [
    "#cargo csv de detalle de avisos\n",
    "avisos_detalle = pd.read_csv('../data/fiuba_6_avisos_detalle.csv')\n",
    "avisos_detalle.head()"
   ]
  },
  {
   "cell_type": "markdown",
   "metadata": {},
   "source": [
    "# Vista rapida de datos"
   ]
  },
  {
   "cell_type": "code",
   "execution_count": null,
   "metadata": {},
   "outputs": [],
   "source": [
    "avisos_detalle.shape"
   ]
  },
  {
   "cell_type": "code",
   "execution_count": null,
   "metadata": {},
   "outputs": [],
   "source": [
    "#columnas ciudad y mapacalle no deberian ser usadas, demasiados elementos null\n",
    "avisos_detalle.isnull().sum()"
   ]
  },
  {
   "cell_type": "code",
   "execution_count": null,
   "metadata": {},
   "outputs": [],
   "source": [
    "avisos_detalle.info()"
   ]
  },
  {
   "cell_type": "code",
   "execution_count": null,
   "metadata": {},
   "outputs": [],
   "source": [
    "#dropeo las columnas con muchos null\n",
    "avisos_detalle.drop('mapacalle', axis=1, inplace=True)\n",
    "avisos_detalle.drop('ciudad', axis=1, inplace=True)"
   ]
  },
  {
   "cell_type": "code",
   "execution_count": null,
   "metadata": {},
   "outputs": [],
   "source": [
    "postulaciones.shape"
   ]
  },
  {
   "cell_type": "code",
   "execution_count": null,
   "metadata": {},
   "outputs": [],
   "source": [
    "postulaciones.isnull().sum()"
   ]
  },
  {
   "cell_type": "code",
   "execution_count": null,
   "metadata": {},
   "outputs": [],
   "source": [
    "postulaciones.info()"
   ]
  },
  {
   "cell_type": "code",
   "execution_count": null,
   "metadata": {},
   "outputs": [],
   "source": [
    "visitas.shape"
   ]
  },
  {
   "cell_type": "code",
   "execution_count": null,
   "metadata": {},
   "outputs": [],
   "source": [
    "visitas.isnull().sum()"
   ]
  },
  {
   "cell_type": "code",
   "execution_count": null,
   "metadata": {},
   "outputs": [],
   "source": [
    "visitas.info()"
   ]
  },
  {
   "cell_type": "code",
   "execution_count": null,
   "metadata": {},
   "outputs": [],
   "source": [
    "p_educacion.shape"
   ]
  },
  {
   "cell_type": "code",
   "execution_count": null,
   "metadata": {},
   "outputs": [],
   "source": [
    "p_educacion.isnull().sum()"
   ]
  },
  {
   "cell_type": "code",
   "execution_count": null,
   "metadata": {},
   "outputs": [],
   "source": [
    "p_educacion.info()"
   ]
  },
  {
   "cell_type": "code",
   "execution_count": null,
   "metadata": {},
   "outputs": [],
   "source": [
    "p_genero_edad.shape"
   ]
  },
  {
   "cell_type": "code",
   "execution_count": null,
   "metadata": {},
   "outputs": [],
   "source": [
    "p_genero_edad.isnull().sum()"
   ]
  },
  {
   "cell_type": "code",
   "execution_count": null,
   "metadata": {},
   "outputs": [],
   "source": [
    "p_genero_edad.info()"
   ]
  },
  {
   "cell_type": "markdown",
   "metadata": {},
   "source": [
    "# Limpieza de datos\n",
    "En esta seccion limpiaremos los datos y los dejaremos preparados para el análisis. Los pasos a seguir son:\n",
    "- Convertir las fechas de postulaciones a datetime\n",
    "- Limpiar los espacios en blanco y Nan de las fechas de nacimiento de los postulantes\n",
    "- Los null de mapacalle y ciudad ???"
   ]
  },
  {
   "cell_type": "code",
   "execution_count": 5,
   "metadata": {},
   "outputs": [
    {
     "name": "stdout",
     "output_type": "stream",
     "text": [
      "2018-02-28 23:59:55\n",
      "2018-01-15 00:00:01\n"
     ]
    }
   ],
   "source": [
    "#Cambio la fecha a datetime\n",
    "postulaciones['fechapostulacion'] = pd.to_datetime(postulaciones['fechapostulacion'])\n",
    "print(postulaciones['fechapostulacion'].max())\n",
    "print(postulaciones['fechapostulacion'].min())"
   ]
  },
  {
   "cell_type": "code",
   "execution_count": null,
   "metadata": {},
   "outputs": [],
   "source": [
    "postulaciones['fechapostulacion'].head()"
   ]
  },
  {
   "cell_type": "code",
   "execution_count": null,
   "metadata": {},
   "outputs": [],
   "source": [
    "#Cambio timestamp a datetime\n",
    "visitas['timestamp'] = pd.to_datetime(visitas['timestamp'])\n",
    "print(visitas['timestamp'].max())\n",
    "print(visitas['timestamp'].min())"
   ]
  },
  {
   "cell_type": "code",
   "execution_count": null,
   "metadata": {},
   "outputs": [],
   "source": [
    "visitas['timestamp'].head()"
   ]
  },
  {
   "cell_type": "code",
   "execution_count": null,
   "metadata": {},
   "outputs": [],
   "source": [
    "#vemos que hay fechas vacias\n",
    "for x in p_genero_edad['fechanacimiento'].drop_duplicates():\n",
    "    print ([x])"
   ]
  },
  {
   "cell_type": "code",
   "execution_count": 6,
   "metadata": {},
   "outputs": [
    {
     "name": "stdout",
     "output_type": "stream",
     "text": [
      "200888\n",
      "196138\n"
     ]
    }
   ],
   "source": [
    "#p_edad=p_genero_edad[['fechanacimiento','idpostulante']]\n",
    "#separo en dos dataframes para poder utilizar datos del sexo que se perderian si dropeamos junto con las fechas invalidas\n",
    "p_edad=p_genero_edad.loc[:,('fechanacimiento','idpostulante')]\n",
    "p_genero=p_genero_edad.loc[:,('sexo','idpostulante')]\n",
    "print(len(p_edad))\n",
    "p_edad.dropna(inplace=True)\n",
    "print(len(p_edad))"
   ]
  },
  {
   "cell_type": "code",
   "execution_count": null,
   "metadata": {},
   "outputs": [],
   "source": [
    "#siguen habiendo años invalidos\n",
    "p_edad.sort_values('fechanacimiento',ascending=False)"
   ]
  },
  {
   "cell_type": "code",
   "execution_count": 7,
   "metadata": {},
   "outputs": [],
   "source": [
    "#me quedo con los años validos\n",
    "p_edad = p_edad[(p_edad['fechanacimiento'].str.startswith('19'))| (p_edad['fechanacimiento'].str.startswith('20'))]"
   ]
  },
  {
   "cell_type": "code",
   "execution_count": null,
   "metadata": {},
   "outputs": [],
   "source": [
    "#veo que los años que empezaban en 00 no estan mas\n",
    "p_edad.sort_values('fechanacimiento',ascending=False)"
   ]
  },
  {
   "cell_type": "code",
   "execution_count": 8,
   "metadata": {},
   "outputs": [
    {
     "data": {
      "text/html": [
       "<div>\n",
       "<style scoped>\n",
       "    .dataframe tbody tr th:only-of-type {\n",
       "        vertical-align: middle;\n",
       "    }\n",
       "\n",
       "    .dataframe tbody tr th {\n",
       "        vertical-align: top;\n",
       "    }\n",
       "\n",
       "    .dataframe thead th {\n",
       "        text-align: right;\n",
       "    }\n",
       "</style>\n",
       "<table border=\"1\" class=\"dataframe\">\n",
       "  <thead>\n",
       "    <tr style=\"text-align: right;\">\n",
       "      <th></th>\n",
       "      <th>fechanacimiento</th>\n",
       "      <th>idpostulante</th>\n",
       "      <th>edad</th>\n",
       "    </tr>\n",
       "  </thead>\n",
       "  <tbody>\n",
       "    <tr>\n",
       "      <th>0</th>\n",
       "      <td>1970-12-03</td>\n",
       "      <td>NM5M</td>\n",
       "      <td>48</td>\n",
       "    </tr>\n",
       "    <tr>\n",
       "      <th>1</th>\n",
       "      <td>1962-12-04</td>\n",
       "      <td>5awk</td>\n",
       "      <td>56</td>\n",
       "    </tr>\n",
       "    <tr>\n",
       "      <th>2</th>\n",
       "      <td>1978-08-10</td>\n",
       "      <td>ZaO5</td>\n",
       "      <td>40</td>\n",
       "    </tr>\n",
       "    <tr>\n",
       "      <th>3</th>\n",
       "      <td>1969-05-09</td>\n",
       "      <td>NdJl</td>\n",
       "      <td>49</td>\n",
       "    </tr>\n",
       "    <tr>\n",
       "      <th>4</th>\n",
       "      <td>1981-02-16</td>\n",
       "      <td>eo2p</td>\n",
       "      <td>37</td>\n",
       "    </tr>\n",
       "    <tr>\n",
       "      <th>5</th>\n",
       "      <td>1968-12-18</td>\n",
       "      <td>Ez8J</td>\n",
       "      <td>50</td>\n",
       "    </tr>\n",
       "    <tr>\n",
       "      <th>6</th>\n",
       "      <td>1966-07-16</td>\n",
       "      <td>aOQq</td>\n",
       "      <td>52</td>\n",
       "    </tr>\n",
       "    <tr>\n",
       "      <th>7</th>\n",
       "      <td>1976-07-21</td>\n",
       "      <td>8BkL</td>\n",
       "      <td>42</td>\n",
       "    </tr>\n",
       "    <tr>\n",
       "      <th>8</th>\n",
       "      <td>1976-02-28</td>\n",
       "      <td>1d2B</td>\n",
       "      <td>42</td>\n",
       "    </tr>\n",
       "    <tr>\n",
       "      <th>9</th>\n",
       "      <td>1981-03-09</td>\n",
       "      <td>NPBx</td>\n",
       "      <td>37</td>\n",
       "    </tr>\n",
       "    <tr>\n",
       "      <th>10</th>\n",
       "      <td>1973-02-13</td>\n",
       "      <td>NRE5</td>\n",
       "      <td>45</td>\n",
       "    </tr>\n",
       "    <tr>\n",
       "      <th>11</th>\n",
       "      <td>1963-04-09</td>\n",
       "      <td>YGBY</td>\n",
       "      <td>55</td>\n",
       "    </tr>\n",
       "    <tr>\n",
       "      <th>12</th>\n",
       "      <td>1967-01-30</td>\n",
       "      <td>6aGl</td>\n",
       "      <td>51</td>\n",
       "    </tr>\n",
       "    <tr>\n",
       "      <th>13</th>\n",
       "      <td>1977-07-16</td>\n",
       "      <td>EbVz</td>\n",
       "      <td>41</td>\n",
       "    </tr>\n",
       "    <tr>\n",
       "      <th>14</th>\n",
       "      <td>1973-09-11</td>\n",
       "      <td>EBO0</td>\n",
       "      <td>45</td>\n",
       "    </tr>\n",
       "    <tr>\n",
       "      <th>15</th>\n",
       "      <td>1954-08-30</td>\n",
       "      <td>10bb</td>\n",
       "      <td>64</td>\n",
       "    </tr>\n",
       "    <tr>\n",
       "      <th>16</th>\n",
       "      <td>1959-01-05</td>\n",
       "      <td>eWO2</td>\n",
       "      <td>59</td>\n",
       "    </tr>\n",
       "    <tr>\n",
       "      <th>17</th>\n",
       "      <td>1976-09-03</td>\n",
       "      <td>6Kbl</td>\n",
       "      <td>42</td>\n",
       "    </tr>\n",
       "    <tr>\n",
       "      <th>18</th>\n",
       "      <td>1964-01-19</td>\n",
       "      <td>Ym2X</td>\n",
       "      <td>54</td>\n",
       "    </tr>\n",
       "    <tr>\n",
       "      <th>19</th>\n",
       "      <td>1971-11-08</td>\n",
       "      <td>ZqWb</td>\n",
       "      <td>47</td>\n",
       "    </tr>\n",
       "    <tr>\n",
       "      <th>20</th>\n",
       "      <td>1974-05-06</td>\n",
       "      <td>ZKl5</td>\n",
       "      <td>44</td>\n",
       "    </tr>\n",
       "    <tr>\n",
       "      <th>21</th>\n",
       "      <td>1963-03-10</td>\n",
       "      <td>eBAB</td>\n",
       "      <td>55</td>\n",
       "    </tr>\n",
       "    <tr>\n",
       "      <th>22</th>\n",
       "      <td>1966-05-30</td>\n",
       "      <td>N2Vx</td>\n",
       "      <td>52</td>\n",
       "    </tr>\n",
       "    <tr>\n",
       "      <th>23</th>\n",
       "      <td>1966-03-01</td>\n",
       "      <td>EDD99</td>\n",
       "      <td>52</td>\n",
       "    </tr>\n",
       "    <tr>\n",
       "      <th>24</th>\n",
       "      <td>1969-07-17</td>\n",
       "      <td>ED0l4</td>\n",
       "      <td>49</td>\n",
       "    </tr>\n",
       "    <tr>\n",
       "      <th>25</th>\n",
       "      <td>1976-01-25</td>\n",
       "      <td>NAMRl</td>\n",
       "      <td>42</td>\n",
       "    </tr>\n",
       "    <tr>\n",
       "      <th>26</th>\n",
       "      <td>1966-06-29</td>\n",
       "      <td>Y0Q2Z</td>\n",
       "      <td>52</td>\n",
       "    </tr>\n",
       "    <tr>\n",
       "      <th>27</th>\n",
       "      <td>1967-06-04</td>\n",
       "      <td>ZjDRz</td>\n",
       "      <td>51</td>\n",
       "    </tr>\n",
       "    <tr>\n",
       "      <th>28</th>\n",
       "      <td>1979-03-24</td>\n",
       "      <td>Y043Z</td>\n",
       "      <td>39</td>\n",
       "    </tr>\n",
       "    <tr>\n",
       "      <th>29</th>\n",
       "      <td>1972-06-29</td>\n",
       "      <td>eRpw9</td>\n",
       "      <td>46</td>\n",
       "    </tr>\n",
       "    <tr>\n",
       "      <th>...</th>\n",
       "      <td>...</td>\n",
       "      <td>...</td>\n",
       "      <td>...</td>\n",
       "    </tr>\n",
       "    <tr>\n",
       "      <th>200852</th>\n",
       "      <td>1997-01-05</td>\n",
       "      <td>ow2p8Wr</td>\n",
       "      <td>21</td>\n",
       "    </tr>\n",
       "    <tr>\n",
       "      <th>200853</th>\n",
       "      <td>1999-06-24</td>\n",
       "      <td>dYj4qr2</td>\n",
       "      <td>19</td>\n",
       "    </tr>\n",
       "    <tr>\n",
       "      <th>200854</th>\n",
       "      <td>1997-10-02</td>\n",
       "      <td>pzdkx1p</td>\n",
       "      <td>21</td>\n",
       "    </tr>\n",
       "    <tr>\n",
       "      <th>200855</th>\n",
       "      <td>1999-07-24</td>\n",
       "      <td>GNZqAbb</td>\n",
       "      <td>19</td>\n",
       "    </tr>\n",
       "    <tr>\n",
       "      <th>200856</th>\n",
       "      <td>1988-05-31</td>\n",
       "      <td>akjVlK9</td>\n",
       "      <td>30</td>\n",
       "    </tr>\n",
       "    <tr>\n",
       "      <th>200857</th>\n",
       "      <td>1995-05-14</td>\n",
       "      <td>rmdlBJ9</td>\n",
       "      <td>23</td>\n",
       "    </tr>\n",
       "    <tr>\n",
       "      <th>200858</th>\n",
       "      <td>1982-04-15</td>\n",
       "      <td>GNZqARp</td>\n",
       "      <td>36</td>\n",
       "    </tr>\n",
       "    <tr>\n",
       "      <th>200859</th>\n",
       "      <td>1977-04-06</td>\n",
       "      <td>vVja48E</td>\n",
       "      <td>41</td>\n",
       "    </tr>\n",
       "    <tr>\n",
       "      <th>200860</th>\n",
       "      <td>1998-10-02</td>\n",
       "      <td>A3X4Em6</td>\n",
       "      <td>20</td>\n",
       "    </tr>\n",
       "    <tr>\n",
       "      <th>200861</th>\n",
       "      <td>1996-07-08</td>\n",
       "      <td>QNrBoJz</td>\n",
       "      <td>22</td>\n",
       "    </tr>\n",
       "    <tr>\n",
       "      <th>200862</th>\n",
       "      <td>1988-01-01</td>\n",
       "      <td>LNKp0ap</td>\n",
       "      <td>30</td>\n",
       "    </tr>\n",
       "    <tr>\n",
       "      <th>200863</th>\n",
       "      <td>1994-03-02</td>\n",
       "      <td>rmdlBE9</td>\n",
       "      <td>24</td>\n",
       "    </tr>\n",
       "    <tr>\n",
       "      <th>200864</th>\n",
       "      <td>1995-07-05</td>\n",
       "      <td>GNZqA2p</td>\n",
       "      <td>23</td>\n",
       "    </tr>\n",
       "    <tr>\n",
       "      <th>200865</th>\n",
       "      <td>1990-03-21</td>\n",
       "      <td>ow2p8vk</td>\n",
       "      <td>28</td>\n",
       "    </tr>\n",
       "    <tr>\n",
       "      <th>200866</th>\n",
       "      <td>1990-08-25</td>\n",
       "      <td>akjVl35</td>\n",
       "      <td>28</td>\n",
       "    </tr>\n",
       "    <tr>\n",
       "      <th>200867</th>\n",
       "      <td>1997-07-22</td>\n",
       "      <td>6rPEvwv</td>\n",
       "      <td>21</td>\n",
       "    </tr>\n",
       "    <tr>\n",
       "      <th>200868</th>\n",
       "      <td>1996-04-26</td>\n",
       "      <td>vVja45X</td>\n",
       "      <td>22</td>\n",
       "    </tr>\n",
       "    <tr>\n",
       "      <th>200869</th>\n",
       "      <td>1988-08-26</td>\n",
       "      <td>xkd65wV</td>\n",
       "      <td>30</td>\n",
       "    </tr>\n",
       "    <tr>\n",
       "      <th>200871</th>\n",
       "      <td>1999-08-10</td>\n",
       "      <td>mzdNo99</td>\n",
       "      <td>19</td>\n",
       "    </tr>\n",
       "    <tr>\n",
       "      <th>200873</th>\n",
       "      <td>1997-01-11</td>\n",
       "      <td>JBrNMNk</td>\n",
       "      <td>21</td>\n",
       "    </tr>\n",
       "    <tr>\n",
       "      <th>200874</th>\n",
       "      <td>1993-02-19</td>\n",
       "      <td>Ezem8m6</td>\n",
       "      <td>25</td>\n",
       "    </tr>\n",
       "    <tr>\n",
       "      <th>200875</th>\n",
       "      <td>1994-07-26</td>\n",
       "      <td>A3X4E41</td>\n",
       "      <td>24</td>\n",
       "    </tr>\n",
       "    <tr>\n",
       "      <th>200877</th>\n",
       "      <td>1992-11-29</td>\n",
       "      <td>PmGP9vJ</td>\n",
       "      <td>26</td>\n",
       "    </tr>\n",
       "    <tr>\n",
       "      <th>200878</th>\n",
       "      <td>1997-07-08</td>\n",
       "      <td>GNZqAaE</td>\n",
       "      <td>21</td>\n",
       "    </tr>\n",
       "    <tr>\n",
       "      <th>200881</th>\n",
       "      <td>1997-06-23</td>\n",
       "      <td>vVja4x5</td>\n",
       "      <td>21</td>\n",
       "    </tr>\n",
       "    <tr>\n",
       "      <th>200882</th>\n",
       "      <td>1997-04-22</td>\n",
       "      <td>6rPEver</td>\n",
       "      <td>21</td>\n",
       "    </tr>\n",
       "    <tr>\n",
       "      <th>200883</th>\n",
       "      <td>1988-01-07</td>\n",
       "      <td>1QPMbX3</td>\n",
       "      <td>30</td>\n",
       "    </tr>\n",
       "    <tr>\n",
       "      <th>200884</th>\n",
       "      <td>1998-05-09</td>\n",
       "      <td>0zPa0eq</td>\n",
       "      <td>20</td>\n",
       "    </tr>\n",
       "    <tr>\n",
       "      <th>200885</th>\n",
       "      <td>1997-03-06</td>\n",
       "      <td>2zP6Jd0</td>\n",
       "      <td>21</td>\n",
       "    </tr>\n",
       "    <tr>\n",
       "      <th>200886</th>\n",
       "      <td>1997-07-07</td>\n",
       "      <td>8MPoxDW</td>\n",
       "      <td>21</td>\n",
       "    </tr>\n",
       "  </tbody>\n",
       "</table>\n",
       "<p>196130 rows × 3 columns</p>\n",
       "</div>"
      ],
      "text/plain": [
       "       fechanacimiento idpostulante  edad\n",
       "0           1970-12-03         NM5M    48\n",
       "1           1962-12-04         5awk    56\n",
       "2           1978-08-10         ZaO5    40\n",
       "3           1969-05-09         NdJl    49\n",
       "4           1981-02-16         eo2p    37\n",
       "5           1968-12-18         Ez8J    50\n",
       "6           1966-07-16         aOQq    52\n",
       "7           1976-07-21         8BkL    42\n",
       "8           1976-02-28         1d2B    42\n",
       "9           1981-03-09         NPBx    37\n",
       "10          1973-02-13         NRE5    45\n",
       "11          1963-04-09         YGBY    55\n",
       "12          1967-01-30         6aGl    51\n",
       "13          1977-07-16         EbVz    41\n",
       "14          1973-09-11         EBO0    45\n",
       "15          1954-08-30         10bb    64\n",
       "16          1959-01-05         eWO2    59\n",
       "17          1976-09-03         6Kbl    42\n",
       "18          1964-01-19         Ym2X    54\n",
       "19          1971-11-08         ZqWb    47\n",
       "20          1974-05-06         ZKl5    44\n",
       "21          1963-03-10         eBAB    55\n",
       "22          1966-05-30         N2Vx    52\n",
       "23          1966-03-01        EDD99    52\n",
       "24          1969-07-17        ED0l4    49\n",
       "25          1976-01-25        NAMRl    42\n",
       "26          1966-06-29        Y0Q2Z    52\n",
       "27          1967-06-04        ZjDRz    51\n",
       "28          1979-03-24        Y043Z    39\n",
       "29          1972-06-29        eRpw9    46\n",
       "...                ...          ...   ...\n",
       "200852      1997-01-05      ow2p8Wr    21\n",
       "200853      1999-06-24      dYj4qr2    19\n",
       "200854      1997-10-02      pzdkx1p    21\n",
       "200855      1999-07-24      GNZqAbb    19\n",
       "200856      1988-05-31      akjVlK9    30\n",
       "200857      1995-05-14      rmdlBJ9    23\n",
       "200858      1982-04-15      GNZqARp    36\n",
       "200859      1977-04-06      vVja48E    41\n",
       "200860      1998-10-02      A3X4Em6    20\n",
       "200861      1996-07-08      QNrBoJz    22\n",
       "200862      1988-01-01      LNKp0ap    30\n",
       "200863      1994-03-02      rmdlBE9    24\n",
       "200864      1995-07-05      GNZqA2p    23\n",
       "200865      1990-03-21      ow2p8vk    28\n",
       "200866      1990-08-25      akjVl35    28\n",
       "200867      1997-07-22      6rPEvwv    21\n",
       "200868      1996-04-26      vVja45X    22\n",
       "200869      1988-08-26      xkd65wV    30\n",
       "200871      1999-08-10      mzdNo99    19\n",
       "200873      1997-01-11      JBrNMNk    21\n",
       "200874      1993-02-19      Ezem8m6    25\n",
       "200875      1994-07-26      A3X4E41    24\n",
       "200877      1992-11-29      PmGP9vJ    26\n",
       "200878      1997-07-08      GNZqAaE    21\n",
       "200881      1997-06-23      vVja4x5    21\n",
       "200882      1997-04-22      6rPEver    21\n",
       "200883      1988-01-07      1QPMbX3    30\n",
       "200884      1998-05-09      0zPa0eq    20\n",
       "200885      1997-03-06      2zP6Jd0    21\n",
       "200886      1997-07-07      8MPoxDW    21\n",
       "\n",
       "[196130 rows x 3 columns]"
      ]
     },
     "execution_count": 8,
     "metadata": {},
     "output_type": "execute_result"
    }
   ],
   "source": [
    "#calculo la edad de los postulantes\n",
    "p_edad['edad'] = pd.to_datetime('today').year-pd.to_datetime(p_edad['fechanacimiento']).dt.year\n",
    "p_edad"
   ]
  },
  {
   "cell_type": "code",
   "execution_count": null,
   "metadata": {},
   "outputs": [],
   "source": [
    "print(p_genero_edad.shape)\n",
    "print(p_edad.shape)\n",
    "print(p_educacion.shape)"
   ]
  },
  {
   "cell_type": "code",
   "execution_count": null,
   "metadata": {},
   "outputs": [],
   "source": [
    "#p_genero_edad_validos tiene los datos validos tanto para genero como para edad, por lo tanto tiene menos datos\n",
    "#si se quiere saber algo solamente sobre el genero por ej usar p_genero que tiene mas datos\n",
    "p_genero_edad_validos = pd.merge(p_genero,p_edad,on=\"idpostulante\",how=\"outer\")\n",
    "p_genero_edad_validos.head()"
   ]
  },
  {
   "cell_type": "code",
   "execution_count": null,
   "metadata": {},
   "outputs": [],
   "source": [
    "#aca me parece que habria que limpiar un poco los datos porque en educacion se repiten los id de postulante\n",
    "#porque hay postulantes que aparecen varias veces con distintos estados de educacion\n",
    "postulantes = pd.merge(p_educacion,p_genero_edad_validos,on=\"idpostulante\",how=\"outer\")\n",
    "postulantes.head()"
   ]
  },
  {
   "cell_type": "markdown",
   "metadata": {},
   "source": [
    "# Datos sobre niveles de educacion"
   ]
  },
  {
   "cell_type": "code",
   "execution_count": null,
   "metadata": {},
   "outputs": [],
   "source": [
    "#cantidad de postulantes agrupado por nivel de educación\n",
    "#usando el p_educacion estariamos tomando a cada postulante como varios si es que tiene mas de un estado de educacion\n",
    "p_educacion.groupby('nombre').agg({'idpostulante':'count'}).sort_values('idpostulante',ascending=False)\\\n",
    "                                            .rename(columns={\"idpostulante\": \"cantidad_postulantes\"})"
   ]
  },
  {
   "cell_type": "code",
   "execution_count": null,
   "metadata": {},
   "outputs": [],
   "source": [
    "fig = plt.figure()\n",
    "\n",
    "ax = p_educacion['nombre'].value_counts().plot(kind='bar',figsize=(13,6));\n",
    "\n",
    "plt.title('Cantidad de postulantes por nivel educativo alcanzado', fontsize=24)\n",
    "\n",
    "ax.set_xlabel('Nivel educativo', fontsize= 16)\n",
    "ax.set_ylabel('Cantidad de postulantes', fontsize= 16);"
   ]
  },
  {
   "cell_type": "code",
   "execution_count": null,
   "metadata": {},
   "outputs": [],
   "source": [
    "p_educacion['estado'].value_counts()"
   ]
  },
  {
   "cell_type": "code",
   "execution_count": null,
   "metadata": {},
   "outputs": [],
   "source": [
    "filtered = p_educacion.loc[(p_educacion.estado=='Graduado')]\n",
    "\n",
    "fig = plt.figure()\n",
    "\n",
    "ax = filtered['nombre'].value_counts().plot(kind='bar',figsize=(13,6));\n",
    "\n",
    "plt.title('Cantidad de postulantes por maximo nivel educativo completado', fontsize=24)\n",
    "\n",
    "ax.set_xlabel('Nivel educativo', fontsize= 16)\n",
    "ax.set_ylabel('Cantidad de postulantes', fontsize= 16);"
   ]
  },
  {
   "cell_type": "code",
   "execution_count": null,
   "metadata": {},
   "outputs": [],
   "source": [
    "#¿Cuáles son los niveles de estudio con mayor desercion?\n",
    "#Creo que esto no es muy relevante. Al menos para navent\n",
    "#Tal vez renombrarlo como \"cantidad de postulantes segun el nivel de estudio abandonado o algo asi\"\n",
    "filtered = p_educacion.loc[(p_educacion.estado=='Abandonado')]\n",
    "\n",
    "filtered['nombre'].value_counts()"
   ]
  },
  {
   "cell_type": "code",
   "execution_count": null,
   "metadata": {},
   "outputs": [],
   "source": [
    "fig = plt.figure()\n",
    "\n",
    "ax = filtered['nombre'].value_counts().plot(kind='bar',figsize=(13,6));\n",
    "\n",
    "plt.title('Nivel de desercion de cada nivel de estudio', fontsize=24)\n",
    "\n",
    "ax.set_xlabel('Nivel educativo', fontsize= 16)\n",
    "ax.set_ylabel('Cantidad de postulantes', fontsize= 16);"
   ]
  },
  {
   "cell_type": "code",
   "execution_count": null,
   "metadata": {},
   "outputs": [],
   "source": [
    "#¿Cuales son los niveles de estudio con mayor numero de estudiantes que se postulan?\n",
    "filtered = p_educacion.loc[(p_educacion.estado=='En Curso')]\n",
    "\n",
    "filtered['nombre'].value_counts()"
   ]
  },
  {
   "cell_type": "code",
   "execution_count": null,
   "metadata": {
    "scrolled": true
   },
   "outputs": [],
   "source": [
    "fig = plt.figure()\n",
    "\n",
    "ax = filtered['nombre'].value_counts().plot(kind='bar',figsize=(13,6));\n",
    "\n",
    "plt.title('Cantidad de estudiantes que se postulan segun el nivel educativo en curso', fontsize=24)\n",
    "\n",
    "ax.set_xlabel('Nivel educativo', fontsize= 16)\n",
    "ax.set_ylabel('Cantidad de postulantes', fontsize= 16);"
   ]
  },
  {
   "cell_type": "code",
   "execution_count": null,
   "metadata": {},
   "outputs": [],
   "source": [
    "filtered = p_educacion.loc[(p_educacion.nombre=='Universitario')]\n",
    "\n",
    "fig = plt.figure()\n",
    "\n",
    "ax = filtered['estado'].value_counts().plot(kind='bar',figsize=(13,6));\n",
    "\n",
    "plt.title('Cantidad de postulantes segun su estado Universitario', fontsize=24)\n",
    "\n",
    "ax.set_xlabel('Estado universitario', fontsize= 16)\n",
    "ax.set_ylabel('Cantidad de postulantes', fontsize= 16);"
   ]
  },
  {
   "cell_type": "code",
   "execution_count": null,
   "metadata": {},
   "outputs": [],
   "source": [
    "filtered = p_educacion.loc[(p_educacion.nombre=='Secundario')]\n",
    "\n",
    "fig = plt.figure()\n",
    "\n",
    "ax = filtered['estado'].value_counts().plot(kind='bar',figsize=(13,6));\n",
    "\n",
    "plt.title('Cantidad de postulantes segun su estado Secundario', fontsize=24)\n",
    "\n",
    "ax.set_xlabel('Estado Secundario', fontsize= 16)\n",
    "ax.set_ylabel('Cantidad de postulantes', fontsize= 16);"
   ]
  },
  {
   "cell_type": "code",
   "execution_count": null,
   "metadata": {},
   "outputs": [],
   "source": [
    "#se podrian graficar para los demas niveles de estudio pero no me parecieron tan relevantes por la cantidad de datos que habia\n",
    "filtered = p_educacion.loc[(p_educacion.nombre=='Terciario/Técnico')]\n",
    "\n",
    "fig = plt.figure()\n",
    "\n",
    "ax = filtered['estado'].value_counts().plot(kind='bar',figsize=(13,6));\n",
    "\n",
    "plt.title('Cantidad de postulantes segun su estado Terciario/Técnico', fontsize=24)\n",
    "\n",
    "ax.set_xlabel('Estado Terciario/Técnico', fontsize= 16)\n",
    "ax.set_ylabel('Cantidad de postulantes', fontsize= 16)"
   ]
  },
  {
   "cell_type": "code",
   "execution_count": null,
   "metadata": {},
   "outputs": [],
   "source": [
    "#este creo que tampoco es muy relevante\n",
    "\n",
    "fig = plt.figure()\n",
    "\n",
    "ax = p_educacion['estado'].value_counts().plot(kind='bar',figsize=(13,6));\n",
    "\n",
    "plt.title('Estado del postulante', fontsize=24)\n",
    "\n",
    "ax.set_xlabel('Estado del maximo nivel de estudio alcanzado', fontsize= 16)\n",
    "ax.set_ylabel('Cantidad de postulantes', fontsize= 16);"
   ]
  },
  {
   "cell_type": "markdown",
   "metadata": {},
   "source": [
    "# Datos segun genero y edad"
   ]
  },
  {
   "cell_type": "code",
   "execution_count": null,
   "metadata": {},
   "outputs": [],
   "source": [
    "p_genero['sexo'].value_counts()"
   ]
  },
  {
   "cell_type": "code",
   "execution_count": null,
   "metadata": {},
   "outputs": [],
   "source": [
    "fig = plt.figure()\n",
    "\n",
    "ax = p_genero['sexo'].value_counts().plot(kind='bar',figsize=(10,6));\n",
    "\n",
    "plt.title('Cantidad de postulantes por genero', fontsize=24)\n",
    "\n",
    "ax.set_xlabel('Genero', fontsize= 16)\n",
    "ax.set_ylabel('Cantidad de postulantes', fontsize= 16);"
   ]
  },
  {
   "cell_type": "code",
   "execution_count": null,
   "metadata": {},
   "outputs": [],
   "source": [
    "#calculo la edad de los postulantes\n",
    "p_edad['edad'] = pd.to_datetime('today').year-pd.to_datetime(p_edad['fechanacimiento']).dt.year"
   ]
  },
  {
   "cell_type": "code",
   "execution_count": null,
   "metadata": {},
   "outputs": [],
   "source": [
    "#p_edad = p_edad[(p_edad['edad'] <= 65) & (p_edad['edad'] >= 18)]\n",
    "#deje todas las edades pero se pueden reducir con la linea de arriba\n",
    "fig = plt.figure()\n",
    "ax = fig.add_subplot(111)\n",
    "plt.title('Distribucion edad')\n",
    "ax.set_xlabel('Edad')\n",
    "ax.set_ylabel('Personas')\n",
    "p_edad['edad'].value_counts().sort_index().plot(kind='bar',figsize=(13,6))\n",
    "plt.show()"
   ]
  },
  {
   "cell_type": "code",
   "execution_count": null,
   "metadata": {},
   "outputs": [],
   "source": [
    "print(p_edad['edad'].max())\n",
    "print(p_edad['edad'].min())"
   ]
  },
  {
   "cell_type": "code",
   "execution_count": null,
   "metadata": {},
   "outputs": [],
   "source": [
    "#elegir uno de los dos siguientes histogramas\n",
    "fig = plt.figure()\n",
    "ax = fig.add_subplot(111)\n",
    "plt.title('Distribucion edad')\n",
    "ax.set_xlabel('Edad')\n",
    "p_edad['edad'].plot(kind='hist',figsize=(13,6))\n",
    "plt.show()"
   ]
  },
  {
   "cell_type": "code",
   "execution_count": null,
   "metadata": {},
   "outputs": [],
   "source": [
    "fig = plt.figure(figsize = (13,6))\n",
    "\n",
    "anios = [18, 21, 30, 40, 50 , 65]\n",
    "\n",
    "plt.hist(p_edad['edad'], anios)\n",
    "\n",
    "plt.show()"
   ]
  },
  {
   "cell_type": "markdown",
   "metadata": {},
   "source": [
    "# Datos de avisos"
   ]
  },
  {
   "cell_type": "code",
   "execution_count": null,
   "metadata": {},
   "outputs": [],
   "source": [
    "print(avisos_detalle['tipo_de_trabajo'].unique())"
   ]
  },
  {
   "cell_type": "code",
   "execution_count": null,
   "metadata": {},
   "outputs": [],
   "source": [
    "#cantidad de avisos por tipo de trabajo (full time, part time...)\n",
    "avisos_detalle.groupby('tipo_de_trabajo').agg({'tipo_de_trabajo':'count'}).sort_values('tipo_de_trabajo',ascending=False)\\\n",
    "                .rename(columns={\"tipo_de_trabajo\": \"cantidad_avisos\"})"
   ]
  },
  {
   "cell_type": "code",
   "execution_count": null,
   "metadata": {},
   "outputs": [],
   "source": [
    "fig = plt.figure()\n",
    "\n",
    "ax = avisos_detalle['tipo_de_trabajo'].value_counts().plot(kind='bar',figsize=(13,6));\n",
    "\n",
    "plt.title('Cantidad de avisos por tipo de trabajo', fontsize=24)\n",
    "\n",
    "ax.set_xlabel('Tipo de trabajo', fontsize= 16)\n",
    "ax.set_ylabel('Cantidad de avisos', fontsize= 16);"
   ]
  },
  {
   "cell_type": "code",
   "execution_count": null,
   "metadata": {},
   "outputs": [],
   "source": [
    "#empresas con mayor cantidad de avisos\n",
    "avisos_detalle.groupby('denominacion_empresa').agg({'denominacion_empresa':'size'}).sort_values('denominacion_empresa',ascending=False)\\\n",
    "                      .rename(columns={\"denominacion_empresa\": \"cantidad_avisos\"})      "
   ]
  },
  {
   "cell_type": "code",
   "execution_count": null,
   "metadata": {},
   "outputs": [],
   "source": [
    "fig = plt.figure()\n",
    "\n",
    "ax = avisos_detalle['denominacion_empresa'].value_counts().head(20).plot(kind='bar',figsize=(13,6));\n",
    "\n",
    "plt.title('Top 20 de empresas con mayor cantidad de avisos', fontsize=24)\n",
    "\n",
    "ax.set_xlabel('Empresas', fontsize= 16)\n",
    "ax.set_ylabel('Cantidad de avisos', fontsize= 16);"
   ]
  },
  {
   "cell_type": "code",
   "execution_count": null,
   "metadata": {},
   "outputs": [],
   "source": [
    "#Zonas con mayor cantidad de avisos\n",
    "avisos_detalle.groupby('nombre_zona').agg({'nombre_zona':'size'}).sort_values('nombre_zona',ascending=False)\\\n",
    "                      .rename(columns={\"nombre_zona\": \"cantidad_avisos\"})   "
   ]
  },
  {
   "cell_type": "code",
   "execution_count": null,
   "metadata": {},
   "outputs": [],
   "source": [
    "fig = plt.figure()\n",
    "\n",
    "ax = avisos_detalle['nombre_zona'].value_counts().head(20).plot(kind='bar',figsize=(13,6));\n",
    "\n",
    "plt.title('Zonas con mayor cantidad de avisos', fontsize=24)\n",
    "\n",
    "ax.set_xlabel('Zonas', fontsize= 16)\n",
    "ax.set_ylabel('Cantidad de avisos', fontsize= 16);"
   ]
  },
  {
   "cell_type": "code",
   "execution_count": null,
   "metadata": {},
   "outputs": [],
   "source": [
    "#Areas con mayor cantidad de avisos\n",
    "avisos_detalle.groupby('nombre_area').agg({'nombre_area':'size'}).sort_values('nombre_area',ascending=False)\\\n",
    "                      .rename(columns={\"nombre_area\": \"cantidad_avisos\"})   "
   ]
  },
  {
   "cell_type": "code",
   "execution_count": null,
   "metadata": {},
   "outputs": [],
   "source": [
    "fig = plt.figure()\n",
    "\n",
    "ax = avisos_detalle['nombre_area'].value_counts().head(20).plot(kind='bar',figsize=(13,6));\n",
    "\n",
    "plt.title('Top 20 areas con mayor cantidad de avisos', fontsize=24)\n",
    "\n",
    "ax.set_xlabel('Area', fontsize= 16)\n",
    "ax.set_ylabel('Cantidad de avisos', fontsize= 16);"
   ]
  },
  {
   "cell_type": "code",
   "execution_count": null,
   "metadata": {},
   "outputs": [],
   "source": [
    "#Nivel laboral con mayor cantidad de avisos\n",
    "avisos_detalle.groupby('nivel_laboral').agg({'nivel_laboral':'size'}).sort_values('nivel_laboral',ascending=False)\\\n",
    "                      .rename(columns={\"nivel_laboral\": \"cantidad_avisos\"})  "
   ]
  },
  {
   "cell_type": "code",
   "execution_count": null,
   "metadata": {},
   "outputs": [],
   "source": [
    "fig = plt.figure()\n",
    "\n",
    "ax = avisos_detalle['nivel_laboral'].value_counts().plot(kind='bar',figsize=(13,6));\n",
    "\n",
    "plt.title('Cantidad de avisos por nivel laboral', fontsize=24)\n",
    "\n",
    "ax.set_xlabel('Nivel laboral', fontsize= 16)\n",
    "ax.set_ylabel('Cantidad de avisos', fontsize= 16);"
   ]
  },
  {
   "cell_type": "markdown",
   "metadata": {},
   "source": [
    "# Postulaciones por dia de semana "
   ]
  },
  {
   "cell_type": "code",
   "execution_count": null,
   "metadata": {},
   "outputs": [],
   "source": [
    "postulaciones['dia_semana'] = postulaciones['fechapostulacion'].dt.weekday_name"
   ]
  },
  {
   "cell_type": "code",
   "execution_count": null,
   "metadata": {},
   "outputs": [],
   "source": [
    "postulaciones.head()"
   ]
  },
  {
   "cell_type": "code",
   "execution_count": null,
   "metadata": {},
   "outputs": [],
   "source": [
    "postulaciones['dia_semana'].value_counts()"
   ]
  },
  {
   "cell_type": "code",
   "execution_count": null,
   "metadata": {},
   "outputs": [],
   "source": [
    "fig = plt.figure()\n",
    "ax = fig.add_subplot(111)\n",
    "plt.title('Postulaciones x Dia de Semana')\n",
    "ax.set_xlabel('Dia de Semana')\n",
    "ax.set_ylabel('Postulaciones')\n",
    "#dt.weekday.value_counts().sort_index() \n",
    "postulaciones['dia_semana'].value_counts().plot(kind='bar')\n",
    "plt.show()"
   ]
  },
  {
   "cell_type": "code",
   "execution_count": null,
   "metadata": {},
   "outputs": [],
   "source": [
    "#este habria que cambiar los numeros por los nombres de los dias\n",
    "#o en el de arriba lograr que los dias queden ordenados\n",
    "fig = plt.figure()\n",
    "ax = fig.add_subplot(111)\n",
    "plt.title('Postulaciones x Dia de Semana')\n",
    "ax.set_xlabel('Dia de Semana')\n",
    "ax.set_ylabel('Postulaciones')\n",
    "#dt.weekday.value_counts().sort_index() \n",
    "postulaciones['fechapostulacion'].dt.weekday.value_counts().sort_index().plot(kind='bar')\n",
    "\n",
    "plt.show()"
   ]
  },
  {
   "cell_type": "code",
   "execution_count": null,
   "metadata": {},
   "outputs": [],
   "source": [
    "postulaciones.head()"
   ]
  },
  {
   "cell_type": "markdown",
   "metadata": {},
   "source": [
    "# Postulaciones por dia del mes"
   ]
  },
  {
   "cell_type": "code",
   "execution_count": null,
   "metadata": {},
   "outputs": [],
   "source": [
    "#Postulaciones enero\n",
    "postulaciones_dia_mes = postulaciones[postulaciones['fechapostulacion'] < '02-01-2018']"
   ]
  },
  {
   "cell_type": "code",
   "execution_count": null,
   "metadata": {},
   "outputs": [],
   "source": [
    "postulaciones_dia_mes.head()"
   ]
  },
  {
   "cell_type": "code",
   "execution_count": null,
   "metadata": {},
   "outputs": [],
   "source": [
    "postulaciones_dia_mes['dia_mes'] = postulaciones_dia_mes.loc[:,'fechapostulacion'].dt.day"
   ]
  },
  {
   "cell_type": "code",
   "execution_count": null,
   "metadata": {},
   "outputs": [],
   "source": [
    "postulaciones_dia_mes.head()"
   ]
  },
  {
   "cell_type": "code",
   "execution_count": null,
   "metadata": {},
   "outputs": [],
   "source": [
    "fig=plt.figure()\n",
    "ax = fig.add_subplot(111)\n",
    "\n",
    "plt.title('Postulaciones x Dia del Mes (Enero)')\n",
    "ax.set_xlabel('Dia')\n",
    "ax.set_ylabel('Postulaciones')\n",
    "postulaciones_dia_mes['dia_mes'].value_counts().sort_index().plot(kind='bar')\n",
    "\n",
    "plt.show()"
   ]
  },
  {
   "cell_type": "code",
   "execution_count": null,
   "metadata": {},
   "outputs": [],
   "source": [
    "#Postulaciones febrero\n",
    "postulaciones_dia_mes = postulaciones[postulaciones['fechapostulacion'] >= '02-01-2018']"
   ]
  },
  {
   "cell_type": "code",
   "execution_count": null,
   "metadata": {},
   "outputs": [],
   "source": [
    "postulaciones_dia_mes.head()"
   ]
  },
  {
   "cell_type": "code",
   "execution_count": null,
   "metadata": {},
   "outputs": [],
   "source": [
    "postulaciones_dia_mes['dia_mes'] = postulaciones_dia_mes['fechapostulacion'].dt.day"
   ]
  },
  {
   "cell_type": "code",
   "execution_count": null,
   "metadata": {},
   "outputs": [],
   "source": [
    "postulaciones_dia_mes.head()"
   ]
  },
  {
   "cell_type": "code",
   "execution_count": null,
   "metadata": {},
   "outputs": [],
   "source": [
    "fig=plt.figure()\n",
    "ax = fig.add_subplot(111)\n",
    "\n",
    "plt.title('Postulaciones x Dia del Mes (Febrero)')\n",
    "ax.set_xlabel('Dia')\n",
    "ax.set_ylabel('Postulaciones')\n",
    "postulaciones_dia_mes['dia_mes'].value_counts().sort_index().plot(kind='bar')\n",
    "\n",
    "plt.show()"
   ]
  },
  {
   "cell_type": "markdown",
   "metadata": {},
   "source": [
    "# Postulaciones por mes"
   ]
  },
  {
   "cell_type": "code",
   "execution_count": null,
   "metadata": {},
   "outputs": [],
   "source": [
    "postulaciones['mes_postulacion']=postulaciones['fechapostulacion'].dt.month\n",
    "postulaciones.head()"
   ]
  },
  {
   "cell_type": "code",
   "execution_count": null,
   "metadata": {},
   "outputs": [],
   "source": [
    "#con estos datos capaz se podrian hacer otro graficos mas copados\n",
    "#cambiar 1 y 2 por enero y febrero\n",
    "fig=plt.figure()\n",
    "ax = fig.add_subplot(111)\n",
    "\n",
    "plt.title('Cantidad postulaciones x Mes')\n",
    "ax.set_xlabel('Mes')\n",
    "ax.set_ylabel('Postulaciones')\n",
    "postulaciones['mes_postulacion'].value_counts().sort_index().plot(kind='bar')\n",
    "\n",
    "plt.show()"
   ]
  },
  {
   "cell_type": "markdown",
   "metadata": {},
   "source": [
    "# Postulaciones por franja horaria"
   ]
  },
  {
   "cell_type": "code",
   "execution_count": null,
   "metadata": {},
   "outputs": [],
   "source": [
    "postulaciones['fechapostulacion'].dt.hour.value_counts()"
   ]
  },
  {
   "cell_type": "code",
   "execution_count": null,
   "metadata": {},
   "outputs": [],
   "source": [
    "#capaz es mejor otro grafico para esto\n",
    "fig = plt.figure()\n",
    "ax = fig.add_subplot(111)\n",
    "plt.title('Distribucion horaria de postulaciones')\n",
    "ax.set_xlabel('Hora')\n",
    "postulaciones['fechapostulacion'].dt.hour.plot(kind='hist',figsize=(13,6))\n",
    "\n",
    "plt.show()"
   ]
  },
  {
   "cell_type": "code",
   "execution_count": null,
   "metadata": {},
   "outputs": [],
   "source": [
    "#es igual al de arriba solo que le cambie las franjas\n",
    "fig = plt.figure(figsize = (13,6))\n",
    "ax = fig.add_subplot(111)\n",
    "plt.title('Distribucion horaria de postulaciones')\n",
    "ax.set_xlabel('Hora')\n",
    "franjas = [0,7, 12, 19, 23]\n",
    "plt.hist(postulaciones['fechapostulacion'].dt.hour, franjas)\n",
    "\n",
    "plt.show()"
   ]
  },
  {
   "cell_type": "markdown",
   "metadata": {},
   "source": [
    "# Datos de vistas"
   ]
  },
  {
   "cell_type": "code",
   "execution_count": null,
   "metadata": {},
   "outputs": [],
   "source": [
    "visitas.head()"
   ]
  },
  {
   "cell_type": "code",
   "execution_count": null,
   "metadata": {},
   "outputs": [],
   "source": [
    "#capaz es mejor otro grafico para esto\n",
    "fig = plt.figure()\n",
    "ax = fig.add_subplot(111)\n",
    "plt.title('Distribucion horaria de vistas de avisos')\n",
    "ax.set_xlabel('Hora')\n",
    "visitas['timestamp'].dt.hour.plot(kind='hist',figsize=(13,6))\n",
    "\n",
    "plt.show()"
   ]
  },
  {
   "cell_type": "code",
   "execution_count": null,
   "metadata": {},
   "outputs": [],
   "source": [
    "#lo mismo que el anterior pero por cada hora\n",
    "fig=plt.figure()\n",
    "ax = fig.add_subplot(111)\n",
    "\n",
    "plt.title('Cantidad de visitas x Hora')\n",
    "ax.set_xlabel('Hora')\n",
    "ax.set_ylabel('Visitas')\n",
    "visitas['timestamp'].dt.hour.value_counts().sort_index().plot(kind='bar')\n",
    "\n",
    "plt.show()"
   ]
  },
  {
   "cell_type": "code",
   "execution_count": null,
   "metadata": {},
   "outputs": [],
   "source": [
    "visitas['timestamp'].dt.month.value_counts()"
   ]
  },
  {
   "cell_type": "code",
   "execution_count": null,
   "metadata": {},
   "outputs": [],
   "source": [
    "print(visitas['timestamp'].min())\n",
    "print(visitas['timestamp'].max())"
   ]
  },
  {
   "cell_type": "code",
   "execution_count": null,
   "metadata": {},
   "outputs": [],
   "source": [
    "#este grafico no tiene mucho sentido porque no hay casi datos de marzo\n",
    "#cambiar 2 y 3 por febrero y marzo\n",
    "fig=plt.figure()\n",
    "ax = fig.add_subplot(111)\n",
    "\n",
    "plt.title('Cantidad de visitas x Mes')\n",
    "ax.set_xlabel('Mes')\n",
    "ax.set_ylabel('Visitas')\n",
    "visitas['timestamp'].dt.month.value_counts().sort_index().plot(kind='bar')\n",
    "\n",
    "plt.show()"
   ]
  },
  {
   "cell_type": "code",
   "execution_count": null,
   "metadata": {},
   "outputs": [],
   "source": [
    "#agregar nombre de los dias de la semana\n",
    "fig=plt.figure()\n",
    "ax = fig.add_subplot(111)\n",
    "\n",
    "plt.title('Cantidad de visitas x dia de la semana')\n",
    "ax.set_xlabel('Dia')\n",
    "ax.set_ylabel('Visitas')\n",
    "visitas['timestamp'].dt.weekday.value_counts().sort_index().plot(kind='bar')\n",
    "\n",
    "plt.show()"
   ]
  },
  {
   "cell_type": "markdown",
   "metadata": {},
   "source": [
    "# Analisis mas complejo de datos\n",
    "Aca irian todos los analisis de los merge de los dataframes\n",
    "Anoto un par de ejemplos aca :\n",
    "\n",
    "- tipos de trabajo con mas postulantes por edad\n",
    "- tipos de trabajo con mas postulantes graduados\n",
    "- tipos de trabajo con mas postulantes estudiantes\n",
    "- tipos de trabajo con mas postulantes estudiantes de secundario\n",
    "- tipos de trabajo con mas postulantes estudiantes universitarios\n",
    "- empresas con mas postulantes por edad\n",
    "- empresas con mas postulantes graduados\n",
    "- titulos de avisos con mas postulantes por edad\n",
    "- zonas con mas postulantes por edad\n",
    "- zonas con mas postulantes estudiantes universitarios\n",
    "- areas de trabajo con mas postulantes por edad\n",
    "- areas de trabajo con mas postulantes graduados\n",
    "- areas de trabajo con mas postulantes estudiantes\n",
    "- areas de trabajo con mas postulantes estudiantes universitarios\n",
    "\n",
    "- nivel laboral con mas postulantes graduados\n",
    "- nivel laboral con mas postulantes estudiantes\n"
   ]
  },
  {
   "cell_type": "code",
   "execution_count": null,
   "metadata": {},
   "outputs": [],
   "source": [
    "#avisos con mayor cantidad de postulantes\n",
    "postulaciones.groupby('idaviso').agg({'idpostulante':'count'}).sort_values('idpostulante',ascending=False)\\\n",
    "                     .rename(columns={\"idpostulante\": \"cantidad_postulantes\"})    "
   ]
  },
  {
   "cell_type": "code",
   "execution_count": 9,
   "metadata": {},
   "outputs": [],
   "source": [
    "merge2 = pd.merge(postulaciones,avisos_detalle,on=\"idaviso\",how=\"left\")"
   ]
  },
  {
   "cell_type": "code",
   "execution_count": null,
   "metadata": {},
   "outputs": [],
   "source": [
    "#aca en realidad querria saber el titulo del aviso\n",
    "#no se que tan relevante seria este grafico igual\n",
    "\n",
    "fig = plt.figure()\n",
    "\n",
    "ax = merge2['idaviso'].value_counts().head(10).plot(kind='bar',figsize=(13,6));\n",
    "\n",
    "plt.title('Top 10 avisos con mayor cantidad de postulantes', fontsize=24)\n",
    "\n",
    "ax.set_xlabel('Avisos', fontsize= 16)\n",
    "ax.set_ylabel('Cantidad de postulantes', fontsize= 16);"
   ]
  },
  {
   "cell_type": "code",
   "execution_count": null,
   "metadata": {},
   "outputs": [],
   "source": [
    "fig = plt.figure()\n",
    "\n",
    "ax = merge2['titulo'].value_counts().head(10).plot(kind='bar',figsize=(13,6));\n",
    "\n",
    "plt.title('Tipos de avisos con mayor cantidad de postulantes', fontsize=24)\n",
    "\n",
    "ax.set_xlabel('Avisos', fontsize= 16)\n",
    "ax.set_ylabel('Cantidad de postulantes', fontsize= 16);"
   ]
  },
  {
   "cell_type": "code",
   "execution_count": null,
   "metadata": {},
   "outputs": [],
   "source": [
    "fig = plt.figure()\n",
    "\n",
    "ax = merge2['nombre_zona'].value_counts().plot(kind='bar',figsize=(13,6));\n",
    "\n",
    "plt.title('Cantidad de postulantes por zona', fontsize=24)\n",
    "\n",
    "ax.set_xlabel('Zona', fontsize= 16)\n",
    "ax.set_ylabel('Cantidad de postulantes', fontsize= 16);"
   ]
  },
  {
   "cell_type": "code",
   "execution_count": null,
   "metadata": {},
   "outputs": [],
   "source": [
    "fig = plt.figure()\n",
    "\n",
    "ax = merge2['tipo_de_trabajo'].value_counts().plot(kind='bar',figsize=(13,6));\n",
    "\n",
    "plt.title('Tipos de trabajo con mayor cantidad de postulantes', fontsize=24)\n",
    "\n",
    "ax.set_xlabel('Tipo de trabajo', fontsize= 16)\n",
    "ax.set_ylabel('Cantidad de postulantes', fontsize= 16);"
   ]
  },
  {
   "cell_type": "code",
   "execution_count": null,
   "metadata": {},
   "outputs": [],
   "source": [
    "fig = plt.figure()\n",
    "\n",
    "ax = merge2['nivel_laboral'].value_counts().plot(kind='bar',figsize=(13,6));\n",
    "\n",
    "plt.title('Nivel laboral con mayor cantidad de postulantes', fontsize=24)\n",
    "\n",
    "ax.set_xlabel('Nivel laboral', fontsize= 16)\n",
    "ax.set_ylabel('Cantidad de postulantes', fontsize= 16);"
   ]
  },
  {
   "cell_type": "code",
   "execution_count": null,
   "metadata": {},
   "outputs": [],
   "source": [
    "fig = plt.figure()\n",
    "\n",
    "ax = merge2['denominacion_empresa'].value_counts().head(20).plot(kind='bar',figsize=(13,6));\n",
    "\n",
    "plt.title('Top 20 de empresas con mayor cantidad de postulantes', fontsize=24)\n",
    "\n",
    "ax.set_xlabel('Empresas', fontsize= 16)\n",
    "ax.set_ylabel('Cantidad de postulantes', fontsize= 16);"
   ]
  },
  {
   "cell_type": "code",
   "execution_count": null,
   "metadata": {},
   "outputs": [],
   "source": [
    "postulantes_genero_avisos = pd.merge(merge2,p_genero,on=\"idpostulante\",how=\"left\")"
   ]
  },
  {
   "cell_type": "code",
   "execution_count": null,
   "metadata": {},
   "outputs": [],
   "source": [
    "fig = plt.figure()\n",
    "\n",
    "filtered=postulantes_genero_avisos.loc[(postulantes_genero_avisos.sexo=='FEM')]\n",
    "\n",
    "ax = filtered['tipo_de_trabajo'].value_counts().plot(kind='bar',figsize=(13,6));\n",
    "\n",
    "plt.title('Tipos de trabajo con mayor cantidad de postulantes mujeres', fontsize=24)\n",
    "\n",
    "ax.set_xlabel('Tipo de trabajo', fontsize= 16)\n",
    "ax.set_ylabel('Cantidad de postulantes', fontsize= 16);"
   ]
  },
  {
   "cell_type": "code",
   "execution_count": null,
   "metadata": {},
   "outputs": [],
   "source": [
    "fig = plt.figure()\n",
    "\n",
    "filtered=postulantes_genero_avisos.loc[(postulantes_genero_avisos.sexo=='MASC')]\n",
    "\n",
    "ax = filtered['tipo_de_trabajo'].value_counts().plot(kind='bar',figsize=(13,6));\n",
    "\n",
    "plt.title('Tipos de trabajo con mayor cantidad de postulantes hombres', fontsize=24)\n",
    "\n",
    "ax.set_xlabel('Tipo de trabajo', fontsize= 16)\n",
    "ax.set_ylabel('Cantidad de postulantes', fontsize= 16);"
   ]
  },
  {
   "cell_type": "code",
   "execution_count": null,
   "metadata": {},
   "outputs": [],
   "source": [
    "fig = plt.figure()\n",
    "\n",
    "filtered=postulantes_genero_avisos.loc[(postulantes_genero_avisos.sexo=='MASC')]\n",
    "\n",
    "ax = filtered['denominacion_empresa'].value_counts().head(20).plot(kind='bar',figsize=(13,6));\n",
    "\n",
    "plt.title('Top 20 empresas con mayor cantidad de postulantes hombres', fontsize=24)\n",
    "\n",
    "ax.set_xlabel('Empresa', fontsize= 16)\n",
    "ax.set_ylabel('Cantidad de postulantes ', fontsize= 16);"
   ]
  },
  {
   "cell_type": "code",
   "execution_count": null,
   "metadata": {},
   "outputs": [],
   "source": [
    "fig = plt.figure()\n",
    "\n",
    "filtered=postulantes_genero_avisos.loc[(postulantes_genero_avisos.sexo=='FEM')]\n",
    "\n",
    "ax = filtered['denominacion_empresa'].value_counts().head(20).plot(kind='bar',figsize=(13,6));\n",
    "\n",
    "plt.title('Top 20 empresas con mayor cantidad de postulantes mujeres', fontsize=24)\n",
    "\n",
    "ax.set_xlabel('Empresa', fontsize= 16)\n",
    "ax.set_ylabel('Cantidad de postulantes ', fontsize= 16);"
   ]
  },
  {
   "cell_type": "code",
   "execution_count": null,
   "metadata": {},
   "outputs": [],
   "source": [
    "fig = plt.figure()\n",
    "\n",
    "filtered=postulantes_genero_avisos.loc[(postulantes_genero_avisos.sexo=='MASC')]\n",
    "\n",
    "ax = filtered['nombre_area'].value_counts().head(20).plot(kind='bar',figsize=(13,6));\n",
    "\n",
    "plt.title('Areas de trabajo con mayor cantidad de postulantes hombres', fontsize=24)\n",
    "\n",
    "ax.set_xlabel('Area', fontsize= 16)\n",
    "ax.set_ylabel('Cantidad de postulantes ', fontsize= 16);"
   ]
  },
  {
   "cell_type": "code",
   "execution_count": null,
   "metadata": {},
   "outputs": [],
   "source": [
    "fig = plt.figure()\n",
    "\n",
    "filtered=postulantes_genero_avisos.loc[(postulantes_genero_avisos.sexo=='FEM')]\n",
    "\n",
    "ax = filtered['nombre_area'].value_counts().head(20).plot(kind='bar',figsize=(13,6));\n",
    "\n",
    "plt.title('Areas de trabajo con mayor cantidad de postulantes mujeres', fontsize=24)\n",
    "\n",
    "ax.set_xlabel('Area', fontsize= 16)\n",
    "ax.set_ylabel('Cantidad de postulantes ', fontsize= 16);"
   ]
  },
  {
   "cell_type": "code",
   "execution_count": null,
   "metadata": {},
   "outputs": [],
   "source": [
    "fig = plt.figure()\n",
    "\n",
    "filtered=postulantes_genero_avisos.loc[(postulantes_genero_avisos.sexo=='FEM')]\n",
    "\n",
    "ax = filtered['titulo'].value_counts().head(10).plot(kind='bar',figsize=(13,6));\n",
    "\n",
    "plt.title('Top 10  tipos de avisos con mayor cantidad de postulantes mujeres', fontsize=24)\n",
    "\n",
    "ax.set_xlabel('Avisos', fontsize= 16)\n",
    "ax.set_ylabel('Cantidad de postulantes', fontsize= 16);"
   ]
  },
  {
   "cell_type": "code",
   "execution_count": null,
   "metadata": {},
   "outputs": [],
   "source": [
    "fig = plt.figure()\n",
    "\n",
    "filtered=postulantes_genero_avisos.loc[(postulantes_genero_avisos.sexo=='MASC')]\n",
    "\n",
    "ax = filtered['titulo'].value_counts().head(10).plot(kind='bar',figsize=(13,6));\n",
    "\n",
    "plt.title('Top 10  tipos de avisos con mayor cantidad de postulantes hombres', fontsize=24)\n",
    "\n",
    "ax.set_xlabel('Avisos', fontsize= 16)\n",
    "ax.set_ylabel('Cantidad de postulantes', fontsize= 16);"
   ]
  },
  {
   "cell_type": "code",
   "execution_count": 10,
   "metadata": {},
   "outputs": [],
   "source": [
    "postulantes_edad_avisos = pd.merge(merge2,p_edad,on=\"idpostulante\",how=\"inner\")"
   ]
  },
  {
   "cell_type": "code",
   "execution_count": 11,
   "metadata": {},
   "outputs": [
    {
     "data": {
      "image/png": "[encoded data removed]",
      "text/plain": [
       "<Figure size 936x432 with 1 Axes>"
      ]
     },
     "metadata": {},
     "output_type": "display_data"
    }
   ],
   "source": [
    "#aca iria otro tipo de grafico\n",
    "filtered = postulantes_edad_avisos.loc[(postulantes_edad_avisos.nombre_area=='Comercial')]\n",
    "\n",
    "fig = plt.figure()\n",
    "\n",
    "ax = filtered['edad'].value_counts().head(10).plot(kind='bar',figsize=(13,6));\n",
    "\n",
    "plt.title('Cantidad de postulantes que aplican al area Comercial segun su edad', fontsize=24)\n",
    "\n",
    "ax.set_xlabel('Edad', fontsize= 16)\n",
    "ax.set_ylabel('Cantidad de postulantes', fontsize= 16);"
   ]
  },
  {
   "cell_type": "code",
   "execution_count": 13,
   "metadata": {},
   "outputs": [
    {
     "data": {
      "image/png": "[encoded data removed]",
      "text/plain": [
       "<Figure size 936x432 with 1 Axes>"
      ]
     },
     "metadata": {},
     "output_type": "display_data"
    }
   ],
   "source": [
    "#aca iria otro tipo de grafico\n",
    "filtered = postulantes_edad_avisos.loc[(postulantes_edad_avisos.nombre_area=='Ventas')]\n",
    "\n",
    "fig = plt.figure()\n",
    "\n",
    "ax = filtered['edad'].value_counts().head(10).plot(kind='bar',figsize=(13,6));\n",
    "\n",
    "plt.title('Cantidad de postulantes que aplican al area Ventas segun su edad', fontsize=24)\n",
    "\n",
    "ax.set_xlabel('Edad', fontsize= 16)\n",
    "ax.set_ylabel('Cantidad de postulantes', fontsize= 16);"
   ]
  },
  {
   "cell_type": "code",
   "execution_count": 14,
   "metadata": {},
   "outputs": [
    {
     "data": {
      "image/png": "[encoded data removed]",
      "text/plain": [
       "<Figure size 936x432 with 1 Axes>"
      ]
     },
     "metadata": {},
     "output_type": "display_data"
    }
   ],
   "source": [
    "filtered = postulantes_edad_avisos.loc[(postulantes_edad_avisos.tipo_de_trabajo=='Full-time')]\n",
    "\n",
    "fig = plt.figure()\n",
    "\n",
    "ax = filtered['edad'].value_counts().head(10).plot(kind='bar',figsize=(13,6));\n",
    "\n",
    "plt.title('Cantidad de postulantes que aplican a trabajos full time segun su edad', fontsize=24)\n",
    "\n",
    "ax.set_xlabel('Edad', fontsize= 16)\n",
    "ax.set_ylabel('Cantidad de postulantes', fontsize= 16);"
   ]
  },
  {
   "cell_type": "code",
   "execution_count": 15,
   "metadata": {},
   "outputs": [
    {
     "data": {
      "image/png": "[encoded data removed]",
      "text/plain": [
       "<Figure size 936x432 with 1 Axes>"
      ]
     },
     "metadata": {},
     "output_type": "display_data"
    }
   ],
   "source": [
    "filtered = postulantes_edad_avisos.loc[(postulantes_edad_avisos.tipo_de_trabajo=='Part-time')]\n",
    "\n",
    "fig = plt.figure()\n",
    "\n",
    "ax = filtered['edad'].value_counts().head(10).plot(kind='bar',figsize=(13,6));\n",
    "\n",
    "plt.title('Cantidad de postulantes que aplican a trabajos Part time segun su edad', fontsize=24)\n",
    "\n",
    "ax.set_xlabel('Edad', fontsize= 16)\n",
    "ax.set_ylabel('Cantidad de postulantes', fontsize= 16);"
   ]
  },
  {
   "cell_type": "markdown",
   "metadata": {},
   "source": [
    "# Top 5 - Postulaciones x Area de trabajo"
   ]
  },
  {
   "cell_type": "code",
   "execution_count": null,
   "metadata": {},
   "outputs": [],
   "source": [
    "df = pd.merge(postulaciones, avisos_detalle, on='idaviso', how='inner')"
   ]
  },
  {
   "cell_type": "code",
   "execution_count": null,
   "metadata": {},
   "outputs": [],
   "source": [
    "fig = plt.figure()\n",
    "ax = fig.add_subplot(111)\n",
    "\n",
    "plt.title('Postulaciones x Area (Top 5)')\n",
    "ax.set_xlabel('Area')\n",
    "ax.set_ylabel('Postulaciones')\n",
    "df['nombre_area'].value_counts().head().plot(kind='bar')\n",
    "\n",
    "plt.show()"
   ]
  },
  {
   "cell_type": "code",
   "execution_count": null,
   "metadata": {},
   "outputs": [],
   "source": [
    "#este me tira un memory error\n",
    "fig = plt.figure()\n",
    "ax = fig.add_subplot(111)\n",
    "\n",
    "plt.title('Postulaciones x Zona (Dentro de ventas)')\n",
    "ax.set_xlabel('Zona')\n",
    "ax.set_ylabel('Postulaciones')\n",
    "merge2[merge2['nombre_area'] == 'Ventas']['nombre_zona'].value_counts().plot(kind='bar')\n",
    "plt.show()"
   ]
  },
  {
   "cell_type": "markdown",
   "metadata": {},
   "source": [
    "# Tasa de conversion de avisos (postulaciones / visitas)\n",
    "\n",
    "Agrego esto que puso natalia en Piazza para que lo lean. Por lo que vi, en el csv de vistas no hay idUsuario null, por lo que entiendo que en este csv solo tenemos las vistas de los usuarios que estaba logeados antes de postularse.\n",
    "Entonces puede pasar que tengamos postulaciones de usuarios pero que no tengamos las vistas previas a la postulacion.\n",
    "Tambien tenemos que chequear y limpiar que en las vistas seguramente hay usuarios duplicados.\n",
    "\n",
    "Natalia Golmar 10 hours ago\n",
    "Hola\n",
    "\n",
    "Consulte este tema con la gente de Navent, y les comparto algunas respuestas:\n",
    "\n",
    "- Las vistas se guardan solo para usuarios logueados en el sistema? No, se guardan todas las vistas y si el usuario no está logueado en el registro no tiene el campo idUsuario (no recuerdan si filtraron y nos enviaron sólo las vistas con usuarios, pero si es asi entiendan que seguro hay vistas sin idUsuario para los avisos)\n",
    "- Es posible mirar avisos sin loguearse? Si\n",
    "- Es posible que el usuario se loguee solo al postularse, y no quede registado el acceso al aviso como vista? Si\n",
    "- Si un usuario visita mas de una vez un aviso, se registra cada vista o se registra solo la 1ra? Todas"
   ]
  },
  {
   "cell_type": "code",
   "execution_count": null,
   "metadata": {},
   "outputs": [],
   "source": [
    "postulaciones.head()"
   ]
  },
  {
   "cell_type": "code",
   "execution_count": null,
   "metadata": {},
   "outputs": [],
   "source": [
    "#me quedo con la fecha de la postulacion\n",
    "postulaciones['fechapostulacion'] = postulaciones['fechapostulacion'].dt.date"
   ]
  },
  {
   "cell_type": "code",
   "execution_count": null,
   "metadata": {},
   "outputs": [],
   "source": [
    "#lo mismo para el timestamp\n",
    "visitas['timestamp'] = visitas['timestamp'].dt.date"
   ]
  },
  {
   "cell_type": "code",
   "execution_count": null,
   "metadata": {},
   "outputs": [],
   "source": [
    "postulaciones_validas = postulaciones[postulaciones['fechapostulacion'].isin(visitas['timestamp'])]"
   ]
  },
  {
   "cell_type": "code",
   "execution_count": null,
   "metadata": {},
   "outputs": [],
   "source": [
    "visitas_validas = visitas[visitas['timestamp'].isin(postulaciones_validas['fechapostulacion'])]"
   ]
  },
  {
   "cell_type": "code",
   "execution_count": null,
   "metadata": {},
   "outputs": [],
   "source": [
    "visitas_validas['timestamp'].value_counts()"
   ]
  },
  {
   "cell_type": "code",
   "execution_count": null,
   "metadata": {},
   "outputs": [],
   "source": [
    "postulaciones_validas['fechapostulacion'].value_counts()"
   ]
  },
  {
   "cell_type": "code",
   "execution_count": null,
   "metadata": {},
   "outputs": [],
   "source": [
    "postulaciones_validas = postulaciones_validas.rename(columns={'fechapostulacion':'fecha'})\n",
    "postulaciones_validas.head()"
   ]
  },
  {
   "cell_type": "code",
   "execution_count": null,
   "metadata": {},
   "outputs": [],
   "source": [
    "visitas_validas = visitas_validas.rename(columns={'idAviso':'idaviso','timestamp':'fecha'})\n",
    "visitas_validas.head()"
   ]
  },
  {
   "cell_type": "code",
   "execution_count": null,
   "metadata": {},
   "outputs": [],
   "source": [
    "vg = visitas_validas.groupby('idaviso').agg({'idpostulante':'count'})\n",
    "vg = vg.reset_index()\n",
    "pg = postulaciones_validas.groupby('idaviso').agg({'idpostulante':'count'})\n",
    "pg = pg.reset_index()\n",
    "tasa_convergencia = pd.merge(vg,pg,on='idaviso')"
   ]
  },
  {
   "cell_type": "code",
   "execution_count": null,
   "metadata": {},
   "outputs": [],
   "source": [
    "tasa_convergencia.head()"
   ]
  },
  {
   "cell_type": "code",
   "execution_count": null,
   "metadata": {},
   "outputs": [],
   "source": [
    "tasa_media = tasa_convergencia['idpostulante_x'].sum() / tasa_convergencia['idpostulante_x'].count()"
   ]
  },
  {
   "cell_type": "code",
   "execution_count": null,
   "metadata": {},
   "outputs": [],
   "source": [
    "tasa_convergencia[tasa_convergencia['idpostulante_x'] > tasa_media].head()"
   ]
  },
  {
   "cell_type": "code",
   "execution_count": null,
   "metadata": {},
   "outputs": [],
   "source": [
    "tasa_convergencia['tasa'] = (tasa_convergencia['idpostulante_x'] / tasa_convergencia['idpostulante_y'])"
   ]
  },
  {
   "cell_type": "code",
   "execution_count": null,
   "metadata": {},
   "outputs": [],
   "source": [
    "tasa_convergencia.set_index('idaviso')['tasa'].sort_values(ascending=False).head()"
   ]
  },
  {
   "cell_type": "code",
   "execution_count": null,
   "metadata": {},
   "outputs": [],
   "source": [
    "fig = plt.figure()\n",
    "ax = fig.add_subplot(111)\n",
    "plt.title('Tasa de postulacion')\n",
    "ax.set_xlabel('Tasa')\n",
    "ax.set_ylabel('ID aviso')\n",
    "tasa_convergencia.set_index('idaviso')['tasa'].sort_values(ascending=False).head().plot(kind='bar')\n",
    "plt.show()"
   ]
  },
  {
   "cell_type": "code",
   "execution_count": null,
   "metadata": {},
   "outputs": [],
   "source": []
  }
 ],
 "metadata": {
  "kernelspec": {
   "display_name": "Python 3",
   "language": "python",
   "name": "python3"
  },
  "language_info": {
   "codemirror_mode": {
    "name": "ipython",
    "version": 3
   },
   "file_extension": ".py",
   "mimetype": "text/x-python",
   "name": "python",
   "nbconvert_exporter": "python",
   "pygments_lexer": "ipython3",
   "version": "3.6.4"
  }
 },
 "nbformat": 4,
 "nbformat_minor": 2
}
