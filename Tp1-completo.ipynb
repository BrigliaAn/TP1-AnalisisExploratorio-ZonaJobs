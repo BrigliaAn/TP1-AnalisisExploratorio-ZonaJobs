{
 "cells": [
  {
   "cell_type": "code",
   "execution_count": null,
   "metadata": {},
   "outputs": [],
   "source": [
    "import pandas as pd\n",
    "import numpy as np\n",
    "import seaborn as sns\n",
    "import matplotlib.pyplot as plt\n",
    "#import sys\n",
    "#reload(sys)\n",
    "#sys.setdefaultencoding('UTF8')\n",
    "\n",
    "%matplotlib inline"
   ]
  },
  {
   "cell_type": "markdown",
   "metadata": {},
   "source": [
    "# Navent Dataset\n",
    "### Analisis de las postulaciones del dataset de Navent"
   ]
  },
  {
   "cell_type": "code",
   "execution_count": null,
   "metadata": {},
   "outputs": [],
   "source": [
    "#cargo archivo csv de la educacion de los postulantes\n",
    "p_educacion = pd.read_csv('../data/fiuba_1_postulantes_educacion.csv')\n",
    "p_educacion.head()"
   ]
  },
  {
   "cell_type": "code",
   "execution_count": null,
   "metadata": {},
   "outputs": [],
   "source": [
    "#cargo archivo csv del genero y edad de los postulantes\n",
    "p_genero_edad = pd.read_csv('../data/fiuba_2_postulantes_genero_y_edad.csv')\n",
    "p_genero_edad.head()"
   ]
  },
  {
   "cell_type": "code",
   "execution_count": null,
   "metadata": {},
   "outputs": [],
   "source": [
    "#cargo archivo csv de las vistas\n",
    "visitas = pd.read_csv('../data/fiuba_3_vistas.csv')\n",
    "visitas.head()"
   ]
  },
  {
   "cell_type": "code",
   "execution_count": null,
   "metadata": {},
   "outputs": [],
   "source": [
    "#cargo csv de postulaciones\n",
    "postulaciones = pd.read_csv('../data/fiuba_4_postulaciones.csv')\n",
    "postulaciones.head()"
   ]
  },
  {
   "cell_type": "code",
   "execution_count": null,
   "metadata": {},
   "outputs": [],
   "source": [
    "#cargo csv de avisos\n",
    "avisos_online = pd.read_csv('../data/fiuba_5_avisos_online.csv')\n",
    "avisos_online.head()"
   ]
  },
  {
   "cell_type": "code",
   "execution_count": null,
   "metadata": {},
   "outputs": [],
   "source": [
    "#cargo csv de detalle de avisos\n",
    "avisos_detalle = pd.read_csv('../data/fiuba_6_avisos_detalle.csv')\n",
    "avisos_detalle.head()"
   ]
  },
  {
   "cell_type": "markdown",
   "metadata": {},
   "source": [
    "# Vista rapida de datos"
   ]
  },
  {
   "cell_type": "code",
   "execution_count": null,
   "metadata": {},
   "outputs": [],
   "source": [
    "avisos_detalle.shape"
   ]
  },
  {
   "cell_type": "code",
   "execution_count": null,
   "metadata": {},
   "outputs": [],
   "source": [
    "#columnas ciudad y mapacalle no deberian ser usadas, demasiados elementos null\n",
    "avisos_detalle.isnull().sum()"
   ]
  },
  {
   "cell_type": "code",
   "execution_count": null,
   "metadata": {},
   "outputs": [],
   "source": [
    "avisos_detalle.info()"
   ]
  },
  {
   "cell_type": "code",
   "execution_count": null,
   "metadata": {},
   "outputs": [],
   "source": [
    "#dropeo las columnas con muchos null\n",
    "avisos_detalle.drop('mapacalle', axis=1, inplace=True)\n",
    "avisos_detalle.drop('ciudad', axis=1, inplace=True)"
   ]
  },
  {
   "cell_type": "code",
   "execution_count": null,
   "metadata": {},
   "outputs": [],
   "source": [
    "postulaciones.shape"
   ]
  },
  {
   "cell_type": "code",
   "execution_count": null,
   "metadata": {},
   "outputs": [],
   "source": [
    "postulaciones.isnull().sum()"
   ]
  },
  {
   "cell_type": "code",
   "execution_count": null,
   "metadata": {},
   "outputs": [],
   "source": [
    "postulaciones.info()"
   ]
  },
  {
   "cell_type": "code",
   "execution_count": null,
   "metadata": {},
   "outputs": [],
   "source": [
    "visitas.shape"
   ]
  },
  {
   "cell_type": "code",
   "execution_count": null,
   "metadata": {},
   "outputs": [],
   "source": [
    "visitas.isnull().sum()"
   ]
  },
  {
   "cell_type": "code",
   "execution_count": null,
   "metadata": {},
   "outputs": [],
   "source": [
    "visitas.info()"
   ]
  },
  {
   "cell_type": "code",
   "execution_count": null,
   "metadata": {},
   "outputs": [],
   "source": [
    "p_educacion.shape"
   ]
  },
  {
   "cell_type": "code",
   "execution_count": null,
   "metadata": {},
   "outputs": [],
   "source": [
    "p_educacion.isnull().sum()"
   ]
  },
  {
   "cell_type": "code",
   "execution_count": null,
   "metadata": {},
   "outputs": [],
   "source": [
    "p_educacion.info()"
   ]
  },
  {
   "cell_type": "code",
   "execution_count": null,
   "metadata": {},
   "outputs": [],
   "source": [
    "p_genero_edad.shape"
   ]
  },
  {
   "cell_type": "code",
   "execution_count": null,
   "metadata": {},
   "outputs": [],
   "source": [
    "p_genero_edad.isnull().sum()"
   ]
  },
  {
   "cell_type": "code",
   "execution_count": null,
   "metadata": {},
   "outputs": [],
   "source": [
    "p_genero_edad.info()"
   ]
  },
  {
   "cell_type": "markdown",
   "metadata": {},
   "source": [
    "# Limpieza de datos\n",
    "En esta seccion limpiaremos los datos y los dejaremos preparados para el análisis. Los pasos a seguir son:\n",
    "- Convertir las fechas de postulaciones a datetime\n",
    "- Limpiar los espacios en blanco y Nan de las fechas de nacimiento de los postulantes\n",
    "- Los null de mapacalle y ciudad ???"
   ]
  },
  {
   "cell_type": "code",
   "execution_count": null,
   "metadata": {},
   "outputs": [],
   "source": [
    "#Cambio la fecha a datetime\n",
    "postulaciones['fechapostulacion'] = pd.to_datetime(postulaciones['fechapostulacion'])\n",
    "print(postulaciones['fechapostulacion'].max())\n",
    "print(postulaciones['fechapostulacion'].min())"
   ]
  },
  {
   "cell_type": "code",
   "execution_count": null,
   "metadata": {},
   "outputs": [],
   "source": [
    "postulaciones['fechapostulacion'].head()"
   ]
  },
  {
   "cell_type": "code",
   "execution_count": null,
   "metadata": {},
   "outputs": [],
   "source": [
    "#Cambio timestamp a datetime\n",
    "visitas['timestamp'] = pd.to_datetime(visitas['timestamp'])\n",
    "print(visitas['timestamp'].max())\n",
    "print(visitas['timestamp'].min())"
   ]
  },
  {
   "cell_type": "code",
   "execution_count": null,
   "metadata": {},
   "outputs": [],
   "source": [
    "visitas['timestamp'].head()"
   ]
  },
  {
   "cell_type": "code",
   "execution_count": null,
   "metadata": {},
   "outputs": [],
   "source": [
    "#vemos que hay fechas vacias\n",
    "for x in p_genero_edad['fechanacimiento'].drop_duplicates():\n",
    "    print ([x])"
   ]
  },
  {
   "cell_type": "code",
   "execution_count": null,
   "metadata": {},
   "outputs": [],
   "source": [
    "#eliminamos los registros que tengan fecha de nacimiento nan\n",
    "print(len(p_genero_edad))\n",
    "p_genero_edad.dropna(inplace=True)\n",
    "print(len(p_genero_edad))"
   ]
  },
  {
   "cell_type": "code",
   "execution_count": null,
   "metadata": {},
   "outputs": [],
   "source": [
    "#siguen habiendo años invalidos\n",
    "p_genero_edad.sort_values('fechanacimiento',ascending=False)"
   ]
  },
  {
   "cell_type": "code",
   "execution_count": null,
   "metadata": {},
   "outputs": [],
   "source": [
    "#me quedo con los años validos\n",
    "p_genero_edad = p_genero_edad[(p_genero_edad['fechanacimiento'].str.startswith('19'))| (p_genero_edad['fechanacimiento'].str.startswith('20'))]"
   ]
  },
  {
   "cell_type": "code",
   "execution_count": null,
   "metadata": {},
   "outputs": [],
   "source": [
    "#veo que los años que empezaban en 00 no estan mas\n",
    "p_genero_edad.sort_values('fechanacimiento',ascending=True).head()"
   ]
  },
  {
   "cell_type": "code",
   "execution_count": null,
   "metadata": {},
   "outputs": [],
   "source": [
    "#calculo la edad de los postulantes\n",
    "p_genero_edad['edad'] = pd.to_datetime('today').year-pd.to_datetime(p_genero_edad['fechanacimiento']).dt.year\n",
    "p_genero_edad.head()"
   ]
  },
  {
   "cell_type": "code",
   "execution_count": null,
   "metadata": {},
   "outputs": [],
   "source": [
    "gen_edad_validos=p_genero_edad.drop('fechanacimiento',axis=1)"
   ]
  },
  {
   "cell_type": "code",
   "execution_count": null,
   "metadata": {},
   "outputs": [],
   "source": [
    "#aca me parece que habria que limpiar un poco los datos porque en educacion se repiten los id de postulante\n",
    "#porque hay postulantes que aparecen varias veces con distintos estados de educacion\n",
    "postulantes = pd.merge(p_educacion,gen_edad_validos,on=\"idpostulante\",how=\"outer\")\n",
    "postulantes.head()"
   ]
  },
  {
   "cell_type": "markdown",
   "metadata": {},
   "source": [
    "# Datos sobre niveles de educacion"
   ]
  },
  {
   "cell_type": "code",
   "execution_count": null,
   "metadata": {},
   "outputs": [],
   "source": [
    "#cantidad de postulantes agrupado por nivel de educación\n",
    "#usando el p_educacion estariamos tomando a cada postulante como varios si es que tiene mas de un estado de educacion\n",
    "p_educacion.groupby('nombre').agg({'idpostulante':'count'}).sort_values('idpostulante',ascending=False)\\\n",
    "                                            .rename(columns={\"idpostulante\": \"cantidad_postulantes\"})"
   ]
  },
  {
   "cell_type": "code",
   "execution_count": null,
   "metadata": {},
   "outputs": [],
   "source": [
    "p_educacion['estado'].value_counts()"
   ]
  },
  {
   "cell_type": "code",
   "execution_count": null,
   "metadata": {},
   "outputs": [],
   "source": [
    "filtered = p_educacion.loc[(p_educacion.estado=='Graduado')]\n",
    "\n",
    "fig = plt.figure()\n",
    "\n",
    "ax = filtered['nombre'].value_counts().plot(kind='bar',figsize=(11,6));\n",
    "\n",
    "plt.title('¿Cuál es el máximo nivel educativo completado por los postulantes?', fontsize=16)\n",
    "\n",
    "ax.set_xlabel('Nivel educativo', fontsize= 16)\n",
    "ax.set_ylabel('Cantidad de postulantes', fontsize= 16);"
   ]
  },
  {
   "cell_type": "code",
   "execution_count": null,
   "metadata": {},
   "outputs": [],
   "source": [
    "#¿Cuales son los niveles de estudio con mayor numero de estudiantes que se postulan?\n",
    "filtered = p_educacion.loc[(p_educacion.estado=='En Curso')]\n",
    "\n",
    "filtered['nombre'].value_counts()"
   ]
  },
  {
   "cell_type": "code",
   "execution_count": null,
   "metadata": {
    "scrolled": true
   },
   "outputs": [],
   "source": [
    "fig = plt.figure()\n",
    "\n",
    "ax = filtered['nombre'].value_counts().plot(kind='bar',figsize=(11,6));\n",
    "\n",
    "plt.title('¿Cuales son los niveles de estudio con mayor numero de estudiantes que se postulan?', fontsize=16)\n",
    "\n",
    "ax.set_xlabel('Nivel educativo', fontsize= 16)\n",
    "ax.set_ylabel('Cantidad de postulantes', fontsize= 16);"
   ]
  },
  {
   "cell_type": "code",
   "execution_count": null,
   "metadata": {},
   "outputs": [],
   "source": [
    "#este creo que tampoco es muy relevante\n",
    "\n",
    "fig = plt.figure()\n",
    "\n",
    "ax = p_educacion['estado'].value_counts().plot(kind='bar',figsize=(11,6));\n",
    "\n",
    "plt.title('Estado del postulante', fontsize=16)\n",
    "\n",
    "ax.set_xlabel('Estado del maximo nivel de estudio alcanzado', fontsize= 16)\n",
    "ax.set_ylabel('Cantidad de postulantes', fontsize= 16);"
   ]
  },
  {
   "cell_type": "markdown",
   "metadata": {},
   "source": [
    "# Datos segun genero y edad"
   ]
  },
  {
   "cell_type": "code",
   "execution_count": null,
   "metadata": {},
   "outputs": [],
   "source": [
    "gen_edad_validos['sexo'].value_counts()"
   ]
  },
  {
   "cell_type": "code",
   "execution_count": null,
   "metadata": {},
   "outputs": [],
   "source": [
    "fig = plt.figure()\n",
    "\n",
    "ax =gen_edad_validos['sexo'].value_counts().plot(kind='bar',figsize=(11,6));\n",
    "\n",
    "plt.title('Cantidad de postulantes por genero', fontsize=16)\n",
    "\n",
    "ax.set_xlabel('Genero', fontsize= 16)\n",
    "ax.set_ylabel('Cantidad de postulantes', fontsize= 16);"
   ]
  },
  {
   "cell_type": "code",
   "execution_count": null,
   "metadata": {},
   "outputs": [],
   "source": [
    "print(gen_edad_validos['edad'].max())\n",
    "print(gen_edad_validos['edad'].min())"
   ]
  },
  {
   "cell_type": "code",
   "execution_count": null,
   "metadata": {},
   "outputs": [],
   "source": [
    "#p_edad = p_edad[(p_edad['edad'] <= 65) & (p_edad['edad'] >= 18)]\n",
    "#deje todas las edades pero se pueden reducir con la linea de arriba\n",
    "fig = plt.figure()\n",
    "ax = fig.add_subplot(111)\n",
    "plt.title('¿Cuantas personas se postulan segun su edad?',  fontsize= 16)\n",
    "ax.set_xlabel('Edad',  fontsize= 16)\n",
    "ax.set_ylabel('Personas',  fontsize= 16)\n",
    "gen_edad_validos['edad'].value_counts().sort_index().plot(kind='bar',figsize=(14,6))\n",
    "plt.show()"
   ]
  },
  {
   "cell_type": "code",
   "execution_count": null,
   "metadata": {},
   "outputs": [],
   "source": [
    "fig = plt.figure()\n",
    "ax = fig.add_subplot(111)\n",
    "plt.title('¿Cuantas personas se postulan segun su edad?', fontsize= 16)\n",
    "ax.set_xlabel('Edad', fontsize= 16)\n",
    "ax.set_ylabel('Personas',fontsize= 16)\n",
    "gen_edad_validos['edad'].plot(kind='hist',figsize=(13,6))\n",
    "plt.show()"
   ]
  },
  {
   "cell_type": "markdown",
   "metadata": {},
   "source": [
    "# Datos de avisos"
   ]
  },
  {
   "cell_type": "code",
   "execution_count": null,
   "metadata": {},
   "outputs": [],
   "source": [
    "print(avisos_detalle['tipo_de_trabajo'].unique())"
   ]
  },
  {
   "cell_type": "code",
   "execution_count": null,
   "metadata": {},
   "outputs": [],
   "source": [
    "#cantidad de avisos por tipo de trabajo (full time, part time...)\n",
    "avisos_detalle.groupby('tipo_de_trabajo').agg({'tipo_de_trabajo':'count'}).sort_values('tipo_de_trabajo',ascending=False)\\\n",
    "                .rename(columns={\"tipo_de_trabajo\": \"cantidad_avisos\"})"
   ]
  },
  {
   "cell_type": "code",
   "execution_count": null,
   "metadata": {},
   "outputs": [],
   "source": [
    "fig = plt.figure()\n",
    "\n",
    "ax = avisos_detalle['tipo_de_trabajo'].value_counts().plot(kind='bar',figsize=(11,6));\n",
    "\n",
    "plt.title('¿Qué tipos de trabajo tienen mayor demanda?', fontsize=16)\n",
    "\n",
    "ax.set_xlabel('Tipo de trabajo', fontsize= 16)\n",
    "ax.set_ylabel('Cantidad de avisos', fontsize= 16);"
   ]
  },
  {
   "cell_type": "code",
   "execution_count": null,
   "metadata": {},
   "outputs": [],
   "source": [
    "#empresas con mayor cantidad de avisos\n",
    "avisos_detalle.groupby('denominacion_empresa').agg({'denominacion_empresa':'size'}).sort_values('denominacion_empresa',ascending=False)\\\n",
    "                      .rename(columns={\"denominacion_empresa\": \"cantidad_avisos\"}).head(20)      "
   ]
  },
  {
   "cell_type": "code",
   "execution_count": null,
   "metadata": {},
   "outputs": [],
   "source": [
    "fig = plt.figure()\n",
    "\n",
    "ax = avisos_detalle['denominacion_empresa'].value_counts().head(20).plot(kind='bar',figsize=(12,6));\n",
    "\n",
    "plt.title('¿Qué empresas tienen mayor demanda de trabajo?', fontsize=16)\n",
    "\n",
    "ax.set_xlabel('Empresas', fontsize= 16)\n",
    "ax.set_ylabel('Cantidad de avisos', fontsize= 16);"
   ]
  },
  {
   "cell_type": "code",
   "execution_count": null,
   "metadata": {},
   "outputs": [],
   "source": [
    "#Zonas con mayor cantidad de avisos\n",
    "avisos_detalle.groupby('nombre_zona').agg({'nombre_zona':'size'}).sort_values('nombre_zona',ascending=False)\\\n",
    "                      .rename(columns={\"nombre_zona\": \"cantidad_avisos\"})   "
   ]
  },
  {
   "cell_type": "code",
   "execution_count": null,
   "metadata": {},
   "outputs": [],
   "source": [
    "fig = plt.figure()\n",
    "\n",
    "ax = avisos_detalle['nombre_zona'].value_counts().head(20).plot(kind='bar',figsize=(11,6));\n",
    "\n",
    "plt.title('¿En qué zonas hay mayor demanda de trabajo? ', fontsize=16)\n",
    "\n",
    "ax.set_xlabel('Zonas', fontsize= 16)\n",
    "ax.set_ylabel('Cantidad de avisos', fontsize= 16);"
   ]
  },
  {
   "cell_type": "code",
   "execution_count": null,
   "metadata": {},
   "outputs": [],
   "source": [
    "#Areas con mayor cantidad de avisos\n",
    "avisos_detalle.groupby('nombre_area').agg({'nombre_area':'size'}).sort_values('nombre_area',ascending=False)\\\n",
    "                      .rename(columns={\"nombre_area\": \"cantidad_avisos\"}).head(10)"
   ]
  },
  {
   "cell_type": "code",
   "execution_count": null,
   "metadata": {},
   "outputs": [],
   "source": [
    "fig = plt.figure()\n",
    "\n",
    "ax = avisos_detalle['nombre_area'].value_counts().head(20).plot(kind='bar',figsize=(12,6));\n",
    "\n",
    "plt.title('¿Qué áreas de trabajo tienen mayor demanda?', fontsize=16)\n",
    "\n",
    "ax.set_xlabel('Area', fontsize= 16)\n",
    "ax.set_ylabel('Cantidad de avisos', fontsize= 16);"
   ]
  },
  {
   "cell_type": "code",
   "execution_count": null,
   "metadata": {},
   "outputs": [],
   "source": [
    "#Nivel laboral con mayor cantidad de avisos\n",
    "avisos_detalle.groupby('nivel_laboral').agg({'nivel_laboral':'size'}).sort_values('nivel_laboral',ascending=False)\\\n",
    "                      .rename(columns={\"nivel_laboral\": \"cantidad_avisos\"})  "
   ]
  },
  {
   "cell_type": "code",
   "execution_count": null,
   "metadata": {},
   "outputs": [],
   "source": [
    "fig = plt.figure()\n",
    "\n",
    "ax = avisos_detalle['nivel_laboral'].value_counts().plot(kind='bar',figsize=(12,6));\n",
    "\n",
    "plt.title('¿Qué niveles laborales tienen mayor demanda?', fontsize=16)\n",
    "\n",
    "ax.set_xlabel('Nivel laboral', fontsize= 16)\n",
    "ax.set_ylabel('Cantidad de avisos', fontsize= 16);"
   ]
  },
  {
   "cell_type": "markdown",
   "metadata": {},
   "source": [
    "# Postulaciones por dia de semana "
   ]
  },
  {
   "cell_type": "code",
   "execution_count": null,
   "metadata": {},
   "outputs": [],
   "source": [
    "postulaciones['dia_semana'] = postulaciones['fechapostulacion'].dt.weekday_name"
   ]
  },
  {
   "cell_type": "code",
   "execution_count": null,
   "metadata": {},
   "outputs": [],
   "source": [
    "postulaciones.head()"
   ]
  },
  {
   "cell_type": "code",
   "execution_count": null,
   "metadata": {},
   "outputs": [],
   "source": [
    "postulaciones['dia_semana'].value_counts()"
   ]
  },
  {
   "cell_type": "code",
   "execution_count": null,
   "metadata": {},
   "outputs": [],
   "source": [
    "fig = plt.figure()\n",
    "ax = fig.add_subplot(111)\n",
    "plt.title('¿Qué día de la semana se registran más postulaciones?', fontsize=16)\n",
    "ax.set_xlabel('Dia de Semana', fontsize=16)\n",
    "ax.set_ylabel('Postulaciones', fontsize=16)\n",
    "postulaciones['dia_semana'].value_counts().reindex(['Monday','Tuesday','Wednesday','Thursday','Friday','Saturday','Sunday']).plot(kind='bar',figsize=(12,6))\n",
    "plt.show()"
   ]
  },
  {
   "cell_type": "markdown",
   "metadata": {},
   "source": [
    "# Postulaciones por dia del mes"
   ]
  },
  {
   "cell_type": "code",
   "execution_count": null,
   "metadata": {},
   "outputs": [],
   "source": [
    "#Postulaciones enero\n",
    "postulaciones_dia_mes = postulaciones[postulaciones['fechapostulacion'] < '02-01-2018']"
   ]
  },
  {
   "cell_type": "code",
   "execution_count": null,
   "metadata": {},
   "outputs": [],
   "source": [
    "postulaciones_dia_mes.head()"
   ]
  },
  {
   "cell_type": "code",
   "execution_count": null,
   "metadata": {},
   "outputs": [],
   "source": [
    "postulaciones_dia_mes['dia_mes'] = postulaciones_dia_mes.loc[:,'fechapostulacion'].dt.day"
   ]
  },
  {
   "cell_type": "code",
   "execution_count": null,
   "metadata": {},
   "outputs": [],
   "source": [
    "postulaciones_dia_mes.head()"
   ]
  },
  {
   "cell_type": "code",
   "execution_count": null,
   "metadata": {},
   "outputs": [],
   "source": [
    "fig=plt.figure()\n",
    "ax = fig.add_subplot(111)\n",
    "\n",
    "plt.title('¿Qué día del mes de Enero hubo más postulaciones?', fontsize=16)\n",
    "ax.set_xlabel('Dia', fontsize=16)\n",
    "ax.set_ylabel('Postulaciones',fontsize=16)\n",
    "postulaciones_dia_mes['dia_mes'].value_counts().sort_index().plot(kind='bar',figsize=(12,6))\n",
    "\n",
    "plt.show()"
   ]
  },
  {
   "cell_type": "code",
   "execution_count": null,
   "metadata": {},
   "outputs": [],
   "source": [
    "fig=plt.figure()\n",
    "ax = fig.add_subplot(111)\n",
    "\n",
    "plt.title('¿Cómo se distribuyeron las postulaciones a lo largo de Enero?', fontsize=16)\n",
    "ax.set_xlabel('Dia', fontsize=16)\n",
    "ax.set_ylabel('Postulaciones',fontsize=16)\n",
    "postulaciones_dia_mes['dia_mes'].value_counts().sort_index().plot(rot=90,linewidth=8,figsize=(11,6),alpha=0.75)\n",
    "\n",
    "plt.show()"
   ]
  },
  {
   "cell_type": "code",
   "execution_count": null,
   "metadata": {},
   "outputs": [],
   "source": [
    "#Postulaciones febrero\n",
    "postulaciones_dia_mes = postulaciones[postulaciones['fechapostulacion'] >= '02-01-2018']"
   ]
  },
  {
   "cell_type": "code",
   "execution_count": null,
   "metadata": {},
   "outputs": [],
   "source": [
    "postulaciones_dia_mes.head()"
   ]
  },
  {
   "cell_type": "code",
   "execution_count": null,
   "metadata": {},
   "outputs": [],
   "source": [
    "postulaciones_dia_mes['dia_mes'] = postulaciones_dia_mes['fechapostulacion'].dt.day"
   ]
  },
  {
   "cell_type": "code",
   "execution_count": null,
   "metadata": {},
   "outputs": [],
   "source": [
    "postulaciones_dia_mes.head()"
   ]
  },
  {
   "cell_type": "code",
   "execution_count": null,
   "metadata": {},
   "outputs": [],
   "source": [
    "fig=plt.figure()\n",
    "ax = fig.add_subplot(111)\n",
    "\n",
    "plt.title('¿Qué día del mes de Febrero hubieron más postulaciones?', fontsize=16)\n",
    "ax.set_xlabel('Dia', fontsize=16)\n",
    "ax.set_ylabel('Postulaciones', fontsize=16)\n",
    "postulaciones_dia_mes['dia_mes'].value_counts().sort_index().plot(kind='bar', figsize=(11,6))\n",
    "\n",
    "plt.show()"
   ]
  },
  {
   "cell_type": "code",
   "execution_count": null,
   "metadata": {},
   "outputs": [],
   "source": [
    "fig=plt.figure()\n",
    "ax = fig.add_subplot(111)\n",
    "\n",
    "plt.title('¿Cómo se distribuyeron las postulaciones a lo largo de Febrero?', fontsize=16)\n",
    "ax.set_xlabel('Dia', fontsize=16)\n",
    "ax.set_ylabel('Postulaciones', fontsize=16)\n",
    "postulaciones_dia_mes['dia_mes'].value_counts().sort_index().plot(rot=90,linewidth=8,figsize=(11,6),alpha=0.75)\n",
    "\n",
    "plt.show()"
   ]
  },
  {
   "cell_type": "markdown",
   "metadata": {},
   "source": [
    "# Postulaciones por mes"
   ]
  },
  {
   "cell_type": "code",
   "execution_count": null,
   "metadata": {},
   "outputs": [],
   "source": [
    "postulaciones['mes_postulacion']=postulaciones['fechapostulacion'].dt.month\n",
    "postulaciones.head()"
   ]
  },
  {
   "cell_type": "code",
   "execution_count": null,
   "metadata": {},
   "outputs": [],
   "source": [
    "postulaciones['mes_postulacion'].value_counts()"
   ]
  },
  {
   "cell_type": "code",
   "execution_count": null,
   "metadata": {},
   "outputs": [],
   "source": [
    "import calendar\n",
    "postulaciones['mes_postulacion'] = postulaciones['mes_postulacion'].apply(lambda x: calendar.month_abbr[x])"
   ]
  },
  {
   "cell_type": "code",
   "execution_count": null,
   "metadata": {},
   "outputs": [],
   "source": [
    "postulaciones['mes_postulacion'].head()"
   ]
  },
  {
   "cell_type": "code",
   "execution_count": null,
   "metadata": {},
   "outputs": [],
   "source": [
    "fig=plt.figure()\n",
    "ax = fig.add_subplot(111)\n",
    "\n",
    "plt.title('¿En qué mes hubieron más postulaciones?', fontsize=16)\n",
    "ax.set_xlabel('Mes', fontsize=16)\n",
    "ax.set_ylabel('Postulaciones', fontsize=16)\n",
    "postulaciones['mes_postulacion'].value_counts().sort_values().plot(kind='bar',figsize=(11,6))\n",
    "\n",
    "plt.show()"
   ]
  },
  {
   "cell_type": "markdown",
   "metadata": {},
   "source": [
    "# Postulaciones por franja horaria"
   ]
  },
  {
   "cell_type": "code",
   "execution_count": null,
   "metadata": {},
   "outputs": [],
   "source": [
    "postulaciones['fechapostulacion'].dt.hour.value_counts()"
   ]
  },
  {
   "cell_type": "code",
   "execution_count": null,
   "metadata": {},
   "outputs": [],
   "source": [
    "#capaz es mejor otro grafico para esto\n",
    "fig = plt.figure()\n",
    "ax = fig.add_subplot(111)\n",
    "plt.title('Distribucion horaria de postulaciones', fontsize=16)\n",
    "ax.set_xlabel('Hora', fontsize=16)\n",
    "ax.set_ylabel('Hora', fontsize=16)\n",
    "postulaciones['fechapostulacion'].dt.hour.plot(kind='hist',figsize=(11,6))\n",
    "\n",
    "plt.show()"
   ]
  },
  {
   "cell_type": "markdown",
   "metadata": {},
   "source": [
    "# Datos de vistas"
   ]
  },
  {
   "cell_type": "code",
   "execution_count": null,
   "metadata": {},
   "outputs": [],
   "source": [
    "visitas.head()"
   ]
  },
  {
   "cell_type": "code",
   "execution_count": null,
   "metadata": {},
   "outputs": [],
   "source": [
    "visitas['dia_semana'] = visitas['timestamp'].dt.weekday_name"
   ]
  },
  {
   "cell_type": "code",
   "execution_count": null,
   "metadata": {},
   "outputs": [],
   "source": [
    "#capaz es mejor otro grafico para esto\n",
    "fig = plt.figure()\n",
    "ax = fig.add_subplot(111)\n",
    "plt.title('¿En qué momento del día se registran más vistas de avisos?',fontsize=16)\n",
    "ax.set_xlabel('Hora', fontsize=16)\n",
    "ax.set_ylabel('Hora', fontsize=16)\n",
    "visitas['timestamp'].dt.hour.plot(kind='hist',figsize=(11,6))\n",
    "\n",
    "plt.show()"
   ]
  },
  {
   "cell_type": "code",
   "execution_count": null,
   "metadata": {},
   "outputs": [],
   "source": [
    "#lo mismo que el anterior pero por cada hora\n",
    "fig=plt.figure()\n",
    "ax = fig.add_subplot(111)\n",
    "\n",
    "plt.title('¿A qué hora del día se registran más vistas de avisos?', fontsize=16)\n",
    "ax.set_xlabel('Hora', fontsize=16)\n",
    "ax.set_ylabel('Visitas', fontsize=16)\n",
    "visitas['timestamp'].dt.hour.value_counts().sort_index().plot(kind='bar', figsize=(11,6))\n",
    "\n",
    "plt.show()"
   ]
  },
  {
   "cell_type": "code",
   "execution_count": null,
   "metadata": {},
   "outputs": [],
   "source": [
    "fig=plt.figure()\n",
    "ax = fig.add_subplot(111)\n",
    "\n",
    "plt.title('¿En qué momento del día se registran más vistas de avisos?', fontsize=16)\n",
    "ax.set_xlabel('Hora', fontsize=16)\n",
    "ax.set_ylabel('Visitas', fontsize=16)\n",
    "visitas['timestamp'].dt.hour.value_counts().sort_index().plot(rot=90,linewidth=8,figsize=(11,6),alpha=0.75)\n",
    "\n",
    "plt.show()"
   ]
  },
  {
   "cell_type": "code",
   "execution_count": null,
   "metadata": {},
   "outputs": [],
   "source": [
    "print(visitas['timestamp'].min())\n",
    "print(visitas['timestamp'].max())"
   ]
  },
  {
   "cell_type": "code",
   "execution_count": null,
   "metadata": {},
   "outputs": [],
   "source": [
    "#agregar nombre de los dias de la semana\n",
    "fig=plt.figure()\n",
    "ax = fig.add_subplot(111)\n",
    "\n",
    "plt.title('¿En qué dia de la semana se registran más vistas de avisos?', fontsize=16)\n",
    "ax.set_xlabel('Dia', fontsize=16)\n",
    "ax.set_ylabel('Visitas', fontsize=16)\n",
    "visitas['dia_semana'].value_counts().reindex(['Monday','Tuesday','Wednesday','Thursday','Friday','Saturday','Sunday']).plot(kind='bar', figsize=(11,6))\n",
    "\n",
    "plt.show()\n"
   ]
  },
  {
   "cell_type": "markdown",
   "metadata": {},
   "source": [
    "# Analisis mas complejo de datos\n",
    "Aca irian todos los analisis de los merge de los dataframes\n",
    "Anoto un par de ejemplos aca :\n",
    "\n",
    "- tipos de trabajo con mas postulantes por edad\n",
    "- tipos de trabajo con mas postulantes graduados\n",
    "- tipos de trabajo con mas postulantes estudiantes\n",
    "- tipos de trabajo con mas postulantes estudiantes de secundario\n",
    "- tipos de trabajo con mas postulantes estudiantes universitarios\n",
    "- areas de trabajo con mas postulantes graduados\n",
    "- areas de trabajo con mas postulantes estudiantes\n",
    "- areas de trabajo con mas postulantes estudiantes universitarios\n"
   ]
  },
  {
   "cell_type": "code",
   "execution_count": null,
   "metadata": {},
   "outputs": [],
   "source": [
    "#Top 10 avisos con mayor cantidad de postulantes\n",
    "cantidad_postulaciones = postulaciones.groupby('idaviso').agg({'idpostulante':'count'}).sort_values('idpostulante',ascending = False).rename(columns={\"idpostulante\": \"cantidad_postulantes\"})\n",
    "cantidad_postulaciones = cantidad_postulaciones.reset_index()\n",
    "avisos_cantidad_postulantes = pd.merge(cantidad_postulaciones,avisos_detalle, on= 'idaviso', how='inner') \n",
    "avisos_cantidad_postulantes[['idaviso','cantidad_postulantes','titulo','descripcion']].sort_values('cantidad_postulantes',ascending= False).head(10)"
   ]
  },
  {
   "cell_type": "code",
   "execution_count": null,
   "metadata": {},
   "outputs": [],
   "source": [
    "#Tipos de aviso con mayor cantidad de postulantes\n",
    "avisos_cantidad_postulantes ['titulo'].value_counts().head(10)"
   ]
  },
  {
   "cell_type": "code",
   "execution_count": null,
   "metadata": {},
   "outputs": [],
   "source": [
    "merge2 = pd.merge(postulaciones,avisos_detalle,on=\"idaviso\",how=\"left\")"
   ]
  },
  {
   "cell_type": "code",
   "execution_count": null,
   "metadata": {},
   "outputs": [],
   "source": [
    "fig = plt.figure()\n",
    "\n",
    "ax =merge2['nombre_zona'].value_counts().plot(kind='bar',figsize=(11,6));\n",
    "\n",
    "plt.title('¿Qué zona es la preferida por los postulantes?', fontsize=16)\n",
    "\n",
    "ax.set_xlabel('Zona', fontsize= 16)\n",
    "ax.set_ylabel('Cantidad de postulantes', fontsize= 16);"
   ]
  },
  {
   "cell_type": "code",
   "execution_count": null,
   "metadata": {},
   "outputs": [],
   "source": [
    "fig = plt.figure()\n",
    "\n",
    "ax =merge2['tipo_de_trabajo'].value_counts().plot(kind='bar',figsize=(11,6));\n",
    "\n",
    "plt.title('¿Qué tipo de trabajo es el más demandado por los postulantes?', fontsize=16)\n",
    "\n",
    "ax.set_xlabel('Tipo de trabajo', fontsize= 16)\n",
    "ax.set_ylabel('Cantidad de postulantes', fontsize= 16);"
   ]
  },
  {
   "cell_type": "code",
   "execution_count": null,
   "metadata": {},
   "outputs": [],
   "source": [
    "fig = plt.figure()\n",
    "\n",
    "ax =merge2['nivel_laboral'].value_counts().plot(kind='bar',figsize=(11,6));\n",
    "\n",
    "plt.title('¿Qué nivel laboral es el más demandado por los postulantes?', fontsize=16)\n",
    "\n",
    "ax.set_xlabel('Nivel laboral', fontsize= 16)\n",
    "ax.set_ylabel('Cantidad de postulantes', fontsize= 16);"
   ]
  },
  {
   "cell_type": "code",
   "execution_count": null,
   "metadata": {},
   "outputs": [],
   "source": [
    "fig = plt.figure()\n",
    "\n",
    "ax = merge2['denominacion_empresa'].value_counts().head(20).plot(kind='bar',figsize=(11,6));\n",
    "\n",
    "plt.title('¿Qué empresas son las preferidas por los postulantes?', fontsize=16)\n",
    "\n",
    "ax.set_xlabel('Empresas', fontsize= 16)\n",
    "ax.set_ylabel('Cantidad de postulantes', fontsize= 16);"
   ]
  },
  {
   "cell_type": "code",
   "execution_count": null,
   "metadata": {},
   "outputs": [],
   "source": [
    "postulantes_genero_avisos = pd.merge(merge2,gen_edad_validos,on=\"idpostulante\",how=\"left\")"
   ]
  },
  {
   "cell_type": "code",
   "execution_count": null,
   "metadata": {},
   "outputs": [],
   "source": [
    "fig = plt.figure()\n",
    "\n",
    "filtered=postulantes_genero_avisos.loc[(postulantes_genero_avisos.sexo=='MASC')]\n",
    "\n",
    "ax = filtered['denominacion_empresa'].value_counts().head(20).plot(kind='bar',figsize=(11,6));\n",
    "\n",
    "plt.title('¿Qué empresas son las más elegidas por los hombres?', fontsize=16)\n",
    "\n",
    "ax.set_xlabel('Empresa', fontsize= 16)\n",
    "ax.set_ylabel('Cantidad de postulantes ', fontsize= 16);"
   ]
  },
  {
   "cell_type": "code",
   "execution_count": null,
   "metadata": {},
   "outputs": [],
   "source": [
    "fig = plt.figure()\n",
    "\n",
    "filtered=postulantes_genero_avisos.loc[(postulantes_genero_avisos.sexo=='FEM')]\n",
    "\n",
    "ax = filtered['denominacion_empresa'].value_counts().head(20).plot(kind='bar',figsize=(11,6));\n",
    "\n",
    "plt.title('¿Qué empresas son las más preferidas por las mujeres?', fontsize=16)\n",
    "\n",
    "ax.set_xlabel('Empresa', fontsize= 16)\n",
    "ax.set_ylabel('Cantidad de postulantes ', fontsize= 16);"
   ]
  },
  {
   "cell_type": "code",
   "execution_count": null,
   "metadata": {},
   "outputs": [],
   "source": [
    "fig = plt.figure()\n",
    "\n",
    "filtered=postulantes_genero_avisos.loc[(postulantes_genero_avisos.sexo=='MASC')]\n",
    "\n",
    "ax = filtered['nombre_area'].value_counts().head(20).plot(kind='bar',figsize=(11,6));\n",
    "\n",
    "plt.title('¿Qué Areas de trabajo son las más elegidas por los hombres?', fontsize=16)\n",
    "\n",
    "ax.set_xlabel('Area', fontsize= 16)\n",
    "ax.set_ylabel('Cantidad de postulantes ', fontsize= 16);"
   ]
  },
  {
   "cell_type": "code",
   "execution_count": null,
   "metadata": {},
   "outputs": [],
   "source": [
    "fig = plt.figure()\n",
    "\n",
    "filtered=postulantes_genero_avisos.loc[(postulantes_genero_avisos.sexo=='FEM')]\n",
    "\n",
    "ax = filtered['nombre_area'].value_counts().head(20).plot(kind='bar',figsize=(11,6));\n",
    "\n",
    "plt.title('¿Qué Areas de trabajo son las más elegidas por las mujeres?', fontsize=16)\n",
    "\n",
    "ax.set_xlabel('Area', fontsize= 16)\n",
    "ax.set_ylabel('Cantidad de postulantes ', fontsize= 16);"
   ]
  },
  {
   "cell_type": "code",
   "execution_count": null,
   "metadata": {},
   "outputs": [],
   "source": [
    "#Top 10  tipos de avisos con mayor cantidad de postulantes mujeres\n",
    "fig = plt.figure()\n",
    "\n",
    "filtered=postulantes_genero_avisos.loc[(postulantes_genero_avisos.sexo=='FEM')]\n",
    "\n",
    "ax = filtered['titulo'].value_counts().head(10).plot(kind='bar',figsize=(11,6));\n",
    "\n",
    "plt.title('Top 10  tipos de avisos con mayor cantidad de postulantes mujeres', fontsize=24)\n",
    "\n",
    "ax.set_xlabel('Avisos', fontsize= 16)\n",
    "ax.set_ylabel('Cantidad de postulantes', fontsize= 16);"
   ]
  },
  {
   "cell_type": "code",
   "execution_count": null,
   "metadata": {},
   "outputs": [],
   "source": [
    "fig = plt.figure()\n",
    "\n",
    "filtered=postulantes_genero_avisos.loc[(postulantes_genero_avisos.sexo=='MASC')]\n",
    "\n",
    "ax = filtered['titulo'].value_counts().head(10).plot(kind='bar',figsize=(11,6));\n",
    "\n",
    "plt.title('Top 10  tipos de avisos con mayor cantidad de postulantes hombres', fontsize=16)\n",
    "\n",
    "ax.set_xlabel('Avisos', fontsize= 16)\n",
    "ax.set_ylabel('Cantidad de postulantes', fontsize= 16);"
   ]
  },
  {
   "cell_type": "code",
   "execution_count": null,
   "metadata": {},
   "outputs": [],
   "source": [
    "filtered = postulantes_genero_avisos.loc[(postulantes_genero_avisos.tipo_de_trabajo=='Full-time')]\n",
    "\n",
    "fig = plt.figure()\n",
    "\n",
    "ax = filtered['edad'].value_counts().head(10).plot(kind='bar',figsize=(11,6));\n",
    "\n",
    "plt.title('¿Qué edad tienen la mayoría de los postulantes para trabajos Full-Time?', fontsize=16)\n",
    "\n",
    "ax.set_xlabel('Edad', fontsize= 16)\n",
    "ax.set_ylabel('Cantidad de postulantes', fontsize= 16);"
   ]
  },
  {
   "cell_type": "code",
   "execution_count": null,
   "metadata": {},
   "outputs": [],
   "source": [
    "filtered = postulantes_genero_avisos.loc[(postulantes_genero_avisos.tipo_de_trabajo=='Part-time')]\n",
    "\n",
    "fig = plt.figure()\n",
    "\n",
    "ax = filtered['edad'].value_counts().head(10).plot(kind='bar',figsize=(11,6));\n",
    "\n",
    "plt.title('¿Qué edad tienen la mayoría de los postulantes para trabajos Part-Time?', fontsize=16)\n",
    "\n",
    "ax.set_xlabel('Edad', fontsize= 16)\n",
    "ax.set_ylabel('Cantidad de postulantes', fontsize= 16);"
   ]
  },
  {
   "cell_type": "markdown",
   "metadata": {},
   "source": [
    "# Top 5 - Postulaciones x Area de trabajo"
   ]
  },
  {
   "cell_type": "code",
   "execution_count": null,
   "metadata": {},
   "outputs": [],
   "source": [
    "df = pd.merge(postulaciones, avisos_detalle, on='idaviso', how='inner')"
   ]
  },
  {
   "cell_type": "code",
   "execution_count": null,
   "metadata": {},
   "outputs": [],
   "source": [
    "fig = plt.figure()\n",
    "ax = fig.add_subplot(111)\n",
    "\n",
    "plt.title('¿Cuales son las areas de trabajo más demandadas?', fontsize=16)\n",
    "ax.set_xlabel('Area', fontsize=16)\n",
    "ax.set_ylabel('Postulaciones', fontsize=16)\n",
    "df['nombre_area'].value_counts().head().plot(kind='bar', figsize=(11,6))\n",
    "\n",
    "plt.show()"
   ]
  },
  {
   "cell_type": "code",
   "execution_count": null,
   "metadata": {},
   "outputs": [],
   "source": [
    "#este me tira un memory error\n",
    "fig = plt.figure()\n",
    "ax = fig.add_subplot(111)\n",
    "\n",
    "plt.title('Postulaciones x Zona (Dentro de ventas)', fontsize=16)\n",
    "ax.set_xlabel('Zona', fontsize=16)\n",
    "ax.set_ylabel('Postulaciones', fontsize=16)\n",
    "merge2[merge2['nombre_area'] == 'Ventas']['nombre_zona'].value_counts().plot(kind='bar', figsize=(11,6))\n",
    "plt.show()"
   ]
  },
  {
   "cell_type": "markdown",
   "metadata": {},
   "source": [
    "# Tasa de conversion de avisos (postulaciones / visitas)\n",
    "\n",
    "Agrego esto que puso natalia en Piazza para que lo lean. Por lo que vi, en el csv de vistas no hay idUsuario null, por lo que entiendo que en este csv solo tenemos las vistas de los usuarios que estaba logeados antes de postularse.\n",
    "Entonces puede pasar que tengamos postulaciones de usuarios pero que no tengamos las vistas previas a la postulacion.\n",
    "Tambien tenemos que chequear y limpiar que en las vistas seguramente hay usuarios duplicados.\n",
    "\n",
    "Natalia Golmar 10 hours ago\n",
    "Hola\n",
    "\n",
    "Consulte este tema con la gente de Navent, y les comparto algunas respuestas:\n",
    "\n",
    "- Las vistas se guardan solo para usuarios logueados en el sistema? No, se guardan todas las vistas y si el usuario no está logueado en el registro no tiene el campo idUsuario (no recuerdan si filtraron y nos enviaron sólo las vistas con usuarios, pero si es asi entiendan que seguro hay vistas sin idUsuario para los avisos)\n",
    "- Es posible mirar avisos sin loguearse? Si\n",
    "- Es posible que el usuario se loguee solo al postularse, y no quede registado el acceso al aviso como vista? Si\n",
    "- Si un usuario visita mas de una vez un aviso, se registra cada vista o se registra solo la 1ra? Todas"
   ]
  },
  {
   "cell_type": "code",
   "execution_count": null,
   "metadata": {},
   "outputs": [],
   "source": [
    "postulaciones.head()"
   ]
  },
  {
   "cell_type": "code",
   "execution_count": null,
   "metadata": {},
   "outputs": [],
   "source": [
    "#me quedo con la fecha de la postulacion\n",
    "postulaciones['fechapostulacion'] = postulaciones['fechapostulacion'].dt.date"
   ]
  },
  {
   "cell_type": "code",
   "execution_count": null,
   "metadata": {},
   "outputs": [],
   "source": [
    "#lo mismo para el timestamp\n",
    "visitas['timestamp'] = visitas['timestamp'].dt.date"
   ]
  },
  {
   "cell_type": "code",
   "execution_count": null,
   "metadata": {},
   "outputs": [],
   "source": [
    "postulaciones_validas = postulaciones[postulaciones['fechapostulacion'].isin(visitas['timestamp'])]"
   ]
  },
  {
   "cell_type": "code",
   "execution_count": null,
   "metadata": {},
   "outputs": [],
   "source": [
    "visitas_validas = visitas[visitas['timestamp'].isin(postulaciones_validas['fechapostulacion'])]"
   ]
  },
  {
   "cell_type": "code",
   "execution_count": null,
   "metadata": {},
   "outputs": [],
   "source": [
    "visitas_validas['timestamp'].value_counts()"
   ]
  },
  {
   "cell_type": "code",
   "execution_count": null,
   "metadata": {},
   "outputs": [],
   "source": [
    "postulaciones_validas['fechapostulacion'].value_counts()"
   ]
  },
  {
   "cell_type": "code",
   "execution_count": null,
   "metadata": {},
   "outputs": [],
   "source": [
    "postulaciones_validas = postulaciones_validas.rename(columns={'fechapostulacion':'fecha'})\n",
    "postulaciones_validas.head()"
   ]
  },
  {
   "cell_type": "code",
   "execution_count": null,
   "metadata": {},
   "outputs": [],
   "source": [
    "visitas_validas = visitas_validas.rename(columns={'idAviso':'idaviso','timestamp':'fecha'})\n",
    "visitas_validas.head()"
   ]
  },
  {
   "cell_type": "code",
   "execution_count": null,
   "metadata": {},
   "outputs": [],
   "source": [
    "vg = visitas_validas.groupby('idaviso').agg({'idpostulante':'count'})\n",
    "vg = vg.reset_index()\n",
    "pg = postulaciones_validas.groupby('idaviso').agg({'idpostulante':'count'})\n",
    "pg = pg.reset_index()\n",
    "tasa_convergencia = pd.merge(vg,pg,on='idaviso')"
   ]
  },
  {
   "cell_type": "code",
   "execution_count": null,
   "metadata": {},
   "outputs": [],
   "source": [
    "tasa_convergencia.head()"
   ]
  },
  {
   "cell_type": "code",
   "execution_count": null,
   "metadata": {},
   "outputs": [],
   "source": [
    "tasa_media = tasa_convergencia['idpostulante_x'].sum() / tasa_convergencia['idpostulante_x'].count()"
   ]
  },
  {
   "cell_type": "code",
   "execution_count": null,
   "metadata": {},
   "outputs": [],
   "source": [
    "tasa_convergencia[tasa_convergencia['idpostulante_x'] > tasa_media].head()"
   ]
  },
  {
   "cell_type": "code",
   "execution_count": null,
   "metadata": {},
   "outputs": [],
   "source": [
    "tasa_convergencia['tasa'] = (tasa_convergencia['idpostulante_x'] / tasa_convergencia['idpostulante_y'])"
   ]
  },
  {
   "cell_type": "code",
   "execution_count": null,
   "metadata": {},
   "outputs": [],
   "source": [
    "tasa_convergencia.set_index('idaviso')['tasa'].sort_values(ascending=False).head()"
   ]
  },
  {
   "cell_type": "code",
   "execution_count": null,
   "metadata": {},
   "outputs": [],
   "source": [
    "fig = plt.figure()\n",
    "ax = fig.add_subplot(111)\n",
    "plt.title('Tasa de postulacion', fontsize=16)\n",
    "ax.set_xlabel('Tasa', fontsize=16)\n",
    "ax.set_ylabel('ID aviso', fontsize=16)\n",
    "tasa_convergencia.set_index('idaviso')['tasa'].sort_values(ascending=False).head().plot(kind='bar', figsize=(11,6))\n",
    "plt.show()"
   ]
  },
  {
   "cell_type": "markdown",
   "metadata": {},
   "source": [
    "# Evolucion de cantidad de visitas por dia y el nivel de estudio de los postulantes"
   ]
  },
  {
   "cell_type": "code",
   "execution_count": null,
   "metadata": {},
   "outputs": [],
   "source": [
    "df_merge = pd.merge(p_educacion,visitas,on='idpostulante')"
   ]
  },
  {
   "cell_type": "code",
   "execution_count": null,
   "metadata": {},
   "outputs": [],
   "source": [
    "df_merge.groupby(['timestamp','estado']).agg({'idpostulante':'count'})"
   ]
  },
  {
   "cell_type": "code",
   "execution_count": null,
   "metadata": {},
   "outputs": [],
   "source": [
    "heap = df_merge.pivot_table(index='nombre',columns='timestamp',values='idpostulante',aggfunc='count')"
   ]
  },
  {
   "cell_type": "code",
   "execution_count": null,
   "metadata": {},
   "outputs": [],
   "source": [
    "heap"
   ]
  },
  {
   "cell_type": "code",
   "execution_count": null,
   "metadata": {},
   "outputs": [],
   "source": [
    "plt.subplots(figsize=(15,10))\n",
    "g = sns.heatmap(heap, cmap='YlGnBu')\n",
    "plt.title('Evolucion de cantidad de visitas por dia y el nivel de estudio de los postulantes', fontsize=24)"
   ]
  },
  {
   "cell_type": "markdown",
   "metadata": {},
   "source": [
    "# Heatmap educacion x estado"
   ]
  },
  {
   "cell_type": "code",
   "execution_count": null,
   "metadata": {},
   "outputs": [],
   "source": [
    "heap = p_educacion.pivot_table(index='estado',columns='nombre',values='idpostulante',aggfunc='count')"
   ]
  },
  {
   "cell_type": "code",
   "execution_count": null,
   "metadata": {},
   "outputs": [],
   "source": [
    "heap"
   ]
  },
  {
   "cell_type": "code",
   "execution_count": null,
   "metadata": {},
   "outputs": [],
   "source": [
    "plt.subplots(figsize=(15,10))\n",
    "g = sns.heatmap(heap)\n",
    "plt.title('Cantidad de postulantes segun su educacion y estado', fontsize=24)"
   ]
  },
  {
   "cell_type": "code",
   "execution_count": null,
   "metadata": {},
   "outputs": [],
   "source": []
  }
 ],
 "metadata": {
  "kernelspec": {
   "display_name": "Python 3",
   "language": "python",
   "name": "python3"
  },
  "language_info": {
   "codemirror_mode": {
    "name": "ipython",
    "version": 3
   },
   "file_extension": ".py",
   "mimetype": "text/x-python",
   "name": "python",
   "nbconvert_exporter": "python",
   "pygments_lexer": "ipython3",
   "version": "3.6.4"
  }
 },
 "nbformat": 4,
 "nbformat_minor": 2
}
