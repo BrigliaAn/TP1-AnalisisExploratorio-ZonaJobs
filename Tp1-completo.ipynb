{
 "cells": [
  {
   "cell_type": "code",
   "execution_count": 1,
   "metadata": {},
   "outputs": [],
   "source": [
    "import pandas as pd\n",
    "import numpy as np\n",
    "import matplotlib.pyplot as plt\n",
    "\n",
    "%matplotlib inline"
   ]
  },
  {
   "cell_type": "markdown",
   "metadata": {},
   "source": [
    "# Navent Dataset\n",
    "### Analisis de las postulaciones del dataset de Navent"
   ]
  },
  {
   "cell_type": "code",
   "execution_count": null,
   "metadata": {},
   "outputs": [],
   "source": [
    "#cargo archivo csv de la educacion de los postulantes\n",
    "p_educacion = pd.read_csv('../data/fiuba_1_postulantes_educacion.csv')\n",
    "p_educacion.head()"
   ]
  },
  {
   "cell_type": "code",
   "execution_count": 2,
   "metadata": {},
   "outputs": [
    {
     "data": {
      "text/html": [
       "<div>\n",
       "<style scoped>\n",
       "    .dataframe tbody tr th:only-of-type {\n",
       "        vertical-align: middle;\n",
       "    }\n",
       "\n",
       "    .dataframe tbody tr th {\n",
       "        vertical-align: top;\n",
       "    }\n",
       "\n",
       "    .dataframe thead th {\n",
       "        text-align: right;\n",
       "    }\n",
       "</style>\n",
       "<table border=\"1\" class=\"dataframe\">\n",
       "  <thead>\n",
       "    <tr style=\"text-align: right;\">\n",
       "      <th></th>\n",
       "      <th>idpostulante</th>\n",
       "      <th>fechanacimiento</th>\n",
       "      <th>sexo</th>\n",
       "    </tr>\n",
       "  </thead>\n",
       "  <tbody>\n",
       "    <tr>\n",
       "      <th>0</th>\n",
       "      <td>NM5M</td>\n",
       "      <td>1970-12-03</td>\n",
       "      <td>FEM</td>\n",
       "    </tr>\n",
       "    <tr>\n",
       "      <th>1</th>\n",
       "      <td>5awk</td>\n",
       "      <td>1962-12-04</td>\n",
       "      <td>FEM</td>\n",
       "    </tr>\n",
       "    <tr>\n",
       "      <th>2</th>\n",
       "      <td>ZaO5</td>\n",
       "      <td>1978-08-10</td>\n",
       "      <td>FEM</td>\n",
       "    </tr>\n",
       "    <tr>\n",
       "      <th>3</th>\n",
       "      <td>NdJl</td>\n",
       "      <td>1969-05-09</td>\n",
       "      <td>MASC</td>\n",
       "    </tr>\n",
       "    <tr>\n",
       "      <th>4</th>\n",
       "      <td>eo2p</td>\n",
       "      <td>1981-02-16</td>\n",
       "      <td>MASC</td>\n",
       "    </tr>\n",
       "  </tbody>\n",
       "</table>\n",
       "</div>"
      ],
      "text/plain": [
       "  idpostulante fechanacimiento  sexo\n",
       "0         NM5M      1970-12-03   FEM\n",
       "1         5awk      1962-12-04   FEM\n",
       "2         ZaO5      1978-08-10   FEM\n",
       "3         NdJl      1969-05-09  MASC\n",
       "4         eo2p      1981-02-16  MASC"
      ]
     },
     "execution_count": 2,
     "metadata": {},
     "output_type": "execute_result"
    }
   ],
   "source": [
    "#cargo archivo csv del genero y edad de los postulantes\n",
    "p_genero_edad = pd.read_csv('../data/fiuba_2_postulantes_genero_y_edad.csv')\n",
    "p_genero_edad.head()"
   ]
  },
  {
   "cell_type": "code",
   "execution_count": null,
   "metadata": {},
   "outputs": [],
   "source": [
    "#cargo archivo csv de las vistas\n",
    "visitas = pd.read_csv('../data/fiuba_3_vistas.csv')\n",
    "visitas.head()"
   ]
  },
  {
   "cell_type": "code",
   "execution_count": 3,
   "metadata": {},
   "outputs": [
    {
     "data": {
      "text/html": [
       "<div>\n",
       "<style scoped>\n",
       "    .dataframe tbody tr th:only-of-type {\n",
       "        vertical-align: middle;\n",
       "    }\n",
       "\n",
       "    .dataframe tbody tr th {\n",
       "        vertical-align: top;\n",
       "    }\n",
       "\n",
       "    .dataframe thead th {\n",
       "        text-align: right;\n",
       "    }\n",
       "</style>\n",
       "<table border=\"1\" class=\"dataframe\">\n",
       "  <thead>\n",
       "    <tr style=\"text-align: right;\">\n",
       "      <th></th>\n",
       "      <th>idaviso</th>\n",
       "      <th>idpostulante</th>\n",
       "      <th>fechapostulacion</th>\n",
       "    </tr>\n",
       "  </thead>\n",
       "  <tbody>\n",
       "    <tr>\n",
       "      <th>0</th>\n",
       "      <td>1112257047</td>\n",
       "      <td>NM5M</td>\n",
       "      <td>2018-01-15 16:22:34</td>\n",
       "    </tr>\n",
       "    <tr>\n",
       "      <th>1</th>\n",
       "      <td>1111920714</td>\n",
       "      <td>NM5M</td>\n",
       "      <td>2018-02-06 09:04:50</td>\n",
       "    </tr>\n",
       "    <tr>\n",
       "      <th>2</th>\n",
       "      <td>1112346945</td>\n",
       "      <td>NM5M</td>\n",
       "      <td>2018-02-22 09:04:47</td>\n",
       "    </tr>\n",
       "    <tr>\n",
       "      <th>3</th>\n",
       "      <td>1112345547</td>\n",
       "      <td>NM5M</td>\n",
       "      <td>2018-02-22 09:04:59</td>\n",
       "    </tr>\n",
       "    <tr>\n",
       "      <th>4</th>\n",
       "      <td>1112237522</td>\n",
       "      <td>5awk</td>\n",
       "      <td>2018-01-25 18:55:03</td>\n",
       "    </tr>\n",
       "  </tbody>\n",
       "</table>\n",
       "</div>"
      ],
      "text/plain": [
       "      idaviso idpostulante     fechapostulacion\n",
       "0  1112257047         NM5M  2018-01-15 16:22:34\n",
       "1  1111920714         NM5M  2018-02-06 09:04:50\n",
       "2  1112346945         NM5M  2018-02-22 09:04:47\n",
       "3  1112345547         NM5M  2018-02-22 09:04:59\n",
       "4  1112237522         5awk  2018-01-25 18:55:03"
      ]
     },
     "execution_count": 3,
     "metadata": {},
     "output_type": "execute_result"
    }
   ],
   "source": [
    "#cargo csv de postulaciones\n",
    "postulaciones = pd.read_csv('../data/fiuba_4_postulaciones.csv')\n",
    "postulaciones.head()"
   ]
  },
  {
   "cell_type": "code",
   "execution_count": null,
   "metadata": {},
   "outputs": [],
   "source": [
    "#cargo csv de avisos\n",
    "avisos_online = pd.read_csv('../data/fiuba_5_avisos_online.csv')\n",
    "avisos_online.head()"
   ]
  },
  {
   "cell_type": "code",
   "execution_count": 4,
   "metadata": {},
   "outputs": [
    {
     "data": {
      "text/html": [
       "<div>\n",
       "<style scoped>\n",
       "    .dataframe tbody tr th:only-of-type {\n",
       "        vertical-align: middle;\n",
       "    }\n",
       "\n",
       "    .dataframe tbody tr th {\n",
       "        vertical-align: top;\n",
       "    }\n",
       "\n",
       "    .dataframe thead th {\n",
       "        text-align: right;\n",
       "    }\n",
       "</style>\n",
       "<table border=\"1\" class=\"dataframe\">\n",
       "  <thead>\n",
       "    <tr style=\"text-align: right;\">\n",
       "      <th></th>\n",
       "      <th>idaviso</th>\n",
       "      <th>idpais</th>\n",
       "      <th>titulo</th>\n",
       "      <th>descripcion</th>\n",
       "      <th>nombre_zona</th>\n",
       "      <th>ciudad</th>\n",
       "      <th>mapacalle</th>\n",
       "      <th>tipo_de_trabajo</th>\n",
       "      <th>nivel_laboral</th>\n",
       "      <th>nombre_area</th>\n",
       "      <th>denominacion_empresa</th>\n",
       "    </tr>\n",
       "  </thead>\n",
       "  <tbody>\n",
       "    <tr>\n",
       "      <th>0</th>\n",
       "      <td>8725750</td>\n",
       "      <td>1</td>\n",
       "      <td>VENDEDOR/A PROVINCIA DE SANTA FE</td>\n",
       "      <td>&lt;p&gt;&lt;strong&gt;&lt;strong&gt;Empresa:&lt;/strong&gt;&lt;/strong&gt; ...</td>\n",
       "      <td>Gran Buenos Aires</td>\n",
       "      <td>NaN</td>\n",
       "      <td>NaN</td>\n",
       "      <td>Full-time</td>\n",
       "      <td>Senior / Semi-Senior</td>\n",
       "      <td>Comercial</td>\n",
       "      <td>VENTOR</td>\n",
       "    </tr>\n",
       "    <tr>\n",
       "      <th>1</th>\n",
       "      <td>17903700</td>\n",
       "      <td>1</td>\n",
       "      <td>Enfermeras</td>\n",
       "      <td>&lt;p&gt;Solicitamos para importante cadena de farma...</td>\n",
       "      <td>Gran Buenos Aires</td>\n",
       "      <td>NaN</td>\n",
       "      <td>NaN</td>\n",
       "      <td>Full-time</td>\n",
       "      <td>Senior / Semi-Senior</td>\n",
       "      <td>Salud</td>\n",
       "      <td>Farmacias Central Oeste</td>\n",
       "    </tr>\n",
       "    <tr>\n",
       "      <th>2</th>\n",
       "      <td>1000150677</td>\n",
       "      <td>1</td>\n",
       "      <td>Chofer de taxi</td>\n",
       "      <td>&lt;p&gt;TE GUSTA MANEJAR? QUERES GANAR PLATA HACIEN...</td>\n",
       "      <td>Capital Federal</td>\n",
       "      <td>NaN</td>\n",
       "      <td>Empedrado 2336</td>\n",
       "      <td>Full-time</td>\n",
       "      <td>Senior / Semi-Senior</td>\n",
       "      <td>Transporte</td>\n",
       "      <td>FAMITAX SRL</td>\n",
       "    </tr>\n",
       "    <tr>\n",
       "      <th>3</th>\n",
       "      <td>1000610287</td>\n",
       "      <td>1</td>\n",
       "      <td>CHOFER DE CAMIONETA BAHIA BLANCA - PUNTA ALTA</td>\n",
       "      <td>&lt;p&gt;&lt;strong&gt;Somos una empresa multinacional que...</td>\n",
       "      <td>Gran Buenos Aires</td>\n",
       "      <td>NaN</td>\n",
       "      <td>NaN</td>\n",
       "      <td>Full-time</td>\n",
       "      <td>Senior / Semi-Senior</td>\n",
       "      <td>Transporte</td>\n",
       "      <td>Wurth Argentina S.A</td>\n",
       "    </tr>\n",
       "    <tr>\n",
       "      <th>4</th>\n",
       "      <td>1000872556</td>\n",
       "      <td>1</td>\n",
       "      <td>Operarios de Planta - Rubro Electrodomésticos</td>\n",
       "      <td>&lt;p&gt;&lt;strong&gt;OPERARIOS DE PLANTA&lt;/strong&gt;&lt;/p&gt;&lt;p&gt;...</td>\n",
       "      <td>Gran Buenos Aires</td>\n",
       "      <td>NaN</td>\n",
       "      <td>NaN</td>\n",
       "      <td>Full-time</td>\n",
       "      <td>Senior / Semi-Senior</td>\n",
       "      <td>Producción</td>\n",
       "      <td>ELECTRO OUTLET SRL</td>\n",
       "    </tr>\n",
       "  </tbody>\n",
       "</table>\n",
       "</div>"
      ],
      "text/plain": [
       "      idaviso  idpais                                         titulo  \\\n",
       "0     8725750       1               VENDEDOR/A PROVINCIA DE SANTA FE   \n",
       "1    17903700       1                                     Enfermeras   \n",
       "2  1000150677       1                                 Chofer de taxi   \n",
       "3  1000610287       1  CHOFER DE CAMIONETA BAHIA BLANCA - PUNTA ALTA   \n",
       "4  1000872556       1  Operarios de Planta - Rubro Electrodomésticos   \n",
       "\n",
       "                                         descripcion        nombre_zona  \\\n",
       "0  <p><strong><strong>Empresa:</strong></strong> ...  Gran Buenos Aires   \n",
       "1  <p>Solicitamos para importante cadena de farma...  Gran Buenos Aires   \n",
       "2  <p>TE GUSTA MANEJAR? QUERES GANAR PLATA HACIEN...    Capital Federal   \n",
       "3  <p><strong>Somos una empresa multinacional que...  Gran Buenos Aires   \n",
       "4  <p><strong>OPERARIOS DE PLANTA</strong></p><p>...  Gran Buenos Aires   \n",
       "\n",
       "  ciudad       mapacalle tipo_de_trabajo         nivel_laboral nombre_area  \\\n",
       "0    NaN             NaN       Full-time  Senior / Semi-Senior   Comercial   \n",
       "1    NaN             NaN       Full-time  Senior / Semi-Senior       Salud   \n",
       "2    NaN  Empedrado 2336       Full-time  Senior / Semi-Senior  Transporte   \n",
       "3    NaN             NaN       Full-time  Senior / Semi-Senior  Transporte   \n",
       "4    NaN             NaN       Full-time  Senior / Semi-Senior  Producción   \n",
       "\n",
       "      denominacion_empresa  \n",
       "0                   VENTOR  \n",
       "1  Farmacias Central Oeste  \n",
       "2              FAMITAX SRL  \n",
       "3      Wurth Argentina S.A  \n",
       "4       ELECTRO OUTLET SRL  "
      ]
     },
     "execution_count": 4,
     "metadata": {},
     "output_type": "execute_result"
    }
   ],
   "source": [
    "#cargo csv de detalle de avisos\n",
    "avisos_detalle = pd.read_csv('../data/fiuba_6_avisos_detalle.csv')\n",
    "avisos_detalle.head()"
   ]
  },
  {
   "cell_type": "markdown",
   "metadata": {},
   "source": [
    "# Vista rapida de datos"
   ]
  },
  {
   "cell_type": "code",
   "execution_count": null,
   "metadata": {},
   "outputs": [],
   "source": [
    "avisos_detalle.shape"
   ]
  },
  {
   "cell_type": "code",
   "execution_count": null,
   "metadata": {},
   "outputs": [],
   "source": [
    "#columnas ciudad y mapacalle no deberian ser usadas, demasiados elementos null\n",
    "avisos_detalle.isnull().sum()"
   ]
  },
  {
   "cell_type": "code",
   "execution_count": null,
   "metadata": {},
   "outputs": [],
   "source": [
    "avisos_detalle.info()"
   ]
  },
  {
   "cell_type": "code",
   "execution_count": null,
   "metadata": {},
   "outputs": [],
   "source": [
    "postulaciones.shape"
   ]
  },
  {
   "cell_type": "code",
   "execution_count": null,
   "metadata": {},
   "outputs": [],
   "source": [
    "postulaciones.isnull().sum()"
   ]
  },
  {
   "cell_type": "code",
   "execution_count": null,
   "metadata": {},
   "outputs": [],
   "source": [
    "postulaciones.info()"
   ]
  },
  {
   "cell_type": "code",
   "execution_count": null,
   "metadata": {},
   "outputs": [],
   "source": [
    "visitas.shape"
   ]
  },
  {
   "cell_type": "code",
   "execution_count": null,
   "metadata": {},
   "outputs": [],
   "source": [
    "visitas.isnull().sum()"
   ]
  },
  {
   "cell_type": "code",
   "execution_count": null,
   "metadata": {},
   "outputs": [],
   "source": [
    "visitas.info()"
   ]
  },
  {
   "cell_type": "code",
   "execution_count": null,
   "metadata": {},
   "outputs": [],
   "source": [
    "p_educacion.shape"
   ]
  },
  {
   "cell_type": "code",
   "execution_count": null,
   "metadata": {},
   "outputs": [],
   "source": [
    "p_educacion.isnull().sum()"
   ]
  },
  {
   "cell_type": "code",
   "execution_count": null,
   "metadata": {},
   "outputs": [],
   "source": [
    "p_educacion.info()"
   ]
  },
  {
   "cell_type": "code",
   "execution_count": null,
   "metadata": {},
   "outputs": [],
   "source": [
    "p_genero_edad.shape"
   ]
  },
  {
   "cell_type": "code",
   "execution_count": null,
   "metadata": {},
   "outputs": [],
   "source": [
    "p_genero_edad.isnull().sum()"
   ]
  },
  {
   "cell_type": "code",
   "execution_count": null,
   "metadata": {},
   "outputs": [],
   "source": [
    "p_genero_edad.info()"
   ]
  },
  {
   "cell_type": "markdown",
   "metadata": {},
   "source": [
    "# Limpieza de datos\n",
    "En esta seccion limpiaremos los datos y los dejaremos preparados para el análisis. Los pasos a seguir son:\n",
    "- Convertir las fechas de postulaciones a datetime\n",
    "- Limpiar los espacios en blanco y Nan de las fechas de nacimiento de los postulantes\n",
    "- Los null de mapacalle y ciudad ???"
   ]
  },
  {
   "cell_type": "code",
   "execution_count": 5,
   "metadata": {},
   "outputs": [
    {
     "name": "stdout",
     "output_type": "stream",
     "text": [
      "2018-02-28 23:59:55\n",
      "2018-01-15 00:00:01\n"
     ]
    }
   ],
   "source": [
    "#Cambio la fecha a datetime\n",
    "postulaciones['fechapostulacion'] = pd.to_datetime(postulaciones['fechapostulacion'])\n",
    "print(postulaciones['fechapostulacion'].max())\n",
    "print(postulaciones['fechapostulacion'].min())"
   ]
  },
  {
   "cell_type": "code",
   "execution_count": null,
   "metadata": {},
   "outputs": [],
   "source": [
    "postulaciones['fechapostulacion'].head()"
   ]
  },
  {
   "cell_type": "code",
   "execution_count": null,
   "metadata": {},
   "outputs": [],
   "source": [
    "#Cambio timestamp a datetime\n",
    "visitas['timestamp'] = pd.to_datetime(visitas['timestamp'])\n",
    "print(visitas['timestamp'].max())\n",
    "print(visitas['timestamp'].min())"
   ]
  },
  {
   "cell_type": "code",
   "execution_count": null,
   "metadata": {},
   "outputs": [],
   "source": [
    "visitas['timestamp'].head()"
   ]
  },
  {
   "cell_type": "code",
   "execution_count": null,
   "metadata": {},
   "outputs": [],
   "source": [
    "#vemos que hay fechas vacias\n",
    "for x in p_genero_edad['fechanacimiento'].drop_duplicates():\n",
    "    print ([x])"
   ]
  },
  {
   "cell_type": "code",
   "execution_count": 6,
   "metadata": {},
   "outputs": [
    {
     "name": "stdout",
     "output_type": "stream",
     "text": [
      "200888\n",
      "196138\n"
     ]
    }
   ],
   "source": [
    "#p_edad=p_genero_edad[['fechanacimiento','idpostulante']]\n",
    "#separo en dos dataframes para poder utilizar datos del sexo que se perderian si dropeamos junto con las fechas invalidas\n",
    "p_edad=p_genero_edad.loc[:,('fechanacimiento','idpostulante')]\n",
    "p_genero=p_genero_edad.loc[:,('sexo','idpostulante')]\n",
    "print(len(p_edad))\n",
    "p_edad.dropna(inplace=True)\n",
    "print(len(p_edad))"
   ]
  },
  {
   "cell_type": "code",
   "execution_count": null,
   "metadata": {},
   "outputs": [],
   "source": [
    "#siguen habiendo años invalidos\n",
    "p_edad.sort_values('fechanacimiento',ascending=False)"
   ]
  },
  {
   "cell_type": "code",
   "execution_count": null,
   "metadata": {},
   "outputs": [],
   "source": [
    "#me quedo con los años validos\n",
    "p_edad = p_edad[(p_edad['fechanacimiento'].str.startswith('19'))| (p_edad['fechanacimiento'].str.startswith('20'))]"
   ]
  },
  {
   "cell_type": "code",
   "execution_count": null,
   "metadata": {},
   "outputs": [],
   "source": [
    "#veo que los años que empezaban en 00 no estan mas\n",
    "p_edad.sort_values('fechanacimiento',ascending=False)"
   ]
  },
  {
   "cell_type": "code",
   "execution_count": null,
   "metadata": {},
   "outputs": [],
   "source": [
    "#calculo la edad de los postulantes\n",
    "p_edad['edad'] = pd.to_datetime('today').year-pd.to_datetime(p_edad['fechanacimiento']).dt.year\n",
    "p_edad"
   ]
  },
  {
   "cell_type": "code",
   "execution_count": null,
   "metadata": {},
   "outputs": [],
   "source": [
    "print(p_genero_edad.shape)\n",
    "print(p_edad.shape)\n",
    "print(p_educacion.shape)"
   ]
  },
  {
   "cell_type": "code",
   "execution_count": null,
   "metadata": {},
   "outputs": [],
   "source": [
    "#p_genero_edad_validos tiene los datos validos tanto para genero como para edad, por lo tanto tiene menos datos\n",
    "#si se quiere saber algo solamente sobre el genero por ej usar p_genero que tiene mas datos\n",
    "p_genero_edad_validos = pd.merge(p_genero,p_edad,on=\"idpostulante\",how=\"outer\")\n",
    "p_genero_edad_validos.head()"
   ]
  },
  {
   "cell_type": "code",
   "execution_count": null,
   "metadata": {},
   "outputs": [],
   "source": [
    "#aca me parece que habria que limpiar un poco los datos porque en educacion se repiten los id de postulante\n",
    "#porque hay postulantes que aparecen varias veces con distintos estados de educacion\n",
    "postulantes = pd.merge(p_educacion,p_genero_edad_validos,on=\"idpostulante\",how=\"outer\")\n",
    "postulantes.head()"
   ]
  },
  {
   "cell_type": "markdown",
   "metadata": {},
   "source": [
    "# Datos sobre niveles de educacion"
   ]
  },
  {
   "cell_type": "code",
   "execution_count": null,
   "metadata": {},
   "outputs": [],
   "source": [
    "#cantidad de postulantes agrupado por nivel de educación\n",
    "#usando el p_educacion estariamos tomando a cada postulante como varios si es que tiene mas de un estado de educacion\n",
    "p_educacion.groupby('nombre').agg({'idpostulante':'count'}).sort_values('idpostulante',ascending=False)\\\n",
    "                                            .rename(columns={\"idpostulante\": \"cantidad_postulantes\"})"
   ]
  },
  {
   "cell_type": "code",
   "execution_count": null,
   "metadata": {},
   "outputs": [],
   "source": [
    "fig = plt.figure()\n",
    "\n",
    "ax = p_educacion['nombre'].value_counts().plot(kind='bar',figsize=(13,6));\n",
    "\n",
    "plt.title('Cantidad de postulantes por nivel educativo alcanzado', fontsize=24)\n",
    "\n",
    "ax.set_xlabel('Nivel educativo', fontsize= 16)\n",
    "ax.set_ylabel('Cantidad de postulantes', fontsize= 16);"
   ]
  },
  {
   "cell_type": "code",
   "execution_count": null,
   "metadata": {},
   "outputs": [],
   "source": [
    "p_educacion['estado'].value_counts()"
   ]
  },
  {
   "cell_type": "code",
   "execution_count": null,
   "metadata": {},
   "outputs": [],
   "source": [
    "filtered = p_educacion.loc[(p_educacion.estado=='Graduado')]\n",
    "\n",
    "fig = plt.figure()\n",
    "\n",
    "ax = filtered['nombre'].value_counts().plot(kind='bar',figsize=(13,6));\n",
    "\n",
    "plt.title('Cantidad de postulantes por maximo nivel educativo completado', fontsize=24)\n",
    "\n",
    "ax.set_xlabel('Nivel educativo', fontsize= 16)\n",
    "ax.set_ylabel('Cantidad de postulantes', fontsize= 16);"
   ]
  },
  {
   "cell_type": "code",
   "execution_count": null,
   "metadata": {},
   "outputs": [],
   "source": [
    "#¿Cuáles son los niveles de estudio con mayor desercion?\n",
    "#Creo que esto no es muy relevante. Al menos para navent\n",
    "#Tal vez renombrarlo como \"cantidad de postulantes segun el nivel de estudio abandonado o algo asi\"\n",
    "filtered = p_educacion.loc[(p_educacion.estado=='Abandonado')]\n",
    "\n",
    "filtered['nombre'].value_counts()"
   ]
  },
  {
   "cell_type": "code",
   "execution_count": null,
   "metadata": {},
   "outputs": [],
   "source": [
    "fig = plt.figure()\n",
    "\n",
    "ax = filtered['nombre'].value_counts().plot(kind='bar',figsize=(13,6));\n",
    "\n",
    "plt.title('Nivel de desercion de cada nivel de estudio', fontsize=24)\n",
    "\n",
    "ax.set_xlabel('Nivel educativo', fontsize= 16)\n",
    "ax.set_ylabel('Cantidad de postulantes', fontsize= 16);"
   ]
  },
  {
   "cell_type": "code",
   "execution_count": null,
   "metadata": {},
   "outputs": [],
   "source": [
    "#¿Cuales son los niveles de estudio con mayor numero de estudiantes que se postulan?\n",
    "filtered = p_educacion.loc[(p_educacion.estado=='En Curso')]\n",
    "\n",
    "filtered['nombre'].value_counts()"
   ]
  },
  {
   "cell_type": "code",
   "execution_count": null,
   "metadata": {
    "scrolled": true
   },
   "outputs": [],
   "source": [
    "fig = plt.figure()\n",
    "\n",
    "ax = filtered['nombre'].value_counts().plot(kind='bar',figsize=(13,6));\n",
    "\n",
    "plt.title('Cantidad de estudiantes que se postulan segun el nivel educativo en curso', fontsize=24)\n",
    "\n",
    "ax.set_xlabel('Nivel educativo', fontsize= 16)\n",
    "ax.set_ylabel('Cantidad de postulantes', fontsize= 16);"
   ]
  },
  {
   "cell_type": "code",
   "execution_count": null,
   "metadata": {},
   "outputs": [],
   "source": [
    "filtered = p_educacion.loc[(p_educacion.nombre=='Universitario')]\n",
    "\n",
    "fig = plt.figure()\n",
    "\n",
    "ax = filtered['estado'].value_counts().plot(kind='bar',figsize=(13,6));\n",
    "\n",
    "plt.title('Cantidad de postulantes segun su estado Universitario', fontsize=24)\n",
    "\n",
    "ax.set_xlabel('Estado universitario', fontsize= 16)\n",
    "ax.set_ylabel('Cantidad de postulantes', fontsize= 16);"
   ]
  },
  {
   "cell_type": "code",
   "execution_count": null,
   "metadata": {},
   "outputs": [],
   "source": [
    "filtered = p_educacion.loc[(p_educacion.nombre=='Secundario')]\n",
    "\n",
    "fig = plt.figure()\n",
    "\n",
    "ax = filtered['estado'].value_counts().plot(kind='bar',figsize=(13,6));\n",
    "\n",
    "plt.title('Cantidad de postulantes segun su estado Secundario', fontsize=24)\n",
    "\n",
    "ax.set_xlabel('Estado Secundario', fontsize= 16)\n",
    "ax.set_ylabel('Cantidad de postulantes', fontsize= 16);"
   ]
  },
  {
   "cell_type": "code",
   "execution_count": null,
   "metadata": {},
   "outputs": [],
   "source": [
    "#se podrian graficar para los demas niveles de estudio pero no me parecieron tan relevantes por la cantidad de datos que habia\n",
    "filtered = p_educacion.loc[(p_educacion.nombre=='Terciario/Técnico')]\n",
    "\n",
    "fig = plt.figure()\n",
    "\n",
    "ax = filtered['estado'].value_counts().plot(kind='bar',figsize=(13,6));\n",
    "\n",
    "plt.title('Cantidad de postulantes segun su estado Terciario/Técnico', fontsize=24)\n",
    "\n",
    "ax.set_xlabel('Estado Terciario/Técnico', fontsize= 16)\n",
    "ax.set_ylabel('Cantidad de postulantes', fontsize= 16);"
   ]
  },
  {
   "cell_type": "code",
   "execution_count": null,
   "metadata": {},
   "outputs": [],
   "source": [
    "#este creo que tampoco es muy relevante\n",
    "\n",
    "fig = plt.figure()\n",
    "\n",
    "ax = p_educacion['estado'].value_counts().plot(kind='bar',figsize=(13,6));\n",
    "\n",
    "plt.title('Estado del postulante', fontsize=24)\n",
    "\n",
    "ax.set_xlabel('Estado del maximo nivel de estudio alcanzado', fontsize= 16)\n",
    "ax.set_ylabel('Cantidad de postulantes', fontsize= 16);"
   ]
  },
  {
   "cell_type": "markdown",
   "metadata": {},
   "source": [
    "# Datos segun genero y edad"
   ]
  },
  {
   "cell_type": "code",
   "execution_count": null,
   "metadata": {},
   "outputs": [],
   "source": [
    "p_genero['sexo'].value_counts()"
   ]
  },
  {
   "cell_type": "code",
   "execution_count": null,
   "metadata": {},
   "outputs": [],
   "source": [
    "fig = plt.figure()\n",
    "\n",
    "ax = p_genero['sexo'].value_counts().plot(kind='bar',figsize=(10,6));\n",
    "\n",
    "plt.title('Cantidad de postulantes por genero', fontsize=24)\n",
    "\n",
    "ax.set_xlabel('Genero', fontsize= 16)\n",
    "ax.set_ylabel('Cantidad de postulantes', fontsize= 16);"
   ]
  },
  {
   "cell_type": "code",
   "execution_count": null,
   "metadata": {},
   "outputs": [],
   "source": [
    "#calculo la edad de los postulantes\n",
    "p_edad['edad'] = pd.to_datetime('today').year-pd.to_datetime(p_edad['fechanacimiento']).dt.year"
   ]
  },
  {
   "cell_type": "code",
   "execution_count": null,
   "metadata": {},
   "outputs": [],
   "source": [
    "#p_edad = p_edad[(p_edad['edad'] <= 65) & (p_edad['edad'] >= 18)]\n",
    "#deje todas las edades pero se pueden reducir con la linea de arriba\n",
    "fig = plt.figure()\n",
    "ax = fig.add_subplot(111)\n",
    "plt.title('Distribucion edad')\n",
    "ax.set_xlabel('Edad')\n",
    "ax.set_ylabel('Personas')\n",
    "p_edad['edad'].value_counts().sort_index().plot(kind='bar',figsize=(13,6))\n",
    "plt.show()"
   ]
  },
  {
   "cell_type": "code",
   "execution_count": null,
   "metadata": {},
   "outputs": [],
   "source": [
    "print(p_edad['edad'].max())\n",
    "print(p_edad['edad'].min())"
   ]
  },
  {
   "cell_type": "code",
   "execution_count": null,
   "metadata": {},
   "outputs": [],
   "source": [
    "#elegir uno de los dos siguientes histogramas\n",
    "fig = plt.figure()\n",
    "ax = fig.add_subplot(111)\n",
    "plt.title('Distribucion edad')\n",
    "ax.set_xlabel('Edad')\n",
    "p_edad['edad'].plot(kind='hist',figsize=(13,6))\n",
    "plt.show()"
   ]
  },
  {
   "cell_type": "code",
   "execution_count": null,
   "metadata": {},
   "outputs": [],
   "source": [
    "fig = plt.figure(figsize = (13,6))\n",
    "\n",
    "anios = [18, 21, 30, 40, 50 , 65]\n",
    "\n",
    "plt.hist(p_edad['edad'], anios)\n",
    "\n",
    "plt.show()"
   ]
  },
  {
   "cell_type": "markdown",
   "metadata": {},
   "source": [
    "# Datos de avisos"
   ]
  },
  {
   "cell_type": "code",
   "execution_count": null,
   "metadata": {},
   "outputs": [],
   "source": [
    "print(avisos_detalle['tipo_de_trabajo'].unique())"
   ]
  },
  {
   "cell_type": "code",
   "execution_count": null,
   "metadata": {},
   "outputs": [],
   "source": [
    "#cantidad de avisos por tipo de trabajo (full time, part time...)\n",
    "avisos_detalle.groupby('tipo_de_trabajo').agg({'tipo_de_trabajo':'count'}).sort_values('tipo_de_trabajo',ascending=False)\\\n",
    "                .rename(columns={\"tipo_de_trabajo\": \"cantidad_avisos\"})"
   ]
  },
  {
   "cell_type": "code",
   "execution_count": null,
   "metadata": {},
   "outputs": [],
   "source": [
    "fig = plt.figure()\n",
    "\n",
    "ax = avisos_detalle['tipo_de_trabajo'].value_counts().plot(kind='bar',figsize=(13,6));\n",
    "\n",
    "plt.title('Cantidad de avisos por tipo de trabajo', fontsize=24)\n",
    "\n",
    "ax.set_xlabel('Tipo de trabajo', fontsize= 16)\n",
    "ax.set_ylabel('Cantidad de avisos', fontsize= 16);"
   ]
  },
  {
   "cell_type": "code",
   "execution_count": null,
   "metadata": {},
   "outputs": [],
   "source": [
    "#empresas con mayor cantidad de avisos\n",
    "avisos_detalle.groupby('denominacion_empresa').agg({'denominacion_empresa':'size'}).sort_values('denominacion_empresa',ascending=False)\\\n",
    "                      .rename(columns={\"denominacion_empresa\": \"cantidad_avisos\"})      "
   ]
  },
  {
   "cell_type": "code",
   "execution_count": null,
   "metadata": {},
   "outputs": [],
   "source": [
    "fig = plt.figure()\n",
    "\n",
    "ax = avisos_detalle['denominacion_empresa'].value_counts().head(20).plot(kind='bar',figsize=(13,6));\n",
    "\n",
    "plt.title('Top 20 de empresas con mayor cantidad de avisos', fontsize=24)\n",
    "\n",
    "ax.set_xlabel('Empresas', fontsize= 16)\n",
    "ax.set_ylabel('Cantidad de avisos', fontsize= 16);"
   ]
  },
  {
   "cell_type": "code",
   "execution_count": null,
   "metadata": {},
   "outputs": [],
   "source": [
    "#Zonas con mayor cantidad de avisos\n",
    "avisos_detalle.groupby('nombre_zona').agg({'nombre_zona':'size'}).sort_values('nombre_zona',ascending=False)\\\n",
    "                      .rename(columns={\"nombre_zona\": \"cantidad_avisos\"})   "
   ]
  },
  {
   "cell_type": "code",
   "execution_count": null,
   "metadata": {},
   "outputs": [],
   "source": [
    "fig = plt.figure()\n",
    "\n",
    "ax = avisos_detalle['nombre_zona'].value_counts().head(20).plot(kind='bar',figsize=(13,6));\n",
    "\n",
    "plt.title('Zonas con mayor cantidad de avisos', fontsize=24)\n",
    "\n",
    "ax.set_xlabel('Zonas', fontsize= 16)\n",
    "ax.set_ylabel('Cantidad de avisos', fontsize= 16);"
   ]
  },
  {
   "cell_type": "code",
   "execution_count": null,
   "metadata": {},
   "outputs": [],
   "source": [
    "#Areas con mayor cantidad de avisos\n",
    "avisos_detalle.groupby('nombre_area').agg({'nombre_area':'size'}).sort_values('nombre_area',ascending=False)\\\n",
    "                      .rename(columns={\"nombre_area\": \"cantidad_avisos\"})   "
   ]
  },
  {
   "cell_type": "code",
   "execution_count": null,
   "metadata": {},
   "outputs": [],
   "source": [
    "fig = plt.figure()\n",
    "\n",
    "ax = avisos_detalle['nombre_area'].value_counts().head(20).plot(kind='bar',figsize=(13,6));\n",
    "\n",
    "plt.title('Top 20 areas con mayor cantidad de avisos', fontsize=24)\n",
    "\n",
    "ax.set_xlabel('Area', fontsize= 16)\n",
    "ax.set_ylabel('Cantidad de avisos', fontsize= 16);"
   ]
  },
  {
   "cell_type": "code",
   "execution_count": null,
   "metadata": {},
   "outputs": [],
   "source": [
    "#Nivel laboral con mayor cantidad de avisos\n",
    "avisos_detalle.groupby('nivel_laboral').agg({'nivel_laboral':'size'}).sort_values('nivel_laboral',ascending=False)\\\n",
    "                      .rename(columns={\"nivel_laboral\": \"cantidad_avisos\"})  "
   ]
  },
  {
   "cell_type": "code",
   "execution_count": null,
   "metadata": {},
   "outputs": [],
   "source": [
    "fig = plt.figure()\n",
    "\n",
    "ax = avisos_detalle['nivel_laboral'].value_counts().plot(kind='bar',figsize=(13,6));\n",
    "\n",
    "plt.title('Cantidad de avisos por nivel laboral', fontsize=24)\n",
    "\n",
    "ax.set_xlabel('Nivel laboral', fontsize= 16)\n",
    "ax.set_ylabel('Cantidad de avisos', fontsize= 16);"
   ]
  },
  {
   "cell_type": "markdown",
   "metadata": {},
   "source": [
    "# Postulaciones por dia de semana "
   ]
  },
  {
   "cell_type": "code",
   "execution_count": null,
   "metadata": {},
   "outputs": [],
   "source": [
    "postulaciones['dia_semana'] = postulaciones['fechapostulacion'].dt.weekday_name"
   ]
  },
  {
   "cell_type": "code",
   "execution_count": null,
   "metadata": {},
   "outputs": [],
   "source": [
    "postulaciones.head()"
   ]
  },
  {
   "cell_type": "code",
   "execution_count": null,
   "metadata": {},
   "outputs": [],
   "source": [
    "postulaciones['dia_semana'].value_counts()"
   ]
  },
  {
   "cell_type": "code",
   "execution_count": null,
   "metadata": {},
   "outputs": [],
   "source": [
    "fig = plt.figure()\n",
    "ax = fig.add_subplot(111)\n",
    "plt.title('Postulaciones x Dia de Semana')\n",
    "ax.set_xlabel('Dia de Semana')\n",
    "ax.set_ylabel('Postulaciones')\n",
    "#dt.weekday.value_counts().sort_index() \n",
    "postulaciones['dia_semana'].value_counts().plot(kind='bar')\n",
    "plt.show()"
   ]
  },
  {
   "cell_type": "code",
   "execution_count": null,
   "metadata": {},
   "outputs": [],
   "source": [
    "#este habria que cambiar los numeros por los nombres de los dias\n",
    "#o en el de arriba lograr que los dias queden ordenados\n",
    "fig = plt.figure()\n",
    "ax = fig.add_subplot(111)\n",
    "plt.title('Postulaciones x Dia de Semana')\n",
    "ax.set_xlabel('Dia de Semana')\n",
    "ax.set_ylabel('Postulaciones')\n",
    "#dt.weekday.value_counts().sort_index() \n",
    "postulaciones['fechapostulacion'].dt.weekday.value_counts().sort_index().plot(kind='bar')\n",
    "\n",
    "plt.show()"
   ]
  },
  {
   "cell_type": "code",
   "execution_count": null,
   "metadata": {},
   "outputs": [],
   "source": [
    "postulaciones.head()"
   ]
  },
  {
   "cell_type": "markdown",
   "metadata": {},
   "source": [
    "# Postulaciones por dia del mes"
   ]
  },
  {
   "cell_type": "code",
   "execution_count": null,
   "metadata": {},
   "outputs": [],
   "source": [
    "#Postulaciones enero\n",
    "postulaciones_dia_mes = postulaciones[postulaciones['fechapostulacion'] < '02-01-2018']"
   ]
  },
  {
   "cell_type": "code",
   "execution_count": null,
   "metadata": {},
   "outputs": [],
   "source": [
    "postulaciones_dia_mes.head()"
   ]
  },
  {
   "cell_type": "code",
   "execution_count": null,
   "metadata": {},
   "outputs": [],
   "source": [
    "postulaciones_dia_mes['dia_mes'] = postulaciones_dia_mes.loc[:,'fechapostulacion'].dt.day"
   ]
  },
  {
   "cell_type": "code",
   "execution_count": null,
   "metadata": {},
   "outputs": [],
   "source": [
    "postulaciones_dia_mes.head()"
   ]
  },
  {
   "cell_type": "code",
   "execution_count": null,
   "metadata": {},
   "outputs": [],
   "source": [
    "fig=plt.figure()\n",
    "ax = fig.add_subplot(111)\n",
    "\n",
    "plt.title('Postulaciones x Dia del Mes (Enero)')\n",
    "ax.set_xlabel('Dia')\n",
    "ax.set_ylabel('Postulaciones')\n",
    "postulaciones_dia_mes['dia_mes'].value_counts().sort_index().plot(kind='bar')\n",
    "\n",
    "plt.show()"
   ]
  },
  {
   "cell_type": "code",
   "execution_count": null,
   "metadata": {},
   "outputs": [],
   "source": [
    "#Postulaciones febrero\n",
    "postulaciones_dia_mes = postulaciones[postulaciones['fechapostulacion'] >= '02-01-2018']"
   ]
  },
  {
   "cell_type": "code",
   "execution_count": null,
   "metadata": {},
   "outputs": [],
   "source": [
    "postulaciones_dia_mes.head()"
   ]
  },
  {
   "cell_type": "code",
   "execution_count": null,
   "metadata": {},
   "outputs": [],
   "source": [
    "postulaciones_dia_mes['dia_mes'] = postulaciones_dia_mes['fechapostulacion'].dt.day"
   ]
  },
  {
   "cell_type": "code",
   "execution_count": null,
   "metadata": {},
   "outputs": [],
   "source": [
    "postulaciones_dia_mes.head()"
   ]
  },
  {
   "cell_type": "code",
   "execution_count": null,
   "metadata": {},
   "outputs": [],
   "source": [
    "fig=plt.figure()\n",
    "ax = fig.add_subplot(111)\n",
    "\n",
    "plt.title('Postulaciones x Dia del Mes (Febrero)')\n",
    "ax.set_xlabel('Dia')\n",
    "ax.set_ylabel('Postulaciones')\n",
    "postulaciones_dia_mes['dia_mes'].value_counts().sort_index().plot(kind='bar')\n",
    "\n",
    "plt.show()"
   ]
  },
  {
   "cell_type": "markdown",
   "metadata": {},
   "source": [
    "# Postulaciones por mes"
   ]
  },
  {
   "cell_type": "code",
   "execution_count": null,
   "metadata": {},
   "outputs": [],
   "source": [
    "postulaciones['mes_postulacion']=postulaciones['fechapostulacion'].dt.month\n",
    "postulaciones.head()"
   ]
  },
  {
   "cell_type": "code",
   "execution_count": null,
   "metadata": {},
   "outputs": [],
   "source": [
    "#con estos datos capaz se podrian hacer otro graficos mas copados\n",
    "#cambiar 1 y 2 por enero y febrero\n",
    "fig=plt.figure()\n",
    "ax = fig.add_subplot(111)\n",
    "\n",
    "plt.title('Cantidad postulaciones x Mes')\n",
    "ax.set_xlabel('Mes')\n",
    "ax.set_ylabel('Postulaciones')\n",
    "postulaciones['mes_postulacion'].value_counts().sort_index().plot(kind='bar')\n",
    "\n",
    "plt.show()"
   ]
  },
  {
   "cell_type": "markdown",
   "metadata": {},
   "source": [
    "# Postulaciones por franja horaria"
   ]
  },
  {
   "cell_type": "code",
   "execution_count": null,
   "metadata": {},
   "outputs": [],
   "source": [
    "postulaciones['fechapostulacion'].dt.hour.value_counts()"
   ]
  },
  {
   "cell_type": "code",
   "execution_count": null,
   "metadata": {},
   "outputs": [],
   "source": [
    "#capaz es mejor otro grafico para esto\n",
    "fig = plt.figure()\n",
    "ax = fig.add_subplot(111)\n",
    "plt.title('Distribucion horaria de postulaciones')\n",
    "ax.set_xlabel('Hora')\n",
    "postulaciones['fechapostulacion'].dt.hour.plot(kind='hist',figsize=(13,6))\n",
    "\n",
    "plt.show()"
   ]
  },
  {
   "cell_type": "code",
   "execution_count": null,
   "metadata": {},
   "outputs": [],
   "source": [
    "#es igual al de arriba solo que le cambie las franjas\n",
    "fig = plt.figure(figsize = (13,6))\n",
    "ax = fig.add_subplot(111)\n",
    "plt.title('Distribucion horaria de postulaciones')\n",
    "ax.set_xlabel('Hora')\n",
    "franjas = [0,7, 12, 19, 23]\n",
    "plt.hist(postulaciones['fechapostulacion'].dt.hour, franjas)\n",
    "\n",
    "plt.show()"
   ]
  },
  {
   "cell_type": "markdown",
   "metadata": {},
   "source": [
    "# Datos de vistas"
   ]
  },
  {
   "cell_type": "code",
   "execution_count": null,
   "metadata": {},
   "outputs": [],
   "source": [
    "visitas.head()"
   ]
  },
  {
   "cell_type": "code",
   "execution_count": null,
   "metadata": {},
   "outputs": [],
   "source": [
    "#capaz es mejor otro grafico para esto\n",
    "fig = plt.figure()\n",
    "ax = fig.add_subplot(111)\n",
    "plt.title('Distribucion horaria de vistas de avisos')\n",
    "ax.set_xlabel('Hora')\n",
    "visitas['timestamp'].dt.hour.plot(kind='hist',figsize=(13,6))\n",
    "\n",
    "plt.show()"
   ]
  },
  {
   "cell_type": "code",
   "execution_count": null,
   "metadata": {},
   "outputs": [],
   "source": [
    "#lo mismo que el anterior pero por cada hora\n",
    "fig=plt.figure()\n",
    "ax = fig.add_subplot(111)\n",
    "\n",
    "plt.title('Cantidad de visitas x Hora')\n",
    "ax.set_xlabel('Hora')\n",
    "ax.set_ylabel('Visitas')\n",
    "visitas['timestamp'].dt.hour.value_counts().sort_index().plot(kind='bar')\n",
    "\n",
    "plt.show()"
   ]
  },
  {
   "cell_type": "code",
   "execution_count": null,
   "metadata": {},
   "outputs": [],
   "source": [
    "visitas['timestamp'].dt.month.value_counts()"
   ]
  },
  {
   "cell_type": "code",
   "execution_count": null,
   "metadata": {},
   "outputs": [],
   "source": [
    "print(visitas['timestamp'].min())\n",
    "print(visitas['timestamp'].max())"
   ]
  },
  {
   "cell_type": "code",
   "execution_count": null,
   "metadata": {},
   "outputs": [],
   "source": [
    "#este grafico no tiene mucho sentido porque no hay casi datos de marzo\n",
    "#cambiar 2 y 3 por febrero y marzo\n",
    "fig=plt.figure()\n",
    "ax = fig.add_subplot(111)\n",
    "\n",
    "plt.title('Cantidad de visitas x Mes')\n",
    "ax.set_xlabel('Mes')\n",
    "ax.set_ylabel('Visitas')\n",
    "visitas['timestamp'].dt.month.value_counts().sort_index().plot(kind='bar')\n",
    "\n",
    "plt.show()"
   ]
  },
  {
   "cell_type": "code",
   "execution_count": null,
   "metadata": {},
   "outputs": [],
   "source": [
    "#agregar nombre de los dias de la semana\n",
    "fig=plt.figure()\n",
    "ax = fig.add_subplot(111)\n",
    "\n",
    "plt.title('Cantidad de visitas x dia de la semana')\n",
    "ax.set_xlabel('Dia')\n",
    "ax.set_ylabel('Visitas')\n",
    "visitas['timestamp'].dt.weekday.value_counts().sort_index().plot(kind='bar')\n",
    "\n",
    "plt.show()"
   ]
  },
  {
   "cell_type": "markdown",
   "metadata": {},
   "source": [
    "# Analisis mas complejo de datos\n",
    "Aca irian todos los analisis de los merge de los dataframes\n",
    "Anoto un par de ejemplos aca :\n",
    "\n",
    "- tipos de trabajo con mas postulantes por edad\n",
    "- tipos de trabajo con mas postulantes graduados\n",
    "- tipos de trabajo con mas postulantes estudiantes\n",
    "- tipos de trabajo con mas postulantes estudiantes de secundario\n",
    "- tipos de trabajo con mas postulantes estudiantes universitarios\n",
    "- empresas con mas postulantes por edad\n",
    "- empresas con mas postulantes graduados\n",
    "- titulos de avisos con mas postulantes por edad\n",
    "- zonas con mas postulantes por edad\n",
    "- zonas con mas postulantes estudiantes universitarios\n",
    "- areas de trabajo con mas postulantes por edad\n",
    "- areas de trabajo con mas postulantes graduados\n",
    "- areas de trabajo con mas postulantes estudiantes\n",
    "- areas de trabajo con mas postulantes estudiantes universitarios\n",
    "\n",
    "- nivel laboral con mas postulantes graduados\n",
    "- nivel laboral con mas postulantes estudiantes\n"
   ]
  },
  {
   "cell_type": "code",
   "execution_count": null,
   "metadata": {},
   "outputs": [],
   "source": [
    "#avisos con mayor cantidad de postulantes\n",
    "postulaciones.groupby('idaviso').agg({'idpostulante':'count'}).sort_values('idpostulante',ascending=False)\\\n",
    "                     .rename(columns={\"idpostulante\": \"cantidad_postulantes\"})    "
   ]
  },
  {
   "cell_type": "code",
   "execution_count": 7,
   "metadata": {},
   "outputs": [],
   "source": [
    "merge2 = pd.merge(postulaciones,avisos_detalle,on=\"idaviso\",how=\"left\")"
   ]
  },
  {
   "cell_type": "code",
   "execution_count": null,
   "metadata": {},
   "outputs": [],
   "source": [
    "#aca en realidad querria saber el titulo del aviso\n",
    "#no se que tan relevante seria este grafico igual\n",
    "\n",
    "fig = plt.figure()\n",
    "\n",
    "ax = merge2['idaviso'].value_counts().head(10).plot(kind='bar',figsize=(13,6));\n",
    "\n",
    "plt.title('Top 10 avisos con mayor cantidad de postulantes', fontsize=24)\n",
    "\n",
    "ax.set_xlabel('Avisos', fontsize= 16)\n",
    "ax.set_ylabel('Cantidad de postulantes', fontsize= 16);"
   ]
  },
  {
   "cell_type": "code",
   "execution_count": null,
   "metadata": {},
   "outputs": [],
   "source": [
    "fig = plt.figure()\n",
    "\n",
    "ax = merge2['titulo'].value_counts().head(10).plot(kind='bar',figsize=(13,6));\n",
    "\n",
    "plt.title('Tipos de avisos con mayor cantidad de postulantes', fontsize=24)\n",
    "\n",
    "ax.set_xlabel('Avisos', fontsize= 16)\n",
    "ax.set_ylabel('Cantidad de postulantes', fontsize= 16);"
   ]
  },
  {
   "cell_type": "code",
   "execution_count": null,
   "metadata": {},
   "outputs": [],
   "source": [
    "fig = plt.figure()\n",
    "\n",
    "ax = merge2['nombre_zona'].value_counts().plot(kind='bar',figsize=(13,6));\n",
    "\n",
    "plt.title('Cantidad de postulantes por zona', fontsize=24)\n",
    "\n",
    "ax.set_xlabel('Zona', fontsize= 16)\n",
    "ax.set_ylabel('Cantidad de postulantes', fontsize= 16);"
   ]
  },
  {
   "cell_type": "code",
   "execution_count": null,
   "metadata": {},
   "outputs": [],
   "source": [
    "fig = plt.figure()\n",
    "\n",
    "ax = merge2['tipo_de_trabajo'].value_counts().plot(kind='bar',figsize=(13,6));\n",
    "\n",
    "plt.title('Tipos de trabajo con mayor cantidad de postulantes', fontsize=24)\n",
    "\n",
    "ax.set_xlabel('Tipo de trabajo', fontsize= 16)\n",
    "ax.set_ylabel('Cantidad de postulantes', fontsize= 16);"
   ]
  },
  {
   "cell_type": "code",
   "execution_count": null,
   "metadata": {},
   "outputs": [],
   "source": [
    "fig = plt.figure()\n",
    "\n",
    "ax = merge2['nivel_laboral'].value_counts().plot(kind='bar',figsize=(13,6));\n",
    "\n",
    "plt.title('Nivel laboral con mayor cantidad de postulantes', fontsize=24)\n",
    "\n",
    "ax.set_xlabel('Nivel laboral', fontsize= 16)\n",
    "ax.set_ylabel('Cantidad de postulantes', fontsize= 16);"
   ]
  },
  {
   "cell_type": "code",
   "execution_count": null,
   "metadata": {},
   "outputs": [],
   "source": [
    "fig = plt.figure()\n",
    "\n",
    "ax = merge2['denominacion_empresa'].value_counts().head(20).plot(kind='bar',figsize=(13,6));\n",
    "\n",
    "plt.title('Top 20 de empresas con mayor cantidad de postulantes', fontsize=24)\n",
    "\n",
    "ax.set_xlabel('Empresas', fontsize= 16)\n",
    "ax.set_ylabel('Cantidad de postulantes', fontsize= 16);"
   ]
  },
  {
   "cell_type": "code",
   "execution_count": 8,
   "metadata": {},
   "outputs": [],
   "source": [
    "postulantes_genero_avisos = pd.merge(merge2,p_genero,on=\"idpostulante\",how=\"left\")"
   ]
  },
  {
   "cell_type": "code",
   "execution_count": 11,
   "metadata": {},
   "outputs": [
    {
     "data": {
      "image/png": "[encoded data removed]",
      "text/plain": [
       "<Figure size 936x432 with 1 Axes>"
      ]
     },
     "metadata": {},
     "output_type": "display_data"
    }
   ],
   "source": [
    "fig = plt.figure()\n",
    "\n",
    "filtered=postulantes_genero_avisos.loc[(postulantes_genero_avisos.sexo=='FEM')]\n",
    "\n",
    "ax = filtered['tipo_de_trabajo'].value_counts().plot(kind='bar',figsize=(13,6));\n",
    "\n",
    "plt.title('Tipos de trabajo con mayor cantidad de postulantes mujeres', fontsize=24)\n",
    "\n",
    "ax.set_xlabel('Tipo de trabajo', fontsize= 16)\n",
    "ax.set_ylabel('Cantidad de postulantes', fontsize= 16);"
   ]
  },
  {
   "cell_type": "code",
   "execution_count": 12,
   "metadata": {},
   "outputs": [
    {
     "data": {
      "image/png": "[encoded data removed]",
      "text/plain": [
       "<Figure size 936x432 with 1 Axes>"
      ]
     },
     "metadata": {},
     "output_type": "display_data"
    }
   ],
   "source": [
    "fig = plt.figure()\n",
    "\n",
    "filtered=postulantes_genero_avisos.loc[(postulantes_genero_avisos.sexo=='MASC')]\n",
    "\n",
    "ax = filtered['tipo_de_trabajo'].value_counts().plot(kind='bar',figsize=(13,6));\n",
    "\n",
    "plt.title('Tipos de trabajo con mayor cantidad de postulantes hombres', fontsize=24)\n",
    "\n",
    "ax.set_xlabel('Tipo de trabajo', fontsize= 16)\n",
    "ax.set_ylabel('Cantidad de postulantes', fontsize= 16);"
   ]
  },
  {
   "cell_type": "code",
   "execution_count": 14,
   "metadata": {},
   "outputs": [
    {
     "data": {
      "image/png": "[encoded data removed]",
      "text/plain": [
       "<Figure size 936x432 with 1 Axes>"
      ]
     },
     "metadata": {},
     "output_type": "display_data"
    }
   ],
   "source": [
    "fig = plt.figure()\n",
    "\n",
    "filtered=postulantes_genero_avisos.loc[(postulantes_genero_avisos.sexo=='MASC')]\n",
    "\n",
    "ax = filtered['denominacion_empresa'].value_counts().head(20).plot(kind='bar',figsize=(13,6));\n",
    "\n",
    "plt.title('Top 20 empresas con mayor cantidad de postulantes hombres', fontsize=24)\n",
    "\n",
    "ax.set_xlabel('Empresa', fontsize= 16)\n",
    "ax.set_ylabel('Cantidad de postulantes ', fontsize= 16);"
   ]
  },
  {
   "cell_type": "code",
   "execution_count": 16,
   "metadata": {},
   "outputs": [
    {
     "data": {
      "image/png": "[encoded data removed]",
      "text/plain": [
       "<Figure size 936x432 with 1 Axes>"
      ]
     },
     "metadata": {},
     "output_type": "display_data"
    }
   ],
   "source": [
    "fig = plt.figure()\n",
    "\n",
    "filtered=postulantes_genero_avisos.loc[(postulantes_genero_avisos.sexo=='FEM')]\n",
    "\n",
    "ax = filtered['denominacion_empresa'].value_counts().head(20).plot(kind='bar',figsize=(13,6));\n",
    "\n",
    "plt.title('Top 20 empresas con mayor cantidad de postulantes mujeres', fontsize=24)\n",
    "\n",
    "ax.set_xlabel('Empresa', fontsize= 16)\n",
    "ax.set_ylabel('Cantidad de postulantes ', fontsize= 16);"
   ]
  },
  {
   "cell_type": "code",
   "execution_count": 17,
   "metadata": {},
   "outputs": [
    {
     "data": {
      "image/png": "[encoded data removed]",
      "text/plain": [
       "<Figure size 936x432 with 1 Axes>"
      ]
     },
     "metadata": {},
     "output_type": "display_data"
    }
   ],
   "source": [
    "fig = plt.figure()\n",
    "\n",
    "filtered=postulantes_genero_avisos.loc[(postulantes_genero_avisos.sexo=='MASC')]\n",
    "\n",
    "ax = filtered['nombre_area'].value_counts().head(20).plot(kind='bar',figsize=(13,6));\n",
    "\n",
    "plt.title('Areas de trabajo con mayor cantidad de postulantes hombres', fontsize=24)\n",
    "\n",
    "ax.set_xlabel('Area', fontsize= 16)\n",
    "ax.set_ylabel('Cantidad de postulantes ', fontsize= 16);"
   ]
  },
  {
   "cell_type": "code",
   "execution_count": 18,
   "metadata": {},
   "outputs": [
    {
     "data": {
      "image/png": "[encoded data removed]",
      "text/plain": [
       "<Figure size 936x432 with 1 Axes>"
      ]
     },
     "metadata": {},
     "output_type": "display_data"
    }
   ],
   "source": [
    "fig = plt.figure()\n",
    "\n",
    "filtered=postulantes_genero_avisos.loc[(postulantes_genero_avisos.sexo=='FEM')]\n",
    "\n",
    "ax = filtered['nombre_area'].value_counts().head(20).plot(kind='bar',figsize=(13,6));\n",
    "\n",
    "plt.title('Areas de trabajo con mayor cantidad de postulantes mujeres', fontsize=24)\n",
    "\n",
    "ax.set_xlabel('Area', fontsize= 16)\n",
    "ax.set_ylabel('Cantidad de postulantes ', fontsize= 16);"
   ]
  },
  {
   "cell_type": "markdown",
   "metadata": {},
   "source": [
    "# Top 5 - Postulaciones x Area de trabajo"
   ]
  },
  {
   "cell_type": "code",
   "execution_count": null,
   "metadata": {},
   "outputs": [],
   "source": [
    "df = pd.merge(postulaciones, avisos_detalle, on='idaviso', how='inner')"
   ]
  },
  {
   "cell_type": "code",
   "execution_count": null,
   "metadata": {},
   "outputs": [],
   "source": [
    "fig = plt.figure()\n",
    "ax = fig.add_subplot(111)\n",
    "\n",
    "plt.title('Postulaciones x Area (Top 5)')\n",
    "ax.set_xlabel('Area')\n",
    "ax.set_ylabel('Postulaciones')\n",
    "df['nombre_area'].value_counts().head().plot(kind='bar')\n",
    "\n",
    "plt.show()"
   ]
  },
  {
   "cell_type": "code",
   "execution_count": null,
   "metadata": {},
   "outputs": [],
   "source": [
    "#este me tira un memory error\n",
    "fig = plt.figure()\n",
    "ax = fig.add_subplot(111)\n",
    "\n",
    "plt.title('Postulaciones x Zona (Dentro de ventas)')\n",
    "ax.set_xlabel('Zona')\n",
    "ax.set_ylabel('Postulaciones')\n",
    "merge2[merge2['nombre_area'] == 'Ventas']['nombre_zona'].value_counts().plot(kind='bar')\n",
    "plt.show()"
   ]
  },
  {
   "cell_type": "markdown",
   "metadata": {},
   "source": [
    "# Tasa de conversion de avisos (postulaciones / visitas)\n",
    "\n",
    "Agrego esto que puso natalia en Piazza para que lo lean. Por lo que vi, en el csv de vistas no hay idUsuario null, por lo que entiendo que en este csv solo tenemos las vistas de los usuarios que estaba logeados antes de postularse.\n",
    "Entonces puede pasar que tengamos postulaciones de usuarios pero que no tengamos las vistas previas a la postulacion.\n",
    "Tambien tenemos que chequear y limpiar que en las vistas seguramente hay usuarios duplicados.\n",
    "\n",
    "Natalia Golmar 10 hours ago\n",
    "Hola\n",
    "\n",
    "Consulte este tema con la gente de Navent, y les comparto algunas respuestas:\n",
    "\n",
    "- Las vistas se guardan solo para usuarios logueados en el sistema? No, se guardan todas las vistas y si el usuario no está logueado en el registro no tiene el campo idUsuario (no recuerdan si filtraron y nos enviaron sólo las vistas con usuarios, pero si es asi entiendan que seguro hay vistas sin idUsuario para los avisos)\n",
    "- Es posible mirar avisos sin loguearse? Si\n",
    "- Es posible que el usuario se loguee solo al postularse, y no quede registado el acceso al aviso como vista? Si\n",
    "- Si un usuario visita mas de una vez un aviso, se registra cada vista o se registra solo la 1ra? Todas"
   ]
  },
  {
   "cell_type": "code",
   "execution_count": null,
   "metadata": {},
   "outputs": [],
   "source": [
    "postulaciones.head()"
   ]
  },
  {
   "cell_type": "code",
   "execution_count": null,
   "metadata": {},
   "outputs": [],
   "source": [
    "#me quedo con la fecha de la postulacion\n",
    "postulaciones['fechapostulacion'] = postulaciones['fechapostulacion'].dt.date"
   ]
  },
  {
   "cell_type": "code",
   "execution_count": null,
   "metadata": {},
   "outputs": [],
   "source": [
    "#lo mismo para el timestamp\n",
    "visitas['timestamp'] = visitas['timestamp'].dt.date"
   ]
  },
  {
   "cell_type": "code",
   "execution_count": null,
   "metadata": {},
   "outputs": [],
   "source": [
    "postulaciones_validas = postulaciones[postulaciones['fechapostulacion'].isin(visitas['timestamp'])]"
   ]
  },
  {
   "cell_type": "code",
   "execution_count": null,
   "metadata": {},
   "outputs": [],
   "source": [
    "visitas_validas = visitas[visitas['timestamp'].isin(postulaciones_validas['fechapostulacion'])]"
   ]
  },
  {
   "cell_type": "code",
   "execution_count": null,
   "metadata": {},
   "outputs": [],
   "source": [
    "visitas_validas['timestamp'].value_counts()"
   ]
  },
  {
   "cell_type": "code",
   "execution_count": null,
   "metadata": {},
   "outputs": [],
   "source": [
    "postulaciones_validas['fechapostulacion'].value_counts()"
   ]
  },
  {
   "cell_type": "code",
   "execution_count": null,
   "metadata": {},
   "outputs": [],
   "source": [
    "postulaciones_validas = postulaciones_validas.rename(columns={'fechapostulacion':'fecha'})\n",
    "postulaciones_validas.head()"
   ]
  },
  {
   "cell_type": "code",
   "execution_count": null,
   "metadata": {},
   "outputs": [],
   "source": [
    "visitas_validas = visitas_validas.rename(columns={'idAviso':'idaviso','timestamp':'fecha'})\n",
    "visitas_validas.head()"
   ]
  },
  {
   "cell_type": "code",
   "execution_count": null,
   "metadata": {},
   "outputs": [],
   "source": [
    "print (postulaciones_validas.shape)\n",
    "print (visitas_validas.shape)"
   ]
  }
 ],
 "metadata": {
  "kernelspec": {
   "display_name": "Python 3",
   "language": "python",
   "name": "python3"
  },
  "language_info": {
   "codemirror_mode": {
    "name": "ipython",
    "version": 3
   },
   "file_extension": ".py",
   "mimetype": "text/x-python",
   "name": "python",
   "nbconvert_exporter": "python",
   "pygments_lexer": "ipython3",
   "version": "3.6.4"
  }
 },
 "nbformat": 4,
 "nbformat_minor": 2
}
